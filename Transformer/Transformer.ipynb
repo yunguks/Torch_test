{
 "cells": [
  {
   "cell_type": "markdown",
   "metadata": {},
   "source": [
    "BLEu Score 계산을 위한 라이브러리 업데이트\n",
    "번역한 문장이 얼마나 유사한지를 평가해주는 평가 척도"
   ]
  },
  {
   "cell_type": "code",
   "execution_count": null,
   "metadata": {},
   "outputs": [],
   "source": [
    "!pip install torchtext==0.6.0"
   ]
  }
 ],
 "metadata": {
  "language_info": {
   "name": "python"
  },
  "orig_nbformat": 4
 },
 "nbformat": 4,
 "nbformat_minor": 2
}
