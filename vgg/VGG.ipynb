{
 "cells": [
  {
   "cell_type": "code",
   "execution_count": 40,
   "metadata": {},
   "outputs": [
    {
     "name": "stdout",
     "output_type": "stream",
     "text": [
      "torch : 1.11.0\n",
      "python : 3.8.12 (default, Oct 12 2021, 13:49:34) \n",
      "[GCC 7.5.0]\n"
     ]
    }
   ],
   "source": [
    "import torch\n",
    "import torch.nn as nn\n",
    "import torch.nn.functional as F\n",
    "import torchvision\n",
    "import torchvision.transforms as transforms\n",
    "import torch.optim as optim\n",
    "import time\n",
    "import sys\n",
    "import numpy\n",
    "\n",
    "print(f'torch : {torch.__version__}')\n",
    "print(f'python : {sys.version}')"
   ]
  },
  {
   "cell_type": "code",
   "execution_count": 41,
   "metadata": {},
   "outputs": [
    {
     "name": "stdout",
     "output_type": "stream",
     "text": [
      "Files already downloaded and verified\n",
      "Files already downloaded and verified\n",
      "train_set : 50000\n",
      "test_set  : 10000\n"
     ]
    }
   ],
   "source": [
    "# Train_data transform\n",
    "\n",
    "train_transform = transforms.Compose(\n",
    "    [   \n",
    "        transforms.ToTensor(),\n",
    "        transforms.Normalize((0.5,0.5,0.5),(0.5,0.5,0.5))\n",
    "    ]\n",
    ")\n",
    "\n",
    "test_transform = transforms.Compose(\n",
    "    [\n",
    "        transforms.ToTensor(),\n",
    "        transforms.Normalize((0.5,0.5,0.5),(0.5,0.5,0.5))\n",
    "    ]\n",
    ")\n",
    "\n",
    "batch_size = 128\n",
    "\n",
    "# data download\n",
    "train_set = torchvision.datasets.CIFAR10(root='./data', train=True, download=True, transform = train_transform)\n",
    "train_loader = torch.utils.data.DataLoader(train_set, batch_size= batch_size,shuffle=True)\n",
    "test_set = torchvision.datasets.CIFAR10(root='./data', train=False, download=True, transform = test_transform)\n",
    "test_loader = torch.utils.data.DataLoader(test_set, batch_size = batch_size, shuffle= True)\n",
    "\n",
    "classes = ('plane','car','bird','cat','deer','dog','frog', 'horse', 'ship', 'truck')\n",
    "\n",
    "print(f'train_set : {len(train_set)}')\n",
    "print(f'test_set  : {len(test_set)}')\n"
   ]
  },
  {
   "cell_type": "code",
   "execution_count": 42,
   "metadata": {},
   "outputs": [
    {
     "name": "stdout",
     "output_type": "stream",
     "text": [
      "391\n",
      "128\n"
     ]
    }
   ],
   "source": [
    "print(len(train_loader))\n",
    "a,b= next(iter(train_loader))\n",
    "print(len(b))"
   ]
  },
  {
   "cell_type": "code",
   "execution_count": 43,
   "metadata": {},
   "outputs": [],
   "source": [
    "class VGG(nn.Module):\n",
    "    def __init__(self, num_classes=10, init_weights=True):\n",
    "        super(VGG,self).__init__()\n",
    "\n",
    "        #self.features = features\n",
    "        self.convlayer = nn.Sequential(\n",
    "            # RGB 3 - > 64 / size(32,32)\n",
    "            nn.Conv2d(in_channels=3, out_channels=64, kernel_size=3, padding=1, stride=1),\n",
    "            #nn.BatchNorm2d(64),\n",
    "            nn.ReLU(),\n",
    "            nn.MaxPool2d(kernel_size=2, stride=2),\n",
    "            # size (16,16)\n",
    "\n",
    "            nn.Conv2d(in_channels=64,out_channels=128, kernel_size=3, padding=1, stride=1),\n",
    "            #nn.BatchNorm2d(128),\n",
    "            nn.ReLU(),\n",
    "            nn.MaxPool2d(kernel_size=2, stride=2),\n",
    "            # size (8, 8)\n",
    "\n",
    "            nn.Conv2d(in_channels=128, out_channels = 256, kernel_size=3, padding=1, stride=1),\n",
    "            #nn.BatchNorm2d(256),\n",
    "            nn.ReLU(),\n",
    "            nn.Conv2d(in_channels=256,out_channels=256, kernel_size=3, padding=1, stride=1),\n",
    "            #nn.BatchNorm2d(256),\n",
    "            nn.ReLU(),\n",
    "            nn.MaxPool2d(kernel_size=2, stride=2),\n",
    "            # size (4, 4)\n",
    "\n",
    "            # nn.Conv2d(in_channels = 256, out_channels = 512, kernel_size=3, padding=1, stride=1),\n",
    "            # nn.ReLU(),\n",
    "            # nn.Conv2d(in_channels = 512, out_channels = 512, kernel_size=3, padding=1, stride=1),\n",
    "            # nn.ReLU(),\n",
    "            # nn.MaxPool2d(kernel_size=2, stride=2),\n",
    "            # # size (14,14)\n",
    "\n",
    "            # nn.Conv2d(in_channels = 512, out_channels = 512, kernel_size=3, padding=1, stride=1),\n",
    "            # nn.ReLU(),\n",
    "            # nn.Conv2d(in_channels = 512, out_channels = 512, kernel_size=3, padding=1, stride=1),\n",
    "            # nn.ReLU(),\n",
    "            # nn.MaxPool2d(kernel_size=2, stride=2)\n",
    "            # size (7,7)\n",
    "\n",
    "        )\n",
    "        #self.avgpool = nn.AdaptiveAvgPool2d(5)\n",
    "\n",
    "        self.fclayer =nn.Sequential(\n",
    "            nn.Linear(256*4*4, 4096),\n",
    "            #nn.BatchNorm1d(4096),\n",
    "            nn.ReLU(True),\n",
    "            nn.Dropout(0.5),\n",
    "            nn.Linear(4096,4096),\n",
    "            #nn.BatchNorm1d(4096),\n",
    "            nn.ReLU(True),\n",
    "            nn.Dropout(0.5),\n",
    "            nn.Linear(4096,num_classes)\n",
    "        )\n",
    "\n",
    "    def forward(self, x):\n",
    "        x = self.convlayer(x)\n",
    "        x = torch.flatten(x,1)\n",
    "        x = self.fclayer(x)\n",
    "        return x"
   ]
  },
  {
   "cell_type": "code",
   "execution_count": 44,
   "metadata": {},
   "outputs": [
    {
     "name": "stdout",
     "output_type": "stream",
     "text": [
      "Using cuda device\n",
      "VGG(\n",
      "  (convlayer): Sequential(\n",
      "    (0): Conv2d(3, 64, kernel_size=(3, 3), stride=(1, 1), padding=(1, 1))\n",
      "    (1): ReLU()\n",
      "    (2): MaxPool2d(kernel_size=2, stride=2, padding=0, dilation=1, ceil_mode=False)\n",
      "    (3): Conv2d(64, 128, kernel_size=(3, 3), stride=(1, 1), padding=(1, 1))\n",
      "    (4): ReLU()\n",
      "    (5): MaxPool2d(kernel_size=2, stride=2, padding=0, dilation=1, ceil_mode=False)\n",
      "    (6): Conv2d(128, 256, kernel_size=(3, 3), stride=(1, 1), padding=(1, 1))\n",
      "    (7): ReLU()\n",
      "    (8): Conv2d(256, 256, kernel_size=(3, 3), stride=(1, 1), padding=(1, 1))\n",
      "    (9): ReLU()\n",
      "    (10): MaxPool2d(kernel_size=2, stride=2, padding=0, dilation=1, ceil_mode=False)\n",
      "  )\n",
      "  (fclayer): Sequential(\n",
      "    (0): Linear(in_features=4096, out_features=4096, bias=True)\n",
      "    (1): ReLU(inplace=True)\n",
      "    (2): Dropout(p=0.5, inplace=False)\n",
      "    (3): Linear(in_features=4096, out_features=4096, bias=True)\n",
      "    (4): ReLU(inplace=True)\n",
      "    (5): Dropout(p=0.5, inplace=False)\n",
      "    (6): Linear(in_features=4096, out_features=10, bias=True)\n",
      "  )\n",
      ")\n"
     ]
    }
   ],
   "source": [
    "vgg11 = VGG(num_classes=10)\n",
    "device = 'cuda' if torch.cuda.is_available() else 'cpu'\n",
    "print(f'Using {device} device')\n",
    "\n",
    "if device == 'cuda':\n",
    "    vgg11 = vgg11.to(device)\n",
    "# summary\n",
    "print(vgg11)"
   ]
  },
  {
   "cell_type": "code",
   "execution_count": 45,
   "metadata": {},
   "outputs": [],
   "source": [
    "criterion = nn.CrossEntropyLoss()\n",
    "optimizer = optim.Adam(vgg11.parameters(), lr = 0.00005)"
   ]
  },
  {
   "cell_type": "code",
   "execution_count": 46,
   "metadata": {},
   "outputs": [
    {
     "name": "stdout",
     "output_type": "stream",
     "text": [
      "epoch : 1, time :19.21s\n",
      "loss : 1.770, acc: 0.34, test_loss : 1.646, test_acc : 0.44\n",
      "\n",
      "epoch : 2, time :19.20s\n",
      "loss : 1.437, acc: 0.47, test_loss : 1.346, test_acc : 0.50\n",
      "\n",
      "epoch : 3, time :19.24s\n",
      "loss : 1.290, acc: 0.53, test_loss : 1.382, test_acc : 0.56\n",
      "\n",
      "epoch : 4, time :19.20s\n",
      "loss : 1.182, acc: 0.57, test_loss : 1.177, test_acc : 0.59\n",
      "\n",
      "epoch : 5, time :19.22s\n",
      "loss : 1.088, acc: 0.61, test_loss : 1.073, test_acc : 0.62\n",
      "\n",
      "epoch : 6, time :19.22s\n",
      "loss : 1.011, acc: 0.64, test_loss : 1.306, test_acc : 0.64\n",
      "\n",
      "epoch : 7, time :19.18s\n",
      "loss : 0.937, acc: 0.67, test_loss : 0.961, test_acc : 0.66\n",
      "\n",
      "epoch : 8, time :19.18s\n",
      "loss : 0.875, acc: 0.69, test_loss : 0.815, test_acc : 0.68\n",
      "\n",
      "epoch : 9, time :19.20s\n",
      "loss : 0.818, acc: 0.71, test_loss : 0.785, test_acc : 0.69\n",
      "\n",
      "epoch : 10, time :19.21s\n",
      "loss : 0.771, acc: 0.73, test_loss : 0.695, test_acc : 0.70\n",
      "\n",
      "epoch : 11, time :19.21s\n",
      "loss : 0.717, acc: 0.75, test_loss : 0.681, test_acc : 0.70\n",
      "\n",
      "epoch : 12, time :19.21s\n",
      "loss : 0.673, acc: 0.76, test_loss : 0.799, test_acc : 0.72\n",
      "\n",
      "epoch : 13, time :19.21s\n",
      "loss : 0.630, acc: 0.78, test_loss : 0.522, test_acc : 0.73\n",
      "\n",
      "epoch : 14, time :19.20s\n",
      "loss : 0.590, acc: 0.79, test_loss : 0.641, test_acc : 0.72\n",
      "\n",
      "epoch : 15, time :19.19s\n",
      "loss : 0.550, acc: 0.81, test_loss : 0.661, test_acc : 0.74\n",
      "\n",
      "epoch : 16, time :19.17s\n",
      "loss : 0.507, acc: 0.82, test_loss : 0.351, test_acc : 0.75\n",
      "\n",
      "epoch : 17, time :19.18s\n",
      "loss : 0.463, acc: 0.84, test_loss : 0.486, test_acc : 0.75\n",
      "\n",
      "epoch : 18, time :19.21s\n",
      "loss : 0.425, acc: 0.85, test_loss : 0.453, test_acc : 0.75\n",
      "\n",
      "epoch : 19, time :19.22s\n",
      "loss : 0.387, acc: 0.87, test_loss : 0.334, test_acc : 0.75\n",
      "\n",
      "epoch : 20, time :19.21s\n",
      "loss : 0.352, acc: 0.88, test_loss : 0.532, test_acc : 0.76\n",
      "\n",
      "--------------------\n",
      "Finish running\n",
      "\n",
      "\n"
     ]
    }
   ],
   "source": [
    "loss_list = []\n",
    "acc_list = []\n",
    "test_acc_list = []\n",
    "test_loss_list = []\n",
    "epochs = 20\n",
    "for epoch in range(epochs+1):\n",
    "    running_loss = 0.0\n",
    "    running_acc = 0.0\n",
    "    test_loss= 0.0\n",
    "    start_time = time.time()\n",
    "    total = 0\n",
    "    t_total = 0\n",
    "    correct =0 \n",
    "    t_correct = 0\n",
    "    for i, data in enumerate(train_loader):\n",
    "        inputs, labels = data\n",
    "        if device =='cuda':\n",
    "            inputs = inputs.to(device)\n",
    "            labels = labels.to(device)\n",
    "        #print(f'i : {i}, labels.shape :{labels.shape}')\n",
    "        # gradients to zero\n",
    "        optimizer.zero_grad()\n",
    "\n",
    "        outputs = vgg11(inputs)\n",
    "\n",
    "        loss = criterion(outputs, labels)\n",
    "        loss.backward()\n",
    "        optimizer.step()\n",
    "\n",
    "        _,predicted = torch.max(outputs,1)\n",
    "        total += labels.size(0)\n",
    "        running_acc += (predicted == labels).sum().item()\n",
    "        running_loss += loss.item()\n",
    "\n",
    "    # test data로 바로 확인\n",
    "    with torch.no_grad():\n",
    "        for t_data in test_loader:\n",
    "            t_images, t_labels = t_data\n",
    "            if device =='cuda':\n",
    "                t_images= t_images.to(device)\n",
    "                t_labels= t_labels.to(device)\n",
    "            \n",
    "            t_outputs = vgg11(t_images)\n",
    "            t_loss = criterion(outputs, labels)\n",
    "\n",
    "            _, t_predicted = torch.max(t_outputs,1)\n",
    "            \n",
    "            t_total += t_labels.size(0)\n",
    "            t_correct += (t_predicted == t_labels).sum().item()\n",
    "\n",
    "            test_loss += t_loss.item()\n",
    "\n",
    "    print(f'epoch : {epoch+1}, time :{time.time()-start_time:.2f}s')\n",
    "    print(f'loss : {running_loss/len(train_loader):.3f}, acc: {running_acc/total:.2f}, ',end='')\n",
    "    print(f'test_loss : {test_loss/len(test_loader):.3f}, test_acc : {t_correct/t_total:.2f}\\n')\n",
    "    loss_list.append(running_loss/len(train_loader))\n",
    "    acc_list.append(running_acc/total)\n",
    "    test_loss_list.append(test_loss/len(test_loader))\n",
    "    test_acc_list.append(t_correct/t_total)\n",
    "\n",
    "print(f'{\"-\"*20}\\nFinish running\\n\\n')"
   ]
  },
  {
   "cell_type": "code",
   "execution_count": 47,
   "metadata": {},
   "outputs": [
    {
     "name": "stdout",
     "output_type": "stream",
     "text": [
      "Total Accuracy : 75.8%\n",
      "\n",
      "Accuray of plane : 72.9%\n",
      "Accuray of car : 87.7%\n",
      "Accuray of bird : 69.2%\n",
      "Accuray of cat : 59.0%\n",
      "Accuray of deer : 74.0%\n",
      "Accuray of dog : 65.1%\n",
      "Accuray of frog : 86.4%\n",
      "Accuray of horse : 77.1%\n",
      "Accuray of ship : 82.7%\n",
      "Accuray of truck : 84.0%\n"
     ]
    }
   ],
   "source": [
    "correct = 0\n",
    "total = 0\n",
    "class_correct = {classname : 0 for classname in classes}\n",
    "class_total = {classname : 0 for classname in classes}\n",
    "with torch.no_grad():\n",
    "    for data in test_loader:\n",
    "        images, labels = data\n",
    "        if device =='cuda':\n",
    "            images= images.to(device)\n",
    "            labels= labels.to(device)\n",
    "        \n",
    "        outputs = vgg11(images)\n",
    "        _, predicted = torch.max(outputs,1)\n",
    "        \n",
    "        total += labels.size(0)\n",
    "        correct += (predicted == labels).sum().item()\n",
    "\n",
    "        for label, predict in zip(labels,predicted):\n",
    "            if label == predict:\n",
    "                class_correct[classes[label]] +=1\n",
    "            class_total[classes[label]] +=1\n",
    "\n",
    "print(f'Total Accuracy : {100* correct /total:.1f}%\\n')\n",
    "\n",
    "for classname, number in class_correct.items():\n",
    "    print(f'Accuray of {classname} : {100*number/class_total[classname]:.1f}%')"
   ]
  },
  {
   "cell_type": "code",
   "execution_count": 48,
   "metadata": {},
   "outputs": [
    {
     "name": "stdout",
     "output_type": "stream",
     "text": [
      "predicted : tensor([8, 7, 6, 0, 1, 2, 3, 6, 0, 9, 9, 4, 3, 3, 4, 0, 6, 3, 3, 1, 3, 3, 6, 3,\n",
      "        9, 4, 3, 7, 1, 4, 5, 2, 2, 0, 1, 9, 8, 5, 5, 4, 1, 0, 3, 9, 2, 1, 2, 4,\n",
      "        4, 1, 4, 6, 6, 4, 2, 2, 3, 3, 8, 0, 0, 9, 0, 3, 6, 5, 1, 6, 3, 2, 5, 0,\n",
      "        8, 2, 6, 6, 2, 1, 6, 6, 5, 6, 7, 4, 5, 3, 4, 9, 4, 2, 2, 2, 0, 4, 7, 0,\n",
      "        8, 6, 3, 1, 4, 2, 4, 6, 6, 1, 2, 1, 9, 5, 3, 1, 8, 2, 6, 6, 4, 5, 8, 2,\n",
      "        3, 5, 9, 6, 6, 9, 4, 0], device='cuda:0'), size : torch.Size([128])\n",
      "images : torch.Size([128, 3, 32, 32])\n",
      "labels : torch.Size([128])\n",
      "labels.size(0) : 128\n"
     ]
    }
   ],
   "source": [
    "# 확인 하기 , input과 output의 데이터\n",
    "with torch.no_grad():\n",
    "    for data in test_loader:\n",
    "        images, labels = data\n",
    "        if device =='cuda':\n",
    "            images= images.to(device)\n",
    "            labels= labels.to(device)\n",
    "        \n",
    "        outputs = vgg11(images)\n",
    "        _, predicted = torch.max(outputs,1)\n",
    "        print(f'predicted : {predicted}, size : {predicted.shape}')\n",
    "        print(f'images : {images.shape}')\n",
    "        print(f'labels : {labels.shape}')\n",
    "        print(f'labels.size(0) : {labels.size(0)}')\n",
    "        break"
   ]
  },
  {
   "cell_type": "code",
   "execution_count": 49,
   "metadata": {},
   "outputs": [
    {
     "data": {
      "image/png": "[encoded data removed]",
      "text/plain": [
       "<Figure size 864x432 with 2 Axes>"
      ]
     },
     "metadata": {
      "needs_background": "light"
     },
     "output_type": "display_data"
    }
   ],
   "source": [
    "import matplotlib.pyplot as plt\n",
    "\n",
    "plt.figure(figsize=(12,6))\n",
    "plt.subplot(1,2,1)\n",
    "plt.plot(range(1,epochs+1),loss_list,label='train loss')\n",
    "plt.plot(range(1,epochs+1),test_loss_list,label='test loss')\n",
    "plt.xlabel('epoch')\n",
    "plt.ylabel('Loss')\n",
    "plt.legend()\n",
    "\n",
    "plt.subplot(1,2,2)\n",
    "plt.plot(range(1,epochs+1),acc_list,label='train acc')\n",
    "plt.plot(range(1,epochs+1),test_acc_list,label='test acc')\n",
    "plt.xlabel('epoch')\n",
    "plt.ylabel('Acc')\n",
    "plt.legend()\n",
    "\n",
    "plt.show()"
   ]
  }
 ],
 "metadata": {
  "interpreter": {
   "hash": "d4d1e4263499bec80672ea0156c357c1ee493ec2b1c70f0acce89fc37c4a6abe"
  },
  "kernelspec": {
   "display_name": "Python 3.8.12 ('base')",
   "language": "python",
   "name": "python3"
  },
  "language_info": {
   "codemirror_mode": {
    "name": "ipython",
    "version": 3
   },
   "file_extension": ".py",
   "mimetype": "text/x-python",
   "name": "python",
   "nbconvert_exporter": "python",
   "pygments_lexer": "ipython3",
   "version": "3.8.12"
  },
  "orig_nbformat": 4
 },
 "nbformat": 4,
 "nbformat_minor": 2
}
