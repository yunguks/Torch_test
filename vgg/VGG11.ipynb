{
 "cells": [
  {
   "cell_type": "code",
   "execution_count": 1,
   "metadata": {},
   "outputs": [
    {
     "name": "stdout",
     "output_type": "stream",
     "text": [
      "torch : 1.11.0\n",
      "python : 3.8.12 (default, Oct 12 2021, 13:49:34) \n",
      "[GCC 7.5.0]\n"
     ]
    }
   ],
   "source": [
    "import torch\n",
    "import torch.nn as nn\n",
    "import torch.nn.functional as F\n",
    "import torchvision\n",
    "import torchvision.transforms as transforms\n",
    "import torch.optim as optim\n",
    "import time\n",
    "import sys\n",
    "import pytorch_model_summary\n",
    "import numpy\n",
    "\n",
    "print(f'torch : {torch.__version__}')\n",
    "print(f'python : {sys.version}')"
   ]
  },
  {
   "cell_type": "code",
   "execution_count": 2,
   "metadata": {},
   "outputs": [
    {
     "name": "stdout",
     "output_type": "stream",
     "text": [
      "Files already downloaded and verified\n",
      "Files already downloaded and verified\n",
      "train_set : 50000\n",
      "test_set  : 10000\n"
     ]
    }
   ],
   "source": [
    "# Train_data transform\n",
    "\n",
    "train_transform = transforms.Compose(\n",
    "    [   \n",
    "        transforms.RandomHorizontalFlip(),\n",
    "        transforms.RandomAffine(degrees=15),\n",
    "        transforms.ToTensor(),\n",
    "        transforms.Normalize((0.5,0.5,0.5),(0.5,0.5,0.5))\n",
    "    ]\n",
    ")\n",
    "\n",
    "test_transform = transforms.Compose(\n",
    "    [\n",
    "        transforms.ToTensor(),\n",
    "        transforms.Normalize((0.5,0.5,0.5),(0.5,0.5,0.5))\n",
    "    ]\n",
    ")\n",
    "\n",
    "batch_size = 128\n",
    "\n",
    "# data download\n",
    "train_set = torchvision.datasets.CIFAR10(root='./data', train=True, download=True, transform = train_transform)\n",
    "train_loader = torch.utils.data.DataLoader(train_set, batch_size= batch_size,shuffle=True)\n",
    "test_set = torchvision.datasets.CIFAR10(root='./data', train=False, download=True, transform = test_transform)\n",
    "test_loader = torch.utils.data.DataLoader(test_set, batch_size = batch_size, shuffle= True)\n",
    "\n",
    "classes = ('plane','car','bird','cat','deer','dog','frog', 'horse', 'ship', 'truck')\n",
    "\n",
    "print(f'train_set : {len(train_set)}')\n",
    "print(f'test_set  : {len(test_set)}')\n"
   ]
  },
  {
   "cell_type": "code",
   "execution_count": 3,
   "metadata": {},
   "outputs": [
    {
     "name": "stdout",
     "output_type": "stream",
     "text": [
      "391\n",
      "128\n",
      "torch.Size([128, 3, 32, 32])\n"
     ]
    }
   ],
   "source": [
    "print(len(train_loader))\n",
    "a,b= next(iter(train_loader))\n",
    "print(len(b))\n",
    "print(a.shape)"
   ]
  },
  {
   "cell_type": "code",
   "execution_count": 4,
   "metadata": {},
   "outputs": [],
   "source": [
    "class VGG11(nn.Module):\n",
    "    def __init__(self, num_classes=10):\n",
    "        super(VGG11,self).__init__()\n",
    "\n",
    "        #self.features = features\n",
    "        self.convlayer = nn.Sequential(\n",
    "            # RGB 3 - > 64 / size(32,32)\n",
    "            nn.Conv2d(in_channels=3, out_channels=64, kernel_size=3, padding=1, stride=1),\n",
    "            #nn.BatchNorm2d(64),\n",
    "            nn.ReLU(),\n",
    "            #nn.MaxPool2d(kernel_size=2, stride=2),\n",
    "\n",
    "            nn.Conv2d(in_channels=64,out_channels=128, kernel_size=3, padding=1, stride=1),\n",
    "            #nn.BatchNorm2d(128),\n",
    "            nn.ReLU(),\n",
    "            #nn.MaxPool2d(kernel_size=2, stride=2),\n",
    "\n",
    "            nn.Conv2d(in_channels=128, out_channels = 256, kernel_size=3, padding=1, stride=1),\n",
    "            #nn.BatchNorm2d(256),\n",
    "            nn.ReLU(),\n",
    "            nn.Conv2d(in_channels=256,out_channels=256, kernel_size=3, padding=1, stride=1),\n",
    "            #nn.BatchNorm2d(256),\n",
    "            nn.ReLU(),\n",
    "            nn.MaxPool2d(kernel_size=2, stride=2),\n",
    "            # size (16, 16)\n",
    "\n",
    "            nn.Conv2d(in_channels = 256, out_channels = 512, kernel_size=3, padding=1, stride=1),\n",
    "            nn.ReLU(),\n",
    "            nn.Conv2d(in_channels = 512, out_channels = 512, kernel_size=3, padding=1, stride=1),\n",
    "            nn.ReLU(),\n",
    "            nn.MaxPool2d(kernel_size=2, stride=2),\n",
    "            # size (8,8)\n",
    "\n",
    "            nn.Conv2d(in_channels = 512, out_channels = 512, kernel_size=3, padding=1, stride=1),\n",
    "            nn.ReLU(),\n",
    "            nn.Conv2d(in_channels = 512, out_channels = 512, kernel_size=3, padding=1, stride=1),\n",
    "            nn.ReLU(),\n",
    "            nn.MaxPool2d(kernel_size=2, stride=2)\n",
    "            # size (4,4)\n",
    "\n",
    "        )\n",
    "\n",
    "        self.fclayer =nn.Sequential(\n",
    "            nn.Linear(512*4*4, 4096),\n",
    "            #nn.BatchNorm1d(4096),\n",
    "            nn.ReLU(True),\n",
    "            nn.Dropout(0.5),\n",
    "            nn.Linear(4096,4096),\n",
    "            #nn.BatchNorm1d(4096),\n",
    "            nn.ReLU(True),\n",
    "            nn.Dropout(0.5),\n",
    "            nn.Linear(4096,num_classes)\n",
    "        )\n",
    "\n",
    "    def forward(self, x):\n",
    "        x = self.convlayer(x)\n",
    "        x = torch.flatten(x,1)\n",
    "        x = self.fclayer(x)\n",
    "        return x"
   ]
  },
  {
   "cell_type": "code",
   "execution_count": 5,
   "metadata": {},
   "outputs": [
    {
     "name": "stdout",
     "output_type": "stream",
     "text": [
      "Using cuda device\n",
      "--------------------------------------------------------------------------\n",
      "      Layer (type)            Input Shape         Param #     Tr. Param #\n",
      "==========================================================================\n",
      "          Conv2d-1       [128, 3, 32, 32]           1,792           1,792\n",
      "            ReLU-2      [128, 64, 32, 32]               0               0\n",
      "          Conv2d-3      [128, 64, 32, 32]          73,856          73,856\n",
      "            ReLU-4     [128, 128, 32, 32]               0               0\n",
      "          Conv2d-5     [128, 128, 32, 32]         295,168         295,168\n",
      "            ReLU-6     [128, 256, 32, 32]               0               0\n",
      "          Conv2d-7     [128, 256, 32, 32]         590,080         590,080\n",
      "            ReLU-8     [128, 256, 32, 32]               0               0\n",
      "       MaxPool2d-9     [128, 256, 32, 32]               0               0\n",
      "         Conv2d-10     [128, 256, 16, 16]       1,180,160       1,180,160\n",
      "           ReLU-11     [128, 512, 16, 16]               0               0\n",
      "         Conv2d-12     [128, 512, 16, 16]       2,359,808       2,359,808\n",
      "           ReLU-13     [128, 512, 16, 16]               0               0\n",
      "      MaxPool2d-14     [128, 512, 16, 16]               0               0\n",
      "         Conv2d-15       [128, 512, 8, 8]       2,359,808       2,359,808\n",
      "           ReLU-16       [128, 512, 8, 8]               0               0\n",
      "         Conv2d-17       [128, 512, 8, 8]       2,359,808       2,359,808\n",
      "           ReLU-18       [128, 512, 8, 8]               0               0\n",
      "      MaxPool2d-19       [128, 512, 8, 8]               0               0\n",
      "         Linear-20            [128, 8192]      33,558,528      33,558,528\n",
      "           ReLU-21            [128, 4096]               0               0\n",
      "        Dropout-22            [128, 4096]               0               0\n",
      "         Linear-23            [128, 4096]      16,781,312      16,781,312\n",
      "           ReLU-24            [128, 4096]               0               0\n",
      "        Dropout-25            [128, 4096]               0               0\n",
      "         Linear-26            [128, 4096]          40,970          40,970\n",
      "==========================================================================\n",
      "Total params: 59,601,290\n",
      "Trainable params: 59,601,290\n",
      "Non-trainable params: 0\n",
      "--------------------------------------------------------------------------\n"
     ]
    }
   ],
   "source": [
    "vgg11 = VGG11(num_classes=10)\n",
    "device = 'cuda' if torch.cuda.is_available() else 'cpu'\n",
    "print(f'Using {device} device')\n",
    "\n",
    "print(pytorch_model_summary.summary(vgg11,torch.zeros(128,3,32,32),show_input=True))\n",
    "\n",
    "if device == 'cuda':\n",
    "    vgg11 = vgg11.to(device)\n",
    "# summary\n",
    "#print(vgg11)\n"
   ]
  },
  {
   "cell_type": "code",
   "execution_count": 6,
   "metadata": {},
   "outputs": [],
   "source": [
    "criterion = nn.CrossEntropyLoss()\n",
    "optimizer = optim.Adam(vgg11.parameters(), lr = 0.0001)"
   ]
  },
  {
   "cell_type": "code",
   "execution_count": 7,
   "metadata": {},
   "outputs": [
    {
     "name": "stdout",
     "output_type": "stream",
     "text": [
      "epoch : 1, time :69.22s\n",
      "loss : 1.796, acc: 0.33, test_loss : 1.452, test_acc : 0.45\n",
      "\n",
      "epoch : 2, time :69.72s\n",
      "loss : 1.360, acc: 0.50, test_loss : 1.300, test_acc : 0.55\n",
      "\n",
      "epoch : 3, time :70.70s\n",
      "loss : 1.148, acc: 0.59, test_loss : 1.106, test_acc : 0.62\n",
      "\n",
      "epoch : 4, time :71.02s\n",
      "loss : 0.998, acc: 0.65, test_loss : 1.050, test_acc : 0.68\n",
      "\n",
      "epoch : 5, time :70.97s\n",
      "loss : 0.868, acc: 0.69, test_loss : 0.926, test_acc : 0.71\n",
      "\n",
      "epoch : 6, time :70.28s\n",
      "loss : 0.774, acc: 0.73, test_loss : 0.888, test_acc : 0.75\n",
      "\n",
      "epoch : 7, time :71.14s\n",
      "loss : 0.687, acc: 0.76, test_loss : 0.644, test_acc : 0.77\n",
      "\n",
      "epoch : 8, time :71.55s\n",
      "loss : 0.627, acc: 0.78, test_loss : 0.518, test_acc : 0.78\n",
      "\n",
      "epoch : 9, time :71.87s\n",
      "loss : 0.570, acc: 0.80, test_loss : 0.767, test_acc : 0.80\n",
      "\n",
      "epoch : 10, time :65.37s\n",
      "loss : 0.517, acc: 0.82, test_loss : 0.298, test_acc : 0.80\n",
      "\n",
      "epoch : 11, time :54.48s\n",
      "loss : 0.475, acc: 0.83, test_loss : 0.669, test_acc : 0.80\n",
      "\n",
      "epoch : 12, time :52.82s\n",
      "loss : 0.435, acc: 0.85, test_loss : 0.467, test_acc : 0.82\n",
      "\n",
      "epoch : 13, time :52.81s\n",
      "loss : 0.398, acc: 0.86, test_loss : 0.307, test_acc : 0.82\n",
      "\n",
      "epoch : 14, time :52.82s\n",
      "loss : 0.361, acc: 0.88, test_loss : 0.302, test_acc : 0.82\n",
      "\n",
      "epoch : 15, time :52.80s\n",
      "loss : 0.331, acc: 0.89, test_loss : 0.363, test_acc : 0.82\n",
      "\n",
      "epoch : 16, time :52.81s\n",
      "loss : 0.304, acc: 0.90, test_loss : 0.145, test_acc : 0.83\n",
      "\n",
      "epoch : 17, time :52.79s\n",
      "loss : 0.275, acc: 0.91, test_loss : 0.342, test_acc : 0.83\n",
      "\n",
      "epoch : 18, time :52.80s\n",
      "loss : 0.251, acc: 0.91, test_loss : 0.184, test_acc : 0.83\n",
      "\n",
      "epoch : 19, time :52.80s\n",
      "loss : 0.235, acc: 0.92, test_loss : 0.165, test_acc : 0.83\n",
      "\n",
      "epoch : 20, time :52.81s\n",
      "loss : 0.207, acc: 0.93, test_loss : 0.269, test_acc : 0.84\n",
      "\n",
      "--------------------\n",
      "Finish running\n",
      "\n",
      "\n"
     ]
    }
   ],
   "source": [
    "loss_list = []\n",
    "acc_list = []\n",
    "test_acc_list = []\n",
    "test_loss_list = []\n",
    "epochs = 20\n",
    "for epoch in range(epochs):\n",
    "    running_loss = 0.0\n",
    "    running_acc = 0.0\n",
    "    test_loss= 0.0\n",
    "    start_time = time.time()\n",
    "    total = 0\n",
    "    t_total = 0\n",
    "    correct =0 \n",
    "    t_correct = 0\n",
    "    for i, data in enumerate(train_loader):\n",
    "        inputs, labels = data\n",
    "        if device =='cuda':\n",
    "            inputs = inputs.to(device)\n",
    "            labels = labels.to(device)\n",
    "            \n",
    "        #print(f'i : {i}, labels.shape :{labels.shape}')\n",
    "        # gradients to zero\n",
    "        optimizer.zero_grad()\n",
    "\n",
    "        outputs = vgg11(inputs)\n",
    "\n",
    "        loss = criterion(outputs, labels)\n",
    "        loss.backward()\n",
    "        optimizer.step()\n",
    "\n",
    "        _,predicted = torch.max(outputs,1)\n",
    "        total += labels.size(0)\n",
    "        running_acc += (predicted == labels).sum().item()\n",
    "        running_loss += loss.item()\n",
    "\n",
    "    # test data로 바로 확인\n",
    "    with torch.no_grad():\n",
    "        for t_data in test_loader:\n",
    "            t_images, t_labels = t_data\n",
    "            if device =='cuda':\n",
    "                t_images= t_images.to(device)\n",
    "                t_labels= t_labels.to(device)\n",
    "            \n",
    "            t_outputs = vgg11(t_images)\n",
    "            t_loss = criterion(outputs, labels)\n",
    "\n",
    "            _, t_predicted = torch.max(t_outputs,1)\n",
    "            \n",
    "            t_total += t_labels.size(0)\n",
    "            t_correct += (t_predicted == t_labels).sum().item()\n",
    "\n",
    "            test_loss += t_loss.item()\n",
    "\n",
    "    print(f'epoch : {epoch+1}, time :{time.time()-start_time:.2f}s')\n",
    "    print(f'loss : {running_loss/len(train_loader):.3f}, acc: {running_acc/total:.2f}, ',end='')\n",
    "    print(f'test_loss : {test_loss/len(test_loader):.3f}, test_acc : {t_correct/t_total:.2f}\\n')\n",
    "    loss_list.append(running_loss/len(train_loader))\n",
    "    acc_list.append(running_acc/total)\n",
    "    test_loss_list.append(test_loss/len(test_loader))\n",
    "    test_acc_list.append(t_correct/t_total)\n",
    "\n",
    "print(f'{\"-\"*20}\\nFinish running\\n\\n')"
   ]
  },
  {
   "cell_type": "code",
   "execution_count": 8,
   "metadata": {},
   "outputs": [
    {
     "name": "stdout",
     "output_type": "stream",
     "text": [
      "Total Accuracy : 83.5%\n",
      "\n",
      "Accuray of plane : 89.3%\n",
      "Accuray of car : 89.5%\n",
      "Accuray of bird : 76.6%\n",
      "Accuray of cat : 68.0%\n",
      "Accuray of deer : 86.1%\n",
      "Accuray of dog : 72.9%\n",
      "Accuray of frog : 87.3%\n",
      "Accuray of horse : 84.6%\n",
      "Accuray of ship : 88.6%\n",
      "Accuray of truck : 91.9%\n"
     ]
    }
   ],
   "source": [
    "correct = 0\n",
    "total = 0\n",
    "class_correct = {classname : 0 for classname in classes}\n",
    "class_total = {classname : 0 for classname in classes}\n",
    "with torch.no_grad():\n",
    "    for data in test_loader:\n",
    "        images, labels = data\n",
    "        if device =='cuda':\n",
    "            images= images.to(device)\n",
    "            labels= labels.to(device)\n",
    "        \n",
    "        outputs = vgg11(images)\n",
    "        _, predicted = torch.max(outputs,1)\n",
    "        \n",
    "        total += labels.size(0)\n",
    "        correct += (predicted == labels).sum().item()\n",
    "\n",
    "        for label, predict in zip(labels,predicted):\n",
    "            if label == predict:\n",
    "                class_correct[classes[label]] +=1\n",
    "            class_total[classes[label]] +=1\n",
    "\n",
    "print(f'Total Accuracy : {100* correct /total:.1f}%\\n')\n",
    "\n",
    "for classname, number in class_correct.items():\n",
    "    print(f'Accuray of {classname} : {100*number/class_total[classname]:.1f}%')"
   ]
  },
  {
   "cell_type": "code",
   "execution_count": 9,
   "metadata": {},
   "outputs": [
    {
     "name": "stdout",
     "output_type": "stream",
     "text": [
      "predicted : tensor([1, 5, 0, 2, 3, 2, 3, 5, 0, 0, 1, 7, 4, 3, 3, 1, 9, 7, 2, 9, 6, 7, 9, 6,\n",
      "        5, 1, 4, 6, 9, 1, 2, 4, 9, 3, 0, 0, 4, 3, 8, 5, 9, 2, 6, 9, 2, 1, 5, 8,\n",
      "        4, 4, 0, 0, 0, 5, 5, 6, 4, 4, 0, 1, 8, 7, 5, 0, 0, 5, 8, 0, 8, 6, 6, 6,\n",
      "        2, 2, 0, 5, 2, 4, 3, 7, 8, 6, 5, 4, 6, 7, 0, 7, 8, 6, 1, 8, 8, 4, 2, 3,\n",
      "        9, 3, 7, 9, 3, 0, 3, 3, 1, 6, 8, 7, 9, 4, 2, 1, 8, 7, 0, 8, 8, 6, 4, 3,\n",
      "        7, 6, 9, 3, 9, 1, 4, 4], device='cuda:0'), size : torch.Size([128])\n",
      "images : torch.Size([128, 3, 32, 32])\n",
      "labels : torch.Size([128])\n",
      "labels.size(0) : 128\n"
     ]
    }
   ],
   "source": [
    "# 확인 하기 , input과 output의 데이터\n",
    "with torch.no_grad():\n",
    "    for data in test_loader:\n",
    "        images, labels = data\n",
    "        if device =='cuda':\n",
    "            images= images.to(device)\n",
    "            labels= labels.to(device)\n",
    "        \n",
    "        outputs = vgg11(images)\n",
    "        _, predicted = torch.max(outputs,1)\n",
    "        print(f'predicted : {predicted}, size : {predicted.shape}')\n",
    "        print(f'images : {images.shape}')\n",
    "        print(f'labels : {labels.shape}')\n",
    "        print(f'labels.size(0) : {labels.size(0)}')\n",
    "        break"
   ]
  },
  {
   "cell_type": "code",
   "execution_count": 10,
   "metadata": {},
   "outputs": [
    {
     "data": {
      "image/png": "[encoded data removed]",
      "text/plain": [
       "<Figure size 864x432 with 2 Axes>"
      ]
     },
     "metadata": {
      "needs_background": "light"
     },
     "output_type": "display_data"
    }
   ],
   "source": [
    "import matplotlib.pyplot as plt\n",
    "\n",
    "plt.figure(figsize=(12,6))\n",
    "plt.subplot(1,2,1)\n",
    "plt.plot(range(1,epochs+1),loss_list,label='train loss')\n",
    "plt.plot(range(1,epochs+1),test_loss_list,label='test loss')\n",
    "plt.xlabel('epoch')\n",
    "plt.ylabel('Loss')\n",
    "plt.legend()\n",
    "\n",
    "plt.subplot(1,2,2)\n",
    "plt.plot(range(1,epochs+1),acc_list,label='train acc')\n",
    "plt.plot(range(1,epochs+1),test_acc_list,label='test acc')\n",
    "plt.xlabel('epoch')\n",
    "plt.ylabel('Acc')\n",
    "plt.legend()\n",
    "\n",
    "plt.show()"
   ]
  },
  {
   "cell_type": "code",
   "execution_count": 11,
   "metadata": {},
   "outputs": [],
   "source": [
    "torch.save(vgg11,'./models/vgg11.pt')"
   ]
  }
 ],
 "metadata": {
  "interpreter": {
   "hash": "d4d1e4263499bec80672ea0156c357c1ee493ec2b1c70f0acce89fc37c4a6abe"
  },
  "kernelspec": {
   "display_name": "Python 3.8.12 ('base')",
   "language": "python",
   "name": "python3"
  },
  "language_info": {
   "codemirror_mode": {
    "name": "ipython",
    "version": 3
   },
   "file_extension": ".py",
   "mimetype": "text/x-python",
   "name": "python",
   "nbconvert_exporter": "python",
   "pygments_lexer": "ipython3",
   "version": "3.8.12"
  },
  "orig_nbformat": 4
 },
 "nbformat": 4,
 "nbformat_minor": 2
}
