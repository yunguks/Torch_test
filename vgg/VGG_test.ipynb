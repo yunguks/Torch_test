{
 "cells": [
  {
   "cell_type": "code",
   "execution_count": 22,
   "metadata": {},
   "outputs": [
    {
     "name": "stdout",
     "output_type": "stream",
     "text": [
      "torch : 1.11.0\n",
      "python : 3.8.12 (default, Oct 12 2021, 13:49:34) \n",
      "[GCC 7.5.0]\n"
     ]
    }
   ],
   "source": [
    "import torch\n",
    "import torch.nn as nn\n",
    "import torch.nn.functional as F\n",
    "import torchvision\n",
    "import torchvision.transforms as transforms\n",
    "import torch.optim as optim\n",
    "import time\n",
    "import sys\n",
    "import numpy\n",
    "import pytorch_model_summary\n",
    "\n",
    "print(f'torch : {torch.__version__}')\n",
    "print(f'python : {sys.version}')"
   ]
  },
  {
   "cell_type": "code",
   "execution_count": 23,
   "metadata": {},
   "outputs": [
    {
     "name": "stdout",
     "output_type": "stream",
     "text": [
      "Files already downloaded and verified\n",
      "Files already downloaded and verified\n",
      "train_set : 50000\n",
      "test_set  : 10000\n"
     ]
    }
   ],
   "source": [
    "# Train_data transform\n",
    "\n",
    "train_transform = transforms.Compose(\n",
    "    [   \n",
    "        transforms.RandomHorizontalFlip(),\n",
    "        transforms.RandomAffine(degrees=15),\n",
    "        transforms.ToTensor(),\n",
    "        transforms.Normalize((0.5,0.5,0.5),(0.5,0.5,0.5))\n",
    "    ]\n",
    ")\n",
    "\n",
    "test_transform = transforms.Compose(\n",
    "    [\n",
    "        transforms.ToTensor(),\n",
    "        transforms.Normalize((0.5,0.5,0.5),(0.5,0.5,0.5))\n",
    "    ]\n",
    ")\n",
    "\n",
    "batch_size = 128\n",
    "\n",
    "# data download\n",
    "train_set = torchvision.datasets.CIFAR10(root='./data', train=True, download=True, transform = train_transform)\n",
    "train_loader = torch.utils.data.DataLoader(train_set, batch_size= batch_size,shuffle=True)\n",
    "test_set = torchvision.datasets.CIFAR10(root='./data', train=False, download=True, transform = test_transform)\n",
    "test_loader = torch.utils.data.DataLoader(test_set, batch_size = batch_size, shuffle= True)\n",
    "\n",
    "classes = ('plane','car','bird','cat','deer','dog','frog', 'horse', 'ship', 'truck')\n",
    "\n",
    "print(f'train_set : {len(train_set)}')\n",
    "print(f'test_set  : {len(test_set)}')\n"
   ]
  },
  {
   "cell_type": "code",
   "execution_count": 24,
   "metadata": {},
   "outputs": [],
   "source": [
    "class VGG(nn.Module):\n",
    "    def __init__(self, num_classes=10):\n",
    "        super(VGG,self).__init__()\n",
    "\n",
    "        #self.features = features\n",
    "        self.convlayer = nn.Sequential(\n",
    "            # RGB 3 - > 64 / size(32,32)\n",
    "            nn.Conv2d(in_channels=3, out_channels=64, kernel_size=3, padding=1, stride=1),\n",
    "            #nn.BatchNorm2d(64),\n",
    "            nn.ReLU(),\n",
    "            nn.MaxPool2d(kernel_size=2, stride=2),\n",
    "            \n",
    "            # size (16,16)\n",
    "            nn.Conv2d(in_channels=64,out_channels=128, kernel_size=3, padding=1, stride=1),\n",
    "            #nn.BatchNorm2d(128),\n",
    "            nn.ReLU(),\n",
    "            nn.MaxPool2d(kernel_size=2, stride=2),\n",
    "            \n",
    "            # size (8, 8)\n",
    "            nn.Conv2d(in_channels=128, out_channels = 256, kernel_size=3, padding=1, stride=1),\n",
    "            #nn.BatchNorm2d(256),\n",
    "            nn.ReLU(),\n",
    "            nn.Conv2d(in_channels=256,out_channels=256, kernel_size=3, padding=1, stride=1),\n",
    "            #nn.BatchNorm2d(256),\n",
    "            nn.ReLU(),\n",
    "            nn.MaxPool2d(kernel_size=2, stride=2),\n",
    "\n",
    "            # size(4,4)\n",
    "            nn.Conv2d(in_channels=256, out_channels = 512, kernel_size=3, padding=1, stride=1),\n",
    "            #nn.BatchNorm2d(256),\n",
    "            nn.ReLU(),\n",
    "            nn.Conv2d(in_channels=512,out_channels=512, kernel_size=3, padding=1, stride=1),\n",
    "            #nn.BatchNorm2d(256),\n",
    "            nn.ReLU(),\n",
    "            nn.MaxPool2d(kernel_size=2, stride=2)\n",
    "\n",
    "        )\n",
    "        \n",
    "\n",
    "        self.fclayer =nn.Sequential(\n",
    "            nn.Linear(512*2*2, 4096),\n",
    "            nn.BatchNorm1d(4096),\n",
    "            nn.ReLU(True),\n",
    "            nn.Dropout(0.5),\n",
    "            nn.Linear(4096,4096),\n",
    "            nn.BatchNorm1d(4096),\n",
    "            nn.ReLU(True),\n",
    "            nn.Dropout(0.5),\n",
    "            nn.Linear(4096,num_classes)\n",
    "        )\n",
    "\n",
    "    def forward(self, x):\n",
    "        x = self.convlayer(x)\n",
    "        x = torch.flatten(x,1)\n",
    "        x = self.fclayer(x)\n",
    "        return x"
   ]
  },
  {
   "cell_type": "code",
   "execution_count": 25,
   "metadata": {},
   "outputs": [
    {
     "name": "stdout",
     "output_type": "stream",
     "text": [
      "Using cuda device\n",
      "--------------------------------------------------------------------------\n",
      "      Layer (type)            Input Shape         Param #     Tr. Param #\n",
      "==========================================================================\n",
      "          Conv2d-1       [128, 3, 32, 32]           1,792           1,792\n",
      "            ReLU-2      [128, 64, 32, 32]               0               0\n",
      "       MaxPool2d-3      [128, 64, 32, 32]               0               0\n",
      "          Conv2d-4      [128, 64, 16, 16]          73,856          73,856\n",
      "            ReLU-5     [128, 128, 16, 16]               0               0\n",
      "       MaxPool2d-6     [128, 128, 16, 16]               0               0\n",
      "          Conv2d-7       [128, 128, 8, 8]         295,168         295,168\n",
      "            ReLU-8       [128, 256, 8, 8]               0               0\n",
      "          Conv2d-9       [128, 256, 8, 8]         590,080         590,080\n",
      "           ReLU-10       [128, 256, 8, 8]               0               0\n",
      "      MaxPool2d-11       [128, 256, 8, 8]               0               0\n",
      "         Conv2d-12       [128, 256, 4, 4]       1,180,160       1,180,160\n",
      "           ReLU-13       [128, 512, 4, 4]               0               0\n",
      "         Conv2d-14       [128, 512, 4, 4]       2,359,808       2,359,808\n",
      "           ReLU-15       [128, 512, 4, 4]               0               0\n",
      "      MaxPool2d-16       [128, 512, 4, 4]               0               0\n",
      "         Linear-17            [128, 2048]       8,392,704       8,392,704\n",
      "    BatchNorm1d-18            [128, 4096]           8,192           8,192\n",
      "           ReLU-19            [128, 4096]               0               0\n",
      "        Dropout-20            [128, 4096]               0               0\n",
      "         Linear-21            [128, 4096]      16,781,312      16,781,312\n",
      "    BatchNorm1d-22            [128, 4096]           8,192           8,192\n",
      "           ReLU-23            [128, 4096]               0               0\n",
      "        Dropout-24            [128, 4096]               0               0\n",
      "         Linear-25            [128, 4096]          40,970          40,970\n",
      "==========================================================================\n",
      "Total params: 29,732,234\n",
      "Trainable params: 29,732,234\n",
      "Non-trainable params: 0\n",
      "--------------------------------------------------------------------------\n"
     ]
    }
   ],
   "source": [
    "myVgg = VGG(num_classes=10)\n",
    "device = 'cuda' if torch.cuda.is_available() else 'cpu'\n",
    "print(f'Using {device} device')\n",
    "\n",
    "# summary\n",
    "print(pytorch_model_summary.summary(myVgg,torch.zeros(128,3,32,32),show_input=True))\n",
    "\n",
    "if device == 'cuda':\n",
    "    myVgg = myVgg.to(device)"
   ]
  },
  {
   "cell_type": "code",
   "execution_count": 26,
   "metadata": {},
   "outputs": [],
   "source": [
    "criterion = nn.CrossEntropyLoss()\n",
    "optimizer = optim.Adam(myVgg.parameters(), lr = 0.0001, decapy=0.01)"
   ]
  },
  {
   "cell_type": "code",
   "execution_count": 27,
   "metadata": {},
   "outputs": [
    {
     "name": "stdout",
     "output_type": "stream",
     "text": [
      "epoch : 1, time :26.68s\n",
      "loss : 1.482, acc: 0.46, test_loss : 1.072, test_acc : 0.56\n",
      "\n",
      "epoch : 2, time :26.62s\n",
      "loss : 1.168, acc: 0.58, test_loss : 1.292, test_acc : 0.62\n",
      "\n"
     ]
    },
    {
     "ename": "KeyboardInterrupt",
     "evalue": "",
     "output_type": "error",
     "traceback": [
      "\u001b[0;31m---------------------------------------------------------------------------\u001b[0m",
      "\u001b[0;31mKeyboardInterrupt\u001b[0m                         Traceback (most recent call last)",
      "\u001b[0;32m/tmp/ipykernel_35149/763279998.py\u001b[0m in \u001b[0;36m<module>\u001b[0;34m\u001b[0m\n\u001b[1;32m     31\u001b[0m         \u001b[0m_\u001b[0m\u001b[0;34m,\u001b[0m\u001b[0mpredicted\u001b[0m \u001b[0;34m=\u001b[0m \u001b[0mtorch\u001b[0m\u001b[0;34m.\u001b[0m\u001b[0mmax\u001b[0m\u001b[0;34m(\u001b[0m\u001b[0moutputs\u001b[0m\u001b[0;34m,\u001b[0m\u001b[0;36m1\u001b[0m\u001b[0;34m)\u001b[0m\u001b[0;34m\u001b[0m\u001b[0;34m\u001b[0m\u001b[0m\n\u001b[1;32m     32\u001b[0m         \u001b[0mtotal\u001b[0m \u001b[0;34m+=\u001b[0m \u001b[0mlabels\u001b[0m\u001b[0;34m.\u001b[0m\u001b[0msize\u001b[0m\u001b[0;34m(\u001b[0m\u001b[0;36m0\u001b[0m\u001b[0;34m)\u001b[0m\u001b[0;34m\u001b[0m\u001b[0;34m\u001b[0m\u001b[0m\n\u001b[0;32m---> 33\u001b[0;31m         \u001b[0mrunning_acc\u001b[0m \u001b[0;34m+=\u001b[0m \u001b[0;34m(\u001b[0m\u001b[0mpredicted\u001b[0m \u001b[0;34m==\u001b[0m \u001b[0mlabels\u001b[0m\u001b[0;34m)\u001b[0m\u001b[0;34m.\u001b[0m\u001b[0msum\u001b[0m\u001b[0;34m(\u001b[0m\u001b[0;34m)\u001b[0m\u001b[0;34m.\u001b[0m\u001b[0mitem\u001b[0m\u001b[0;34m(\u001b[0m\u001b[0;34m)\u001b[0m\u001b[0;34m\u001b[0m\u001b[0;34m\u001b[0m\u001b[0m\n\u001b[0m\u001b[1;32m     34\u001b[0m         \u001b[0mrunning_loss\u001b[0m \u001b[0;34m+=\u001b[0m \u001b[0mloss\u001b[0m\u001b[0;34m.\u001b[0m\u001b[0mitem\u001b[0m\u001b[0;34m(\u001b[0m\u001b[0;34m)\u001b[0m\u001b[0;34m\u001b[0m\u001b[0;34m\u001b[0m\u001b[0m\n\u001b[1;32m     35\u001b[0m \u001b[0;34m\u001b[0m\u001b[0m\n",
      "\u001b[0;31mKeyboardInterrupt\u001b[0m: "
     ]
    }
   ],
   "source": [
    "loss_list = []\n",
    "acc_list = []\n",
    "test_acc_list = []\n",
    "test_loss_list = []\n",
    "epochs = 50\n",
    "best_score = 0\n",
    "for epoch in range(epochs):\n",
    "    running_loss = 0.0\n",
    "    running_acc = 0.0\n",
    "    test_loss= 0.0\n",
    "    start_time = time.time()\n",
    "    total = 0\n",
    "    t_total = 0\n",
    "    correct =0 \n",
    "    t_correct = 0\n",
    "    for i, data in enumerate(train_loader):\n",
    "        inputs, labels = data\n",
    "        if device =='cuda':\n",
    "            inputs = inputs.to(device)\n",
    "            labels = labels.to(device)\n",
    "        #print(f'i : {i}, labels.shape :{labels.shape}')\n",
    "        # gradients to zero\n",
    "        optimizer.zero_grad()\n",
    "\n",
    "        outputs = myVgg(inputs)\n",
    "\n",
    "        loss = criterion(outputs, labels)\n",
    "        loss.backward()\n",
    "        optimizer.step()\n",
    "\n",
    "        _,predicted = torch.max(outputs,1)\n",
    "        total += labels.size(0)\n",
    "        running_acc += (predicted == labels).sum().item()\n",
    "        running_loss += loss.item()\n",
    "\n",
    "    # test data로 바로 확인\n",
    "    with torch.no_grad():\n",
    "        for t_data in test_loader:\n",
    "            t_images, t_labels = t_data\n",
    "            if device =='cuda':\n",
    "                t_images= t_images.to(device)\n",
    "                t_labels= t_labels.to(device)\n",
    "            \n",
    "            t_outputs = myVgg(t_images)\n",
    "            t_loss = criterion(outputs, labels)\n",
    "\n",
    "            _, t_predicted = torch.max(t_outputs,1)\n",
    "            \n",
    "            t_total += t_labels.size(0)\n",
    "            t_correct += (t_predicted == t_labels).sum().item()\n",
    "\n",
    "            test_loss += t_loss.item()\n",
    "\n",
    "    if best_score < (t_correct/t_total):\n",
    "        best_score = t_correct/t_total\n",
    "        torch.save(myVgg,'./models/myVgg_best.pt')\n",
    "\n",
    "    print(f'epoch : {epoch+1}, time :{time.time()-start_time:.2f}s')\n",
    "    print(f'loss : {running_loss/len(train_loader):.3f}, acc: {running_acc/total:.2f}, ',end='')\n",
    "    print(f'test_loss : {test_loss/len(test_loader):.3f}, test_acc : {t_correct/t_total:.2f}\\n')\n",
    "    loss_list.append(running_loss/len(train_loader))\n",
    "    acc_list.append(running_acc/total)\n",
    "    test_loss_list.append(test_loss/len(test_loader))\n",
    "    test_acc_list.append(t_correct/t_total)\n",
    "\n",
    "print(f'{\"-\"*20}\\nFinish running\\n\\n')"
   ]
  },
  {
   "cell_type": "code",
   "execution_count": null,
   "metadata": {},
   "outputs": [
    {
     "name": "stdout",
     "output_type": "stream",
     "text": [
      "Total Accuracy : 80.8%\n",
      "\n",
      "Accuray of plane : 83.7%\n",
      "Accuray of car : 92.6%\n",
      "Accuray of bird : 71.2%\n",
      "Accuray of cat : 71.6%\n",
      "Accuray of deer : 78.7%\n",
      "Accuray of dog : 69.3%\n",
      "Accuray of frog : 83.6%\n",
      "Accuray of horse : 82.4%\n",
      "Accuray of ship : 87.0%\n",
      "Accuray of truck : 88.4%\n"
     ]
    }
   ],
   "source": [
    "best=torch.load('./models/myVgg_best.pt')\n",
    "correct = 0\n",
    "total = 0\n",
    "class_correct = {classname : 0 for classname in classes}\n",
    "class_total = {classname : 0 for classname in classes}\n",
    "with torch.no_grad():\n",
    "    for data in test_loader:\n",
    "        images, labels = data\n",
    "        if device =='cuda':\n",
    "            images= images.to(device)\n",
    "            labels= labels.to(device)\n",
    "        \n",
    "        outputs = best(images)\n",
    "        _, predicted = torch.max(outputs,1)\n",
    "        \n",
    "        total += labels.size(0)\n",
    "        correct += (predicted == labels).sum().item()\n",
    "\n",
    "        for label, predict in zip(labels,predicted):\n",
    "            if label == predict:\n",
    "                class_correct[classes[label]] +=1\n",
    "            class_total[classes[label]] +=1\n",
    "\n",
    "print(f'Total Accuracy : {100* correct /total:.1f}%\\n')\n",
    "\n",
    "for classname, number in class_correct.items():\n",
    "    print(f'Accuray of {classname} : {100*number/class_total[classname]:.1f}%')"
   ]
  },
  {
   "cell_type": "code",
   "execution_count": null,
   "metadata": {},
   "outputs": [
    {
     "data": {
      "image/png": "[encoded data removed]",
      "text/plain": [
       "<Figure size 864x432 with 2 Axes>"
      ]
     },
     "metadata": {
      "needs_background": "light"
     },
     "output_type": "display_data"
    }
   ],
   "source": [
    "import matplotlib.pyplot as plt\n",
    "\n",
    "plt.figure(figsize=(12,6))\n",
    "plt.subplot(1,2,1)\n",
    "plt.plot(range(1,epochs+1),loss_list,label='train loss')\n",
    "plt.plot(range(1,epochs+1),test_loss_list,label='test loss')\n",
    "plt.xlabel('epoch')\n",
    "plt.ylabel('Loss')\n",
    "plt.legend()\n",
    "\n",
    "plt.subplot(1,2,2)\n",
    "plt.plot(range(1,epochs+1),acc_list,label='train acc')\n",
    "plt.plot(range(1,epochs+1),test_acc_list,label='test acc')\n",
    "plt.xlabel('epoch')\n",
    "plt.ylabel('Acc')\n",
    "plt.legend()\n",
    "\n",
    "plt.show()"
   ]
  }
 ],
 "metadata": {
  "interpreter": {
   "hash": "d4d1e4263499bec80672ea0156c357c1ee493ec2b1c70f0acce89fc37c4a6abe"
  },
  "kernelspec": {
   "display_name": "Python 3.8.12 ('base')",
   "language": "python",
   "name": "python3"
  },
  "language_info": {
   "codemirror_mode": {
    "name": "ipython",
    "version": 3
   },
   "file_extension": ".py",
   "mimetype": "text/x-python",
   "name": "python",
   "nbconvert_exporter": "python",
   "pygments_lexer": "ipython3",
   "version": "3.8.12"
  },
  "orig_nbformat": 4
 },
 "nbformat": 4,
 "nbformat_minor": 2
}
