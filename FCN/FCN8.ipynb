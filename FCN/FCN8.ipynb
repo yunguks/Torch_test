{
 "cells": [
  {
   "cell_type": "code",
   "execution_count": 1,
   "metadata": {},
   "outputs": [
    {
     "name": "stdout",
     "output_type": "stream",
     "text": [
      "torch : 1.11.0\n",
      "python : 3.8.12 (default, Oct 12 2021, 13:49:34) \n",
      "[GCC 7.5.0]\n"
     ]
    }
   ],
   "source": [
    "import torch\n",
    "import torch.nn as nn\n",
    "import torch.nn.functional as F\n",
    "import torchvision\n",
    "import torchvision.transforms as transforms\n",
    "import torch.optim as optim\n",
    "from torch.utils.data import Dataset\n",
    "from torch.utils.data import DataLoader\n",
    "import time\n",
    "import sys\n",
    "import pytorch_model_summary\n",
    "import numpy as np\n",
    "import os\n",
    "import matplotlib.pyplot as plt\n",
    "from PIL import Image\n",
    "from tqdm import tqdm\n",
    "\n",
    "\n",
    "print(f'torch : {torch.__version__}')\n",
    "print(f'python : {sys.version}')"
   ]
  },
  {
   "cell_type": "code",
   "execution_count": 2,
   "metadata": {},
   "outputs": [],
   "source": [
    "\n",
    "class ImageData(Dataset):\n",
    "    def __init__(self,path,transform=None,target_transform=None):\n",
    "        self.path = path\n",
    "        self.files =[]\n",
    "        self.labels = []\n",
    "        for i in os.listdir(path):\n",
    "            if i[:-3]+'png' in os.listdir(path+'/label'):\n",
    "                self.files.append(i)\n",
    "                self.labels.append(i[:-3]+'png')\n",
    "        self.transform = transform\n",
    "        self.target_transform = target_transform\n",
    "        self.to_tensor = transforms.ToTensor()\n",
    "        \n",
    "    def __getitem__(self,idx):\n",
    "        img = Image.open(self.path+'/'+self.files[idx])\n",
    "        label = Image.open(self.path+'/label/'+self.labels[idx])\n",
    "        #img = np.array(img)[:,:256]\n",
    "        if self.transform is not None:\n",
    "            img = self.transform(img)\n",
    "        if self.target_transform is not None:\n",
    "            label = self.target_transform(label)\n",
    "        return img, label\n",
    "\n",
    "    def __len__(self):\n",
    "        return len(self.files)\n",
    "\n",
    "class ConvertToBackground(object):\n",
    "    def __call__(self, img):\n",
    "        img = np.asarray(img,dtype=np.uint8)\n",
    "        img[img==255] = 0\n",
    "        # 64bit 부호 정수 long 타입 Tensor로 변환 \n",
    "        img = torch.from_numpy(img).long()\n",
    "        return img\n"
   ]
  },
  {
   "cell_type": "code",
   "execution_count": 3,
   "metadata": {},
   "outputs": [],
   "source": [
    "data_mean = [0.485, 0.456, 0.406]\n",
    "data_std = [0.229, 0.224, 0.225]\n",
    "\n",
    "transform = transforms.Compose(\n",
    "    [\n",
    "        transforms.Resize((224,224)),\n",
    "        #transforms.RandomCrop((224,224)),\n",
    "        #transforms.RandomAffine(degrees=15),\n",
    "        # PIL 타입의 [0,255] data를 [0,1]의 FloatTensor로 변환\n",
    "        transforms.ToTensor(),\n",
    "        transforms.Normalize(mean=data_mean,std=data_std)\n",
    "    ]\n",
    ")\n",
    "val_transform = transforms.Compose(\n",
    "    [\n",
    "        transforms.Resize((224,224)),\n",
    "        transforms.ToTensor(),\n",
    "        transforms.Normalize(mean=data_mean,std=data_std)\n",
    "    ]\n",
    ")\n",
    "label_transform = transforms.Compose(\n",
    "    [\n",
    "        transforms.Resize((224,224)),\n",
    "        # 경계를 배경으로 처리\n",
    "        ConvertToBackground()\n",
    "    ]\n",
    ")\n",
    "\n",
    "batch_size = 4\n",
    "train_path = './data/train'\n",
    "train_set = ImageData(train_path,transform,label_transform)\n",
    "#train_set = torchvision.datasets.VOCSegmentation(root='./data', year='2012',\\\n",
    "#    image_set='train',download=False,transform=transform,target_transform=label_transform)\n",
    "train_loader = DataLoader(train_set, batch_size= batch_size,shuffle=True)\n",
    "val_path = './data/val'\n",
    "val_set = ImageData(val_path,val_transform,label_transform)\n",
    "#val_set = torchvision.datasets.VOCSegmentation(root='./data', year='2012',\\\n",
    "#    image_set='val',download=False,transform=transform,target_transform=label_transform)\n",
    "val_loader = DataLoader(val_set, batch_size= batch_size,shuffle=True)\n"
   ]
  },
  {
   "cell_type": "code",
   "execution_count": 4,
   "metadata": {},
   "outputs": [
    {
     "name": "stdout",
     "output_type": "stream",
     "text": [
      "366\n"
     ]
    }
   ],
   "source": [
    "#a,b = train_set[0]\n",
    "#print(a.shape)\n",
    "\n",
    "print(len(train_loader))\n",
    "#temp_img,temp_label = next(iter(train_loader))\n",
    "#print(temp_img)"
   ]
  },
  {
   "cell_type": "code",
   "execution_count": 5,
   "metadata": {},
   "outputs": [
    {
     "name": "stdout",
     "output_type": "stream",
     "text": [
      "Sequential(\n",
      "  (0): Conv2d(3, 64, kernel_size=(3, 3), stride=(1, 1), padding=(1, 1))\n",
      "  (1): ReLU(inplace=True)\n",
      "  (2): Conv2d(64, 64, kernel_size=(3, 3), stride=(1, 1), padding=(1, 1))\n",
      "  (3): ReLU(inplace=True)\n",
      "  (4): MaxPool2d(kernel_size=2, stride=2, padding=0, dilation=1, ceil_mode=False)\n",
      "  (5): Conv2d(64, 128, kernel_size=(3, 3), stride=(1, 1), padding=(1, 1))\n",
      "  (6): ReLU(inplace=True)\n",
      "  (7): Conv2d(128, 128, kernel_size=(3, 3), stride=(1, 1), padding=(1, 1))\n",
      "  (8): ReLU(inplace=True)\n",
      "  (9): MaxPool2d(kernel_size=2, stride=2, padding=0, dilation=1, ceil_mode=False)\n",
      "  (10): Conv2d(128, 256, kernel_size=(3, 3), stride=(1, 1), padding=(1, 1))\n",
      "  (11): ReLU(inplace=True)\n",
      "  (12): Conv2d(256, 256, kernel_size=(3, 3), stride=(1, 1), padding=(1, 1))\n",
      "  (13): ReLU(inplace=True)\n",
      "  (14): Conv2d(256, 256, kernel_size=(3, 3), stride=(1, 1), padding=(1, 1))\n",
      "  (15): ReLU(inplace=True)\n",
      "  (16): Conv2d(256, 256, kernel_size=(3, 3), stride=(1, 1), padding=(1, 1))\n",
      "  (17): ReLU(inplace=True)\n",
      "  (18): MaxPool2d(kernel_size=2, stride=2, padding=0, dilation=1, ceil_mode=False)\n",
      "  (19): Conv2d(256, 512, kernel_size=(3, 3), stride=(1, 1), padding=(1, 1))\n",
      "  (20): ReLU(inplace=True)\n",
      "  (21): Conv2d(512, 512, kernel_size=(3, 3), stride=(1, 1), padding=(1, 1))\n",
      "  (22): ReLU(inplace=True)\n",
      "  (23): Conv2d(512, 512, kernel_size=(3, 3), stride=(1, 1), padding=(1, 1))\n",
      "  (24): ReLU(inplace=True)\n",
      "  (25): Conv2d(512, 512, kernel_size=(3, 3), stride=(1, 1), padding=(1, 1))\n",
      "  (26): ReLU(inplace=True)\n",
      "  (27): MaxPool2d(kernel_size=2, stride=2, padding=0, dilation=1, ceil_mode=False)\n",
      ")\n"
     ]
    }
   ],
   "source": [
    "# 사전에 학습된 vgg16 parameter 가져오기\n",
    "vgg19 = torchvision.models.vgg19(pretrained=True)\n",
    "for param in vgg19.features.parameters():\n",
    "   param.requires_grad = False\n",
    "print(vgg19.features[:-9])"
   ]
  },
  {
   "cell_type": "code",
   "execution_count": 6,
   "metadata": {},
   "outputs": [],
   "source": [
    "class FCN8(nn.Module):\n",
    "    # vgg 19 \n",
    "    def __init__(self,num_class):\n",
    "        super(FCN8, self).__init__()\n",
    "        self.vgg19 = vgg19.features\n",
    "\n",
    "        self.relu    = nn.ReLU(inplace=True)\n",
    "        self.deconv1 = nn.ConvTranspose2d(512, 512, kernel_size=3, stride=2, padding=1, dilation=1, output_padding=1)\n",
    "        self.bn1     = nn.BatchNorm2d(512)\n",
    "        self.deconv2 = nn.ConvTranspose2d(512, 256, kernel_size=3, stride=2, padding=1, dilation=1, output_padding=1)\n",
    "        self.bn2     = nn.BatchNorm2d(256)\n",
    "        self.deconv3 = nn.ConvTranspose2d(256, 128, kernel_size=3, stride=2, padding=1, dilation=1, output_padding=1)\n",
    "        self.bn3     = nn.BatchNorm2d(128)\n",
    "        self.deconv4 = nn.ConvTranspose2d(128, 64, kernel_size=3, stride=2, padding=1, dilation=1, output_padding=1)\n",
    "        self.bn4     = nn.BatchNorm2d(64)\n",
    "        self.deconv5 = nn.ConvTranspose2d(64, 32, kernel_size=3, stride=2, padding=1, dilation=1, output_padding=1)\n",
    "        self.bn5     = nn.BatchNorm2d(32)\n",
    "        self.classifier = nn.Conv2d(32, num_class, kernel_size=1)\n",
    "    def forward(self, x):\n",
    "        pool3 = self.vgg19[:-18](x)\n",
    "        pool4 = self.vgg19[-18:-9](pool3)\n",
    "        pool5 = self.vgg19[-9:](pool4)\n",
    "\n",
    "        x = self.relu(self.deconv1(pool5))\n",
    "        x = self.bn1(x+pool4)\n",
    "        x = self.relu(self.deconv2(x))\n",
    "        x = self.bn2(x+pool3)\n",
    "        x = self.relu(self.deconv3(x))\n",
    "        x = self.bn3(x)\n",
    "        x = self.relu(self.deconv4(x))\n",
    "        x = self.bn4(x)\n",
    "        x = self.relu(self.deconv5(x))\n",
    "        x = self.bn5(x)\n",
    "        x = self.classifier(x)\n",
    "        #print(x.shape)\n",
    "        return x\n",
    "\n",
    "    def make_block(self, in_channel, out_channel, repeat):\n",
    "        layers = []\n",
    "        for i in range(repeat):\n",
    "            if (i==0):\n",
    "                layers.append(nn.Conv2d(in_channel, out_channel, kernel_size=3, padding=1, stride=1))\n",
    "            else:\n",
    "                layers.append(nn.Conv2d(out_channel,out_channel,kernel_size=3, padding=1, stride=1))\n",
    "            layers.append(nn.BatchNorm2d(out_channel))\n",
    "            layers.append(nn.ReLU())\n",
    "        layers.append(nn.MaxPool2d(kernel_size=2, stride=2))\n",
    "        block = nn.Sequential(*layers)\n",
    "\n",
    "        return block"
   ]
  },
  {
   "cell_type": "code",
   "execution_count": 7,
   "metadata": {},
   "outputs": [
    {
     "name": "stdout",
     "output_type": "stream",
     "text": [
      "Using cuda device\n",
      "-----------------------------------------------------------------------------\n",
      "         Layer (type)            Input Shape         Param #     Tr. Param #\n",
      "=============================================================================\n",
      "             Conv2d-1       [4, 3, 224, 224]           1,792               0\n",
      "               ReLU-2      [4, 64, 224, 224]               0               0\n",
      "             Conv2d-3      [4, 64, 224, 224]          36,928               0\n",
      "               ReLU-4      [4, 64, 224, 224]               0               0\n",
      "          MaxPool2d-5      [4, 64, 224, 224]               0               0\n",
      "             Conv2d-6      [4, 64, 112, 112]          73,856               0\n",
      "               ReLU-7     [4, 128, 112, 112]               0               0\n",
      "             Conv2d-8     [4, 128, 112, 112]         147,584               0\n",
      "               ReLU-9     [4, 128, 112, 112]               0               0\n",
      "         MaxPool2d-10     [4, 128, 112, 112]               0               0\n",
      "            Conv2d-11       [4, 128, 56, 56]         295,168               0\n",
      "              ReLU-12       [4, 256, 56, 56]               0               0\n",
      "            Conv2d-13       [4, 256, 56, 56]         590,080               0\n",
      "              ReLU-14       [4, 256, 56, 56]               0               0\n",
      "            Conv2d-15       [4, 256, 56, 56]         590,080               0\n",
      "              ReLU-16       [4, 256, 56, 56]               0               0\n",
      "            Conv2d-17       [4, 256, 56, 56]         590,080               0\n",
      "              ReLU-18       [4, 256, 56, 56]               0               0\n",
      "         MaxPool2d-19       [4, 256, 56, 56]               0               0\n",
      "            Conv2d-20       [4, 256, 28, 28]       1,180,160               0\n",
      "              ReLU-21       [4, 512, 28, 28]               0               0\n",
      "            Conv2d-22       [4, 512, 28, 28]       2,359,808               0\n",
      "              ReLU-23       [4, 512, 28, 28]               0               0\n",
      "            Conv2d-24       [4, 512, 28, 28]       2,359,808               0\n",
      "              ReLU-25       [4, 512, 28, 28]               0               0\n",
      "            Conv2d-26       [4, 512, 28, 28]       2,359,808               0\n",
      "              ReLU-27       [4, 512, 28, 28]               0               0\n",
      "         MaxPool2d-28       [4, 512, 28, 28]               0               0\n",
      "            Conv2d-29       [4, 512, 14, 14]       2,359,808               0\n",
      "              ReLU-30       [4, 512, 14, 14]               0               0\n",
      "            Conv2d-31       [4, 512, 14, 14]       2,359,808               0\n",
      "              ReLU-32       [4, 512, 14, 14]               0               0\n",
      "            Conv2d-33       [4, 512, 14, 14]       2,359,808               0\n",
      "              ReLU-34       [4, 512, 14, 14]               0               0\n",
      "            Conv2d-35       [4, 512, 14, 14]       2,359,808               0\n",
      "              ReLU-36       [4, 512, 14, 14]               0               0\n",
      "         MaxPool2d-37       [4, 512, 14, 14]               0               0\n",
      "   ConvTranspose2d-38         [4, 512, 7, 7]       2,359,808       2,359,808\n",
      "              ReLU-39       [4, 512, 14, 14]               0               0\n",
      "       BatchNorm2d-40       [4, 512, 14, 14]           1,024           1,024\n",
      "   ConvTranspose2d-41       [4, 512, 14, 14]       1,179,904       1,179,904\n",
      "       BatchNorm2d-42       [4, 256, 28, 28]             512             512\n",
      "   ConvTranspose2d-43       [4, 256, 28, 28]         295,040         295,040\n",
      "       BatchNorm2d-44       [4, 128, 56, 56]             256             256\n",
      "   ConvTranspose2d-45       [4, 128, 56, 56]          73,792          73,792\n",
      "       BatchNorm2d-46      [4, 64, 112, 112]             128             128\n",
      "   ConvTranspose2d-47      [4, 64, 112, 112]          18,464          18,464\n",
      "       BatchNorm2d-48      [4, 32, 224, 224]              64              64\n",
      "            Conv2d-49      [4, 32, 224, 224]             693             693\n",
      "=============================================================================\n",
      "Total params: 23,954,069\n",
      "Trainable params: 3,929,685\n",
      "Non-trainable params: 20,024,384\n",
      "-----------------------------------------------------------------------------\n"
     ]
    }
   ],
   "source": [
    "FCN =FCN8(num_class=21)\n",
    "\n",
    "device = 'cuda' if torch.cuda.is_available() else 'cpu'\n",
    "print(f'Using {device} device')\n",
    "#print(FCN)\n",
    "print(pytorch_model_summary.summary(FCN,torch.zeros(batch_size,3,224,224),show_input=True))"
   ]
  },
  {
   "cell_type": "code",
   "execution_count": 8,
   "metadata": {},
   "outputs": [],
   "source": [
    "criterion = nn.CrossEntropyLoss()\n",
    "optimizer = optim.Adam(FCN.parameters(), lr=0.0001)"
   ]
  },
  {
   "cell_type": "code",
   "execution_count": 9,
   "metadata": {},
   "outputs": [],
   "source": [
    "def pixel_accuracy(output, label):\n",
    "    with torch.no_grad():\n",
    "        output = torch.argmax(F.softmax(output, dim=1),dim=1)\n",
    "        correct = torch.eq(output, label).int()\n",
    "        accuracy = float(correct.sum()) / float(correct.numel())\n",
    "    return accuracy\n",
    "# https://sanghyu.tistory.com/3 -- view, contiguous\n",
    "def mIoU(output, label,num_classes=21):\n",
    "    with torch.no_grad():\n",
    "        output = F.softmax(output, dim=1)\n",
    "        output = torch.argmax(output, dim=1)\n",
    "        # 메모리에 저장된 순서를 하나씩, view할때 섞이지 않도록\n",
    "        output = output.contiguous().view(-1)\n",
    "        label = label.contiguous().view(-1)\n",
    "    \n",
    "        iou_class = []\n",
    "        for c in range(0, num_classes):\n",
    "            output_true = output==c\n",
    "            label_true = label==c\n",
    "\n",
    "            if label_true.long().sum().item() == 0:\n",
    "                iou_class.append(np.nan)\n",
    "            else:\n",
    "                intersect = torch.logical_and(output_true,label_true).sum().float().item()\n",
    "                union = torch.logical_or(output_true,label_true).sum().float().item()\n",
    "                iou= intersect/union\n",
    "                iou_class.append(iou)\n",
    "        return np.nanmean(iou_class)\n",
    "\n",
    "def get_lr(optim):\n",
    "    for param_group in optim.param_groups:\n",
    "        return param_group['lr']"
   ]
  },
  {
   "cell_type": "code",
   "execution_count": 10,
   "metadata": {},
   "outputs": [
    {
     "name": "stderr",
     "output_type": "stream",
     "text": [
      "366it [00:23, 15.64it/s]\n",
      "363it [00:20, 17.50it/s]\n"
     ]
    },
    {
     "name": "stdout",
     "output_type": "stream",
     "text": [
      "1 epcoh , time = 44.15\n",
      "train loss : 2.49517, val_loss : 2.00242\n",
      "train IoU : 0.13681, val IoU : 0.17558\n",
      "train Acc : 0.53411, val Acc : 0.69593\n"
     ]
    },
    {
     "name": "stderr",
     "output_type": "stream",
     "text": [
      "366it [00:21, 17.38it/s]\n",
      "363it [00:20, 17.90it/s]\n"
     ]
    },
    {
     "name": "stdout",
     "output_type": "stream",
     "text": [
      "2 epcoh , time = 41.35\n",
      "train loss : 1.81382, val_loss : 1.51936\n",
      "train IoU : 0.19727, val IoU : 0.21932\n",
      "train Acc : 0.72847, val Acc : 0.76684\n"
     ]
    },
    {
     "name": "stderr",
     "output_type": "stream",
     "text": [
      "366it [00:20, 17.60it/s]\n",
      "363it [00:20, 18.05it/s]\n"
     ]
    },
    {
     "name": "stdout",
     "output_type": "stream",
     "text": [
      "3 epcoh , time = 40.92\n",
      "train loss : 1.48080, val_loss : 1.30680\n",
      "train IoU : 0.21823, val IoU : 0.23867\n",
      "train Acc : 0.76233, val Acc : 0.78390\n"
     ]
    },
    {
     "name": "stderr",
     "output_type": "stream",
     "text": [
      "366it [00:21, 17.24it/s]\n",
      "363it [00:20, 18.07it/s]\n"
     ]
    },
    {
     "name": "stdout",
     "output_type": "stream",
     "text": [
      "4 epcoh , time = 41.32\n",
      "train loss : 1.29651, val_loss : 1.06448\n",
      "train IoU : 0.22776, val IoU : 0.24232\n",
      "train Acc : 0.77291, val Acc : 0.79248\n"
     ]
    },
    {
     "name": "stderr",
     "output_type": "stream",
     "text": [
      "366it [00:22, 16.43it/s]\n",
      "363it [00:21, 17.15it/s]\n"
     ]
    },
    {
     "name": "stdout",
     "output_type": "stream",
     "text": [
      "5 epcoh , time = 43.45\n",
      "train loss : 1.14884, val_loss : 0.98617\n",
      "train IoU : 0.23603, val IoU : 0.24900\n",
      "train Acc : 0.77894, val Acc : 0.79646\n"
     ]
    },
    {
     "name": "stderr",
     "output_type": "stream",
     "text": [
      "366it [00:21, 17.14it/s]\n",
      "363it [00:20, 17.46it/s]\n"
     ]
    },
    {
     "name": "stdout",
     "output_type": "stream",
     "text": [
      "6 epcoh , time = 42.14\n",
      "train loss : 1.06748, val_loss : 0.93324\n",
      "train IoU : 0.24865, val IoU : 0.25523\n",
      "train Acc : 0.78394, val Acc : 0.79973\n"
     ]
    },
    {
     "name": "stderr",
     "output_type": "stream",
     "text": [
      "366it [00:21, 17.16it/s]\n",
      "363it [00:20, 18.08it/s]\n"
     ]
    },
    {
     "name": "stdout",
     "output_type": "stream",
     "text": [
      "7 epcoh , time = 41.42\n",
      "train loss : 0.99553, val_loss : 0.91754\n",
      "train IoU : 0.25270, val IoU : 0.26709\n",
      "train Acc : 0.78833, val Acc : 0.79987\n"
     ]
    },
    {
     "name": "stderr",
     "output_type": "stream",
     "text": [
      "366it [00:20, 17.62it/s]\n",
      "363it [00:20, 18.01it/s]\n"
     ]
    },
    {
     "name": "stdout",
     "output_type": "stream",
     "text": [
      "8 epcoh , time = 40.93\n",
      "train loss : 0.95394, val_loss : 0.84728\n",
      "train IoU : 0.25695, val IoU : 0.27897\n",
      "train Acc : 0.79097, val Acc : 0.80405\n"
     ]
    },
    {
     "name": "stderr",
     "output_type": "stream",
     "text": [
      "366it [00:21, 17.02it/s]\n",
      "363it [00:20, 17.43it/s]\n"
     ]
    },
    {
     "name": "stdout",
     "output_type": "stream",
     "text": [
      "9 epcoh , time = 42.33\n",
      "train loss : 0.90281, val_loss : 0.84912\n",
      "train IoU : 0.26842, val IoU : 0.28988\n",
      "train Acc : 0.79483, val Acc : 0.80690\n"
     ]
    },
    {
     "name": "stderr",
     "output_type": "stream",
     "text": [
      "366it [00:21, 17.31it/s]\n",
      "363it [00:20, 18.03it/s]\n"
     ]
    },
    {
     "name": "stdout",
     "output_type": "stream",
     "text": [
      "10 epcoh , time = 41.28\n",
      "train loss : 0.85427, val_loss : 0.81527\n",
      "train IoU : 0.27768, val IoU : 0.29649\n",
      "train Acc : 0.79973, val Acc : 0.80921\n"
     ]
    },
    {
     "name": "stderr",
     "output_type": "stream",
     "text": [
      "366it [00:20, 17.63it/s]\n",
      "363it [00:20, 18.08it/s]\n"
     ]
    },
    {
     "name": "stdout",
     "output_type": "stream",
     "text": [
      "11 epcoh , time = 40.85\n",
      "train loss : 0.82666, val_loss : 0.79249\n",
      "train IoU : 0.28422, val IoU : 0.29236\n",
      "train Acc : 0.80310, val Acc : 0.80988\n"
     ]
    },
    {
     "name": "stderr",
     "output_type": "stream",
     "text": [
      "366it [00:21, 17.21it/s]\n",
      "363it [00:20, 17.35it/s]\n"
     ]
    },
    {
     "name": "stdout",
     "output_type": "stream",
     "text": [
      "12 epcoh , time = 42.19\n",
      "train loss : 0.80193, val_loss : 0.75513\n",
      "train IoU : 0.29227, val IoU : 0.31496\n",
      "train Acc : 0.80624, val Acc : 0.81485\n"
     ]
    },
    {
     "name": "stderr",
     "output_type": "stream",
     "text": [
      "366it [00:21, 16.83it/s]\n",
      "363it [00:20, 17.46it/s]\n"
     ]
    },
    {
     "name": "stdout",
     "output_type": "stream",
     "text": [
      "13 epcoh , time = 42.54\n",
      "train loss : 0.76483, val_loss : 0.73071\n",
      "train IoU : 0.30411, val IoU : 0.32189\n",
      "train Acc : 0.81107, val Acc : 0.81602\n"
     ]
    },
    {
     "name": "stderr",
     "output_type": "stream",
     "text": [
      "366it [00:21, 17.40it/s]\n",
      "363it [00:20, 17.78it/s]\n"
     ]
    },
    {
     "name": "stdout",
     "output_type": "stream",
     "text": [
      "14 epcoh , time = 41.46\n",
      "train loss : 0.75113, val_loss : 0.70759\n",
      "train IoU : 0.31400, val IoU : 0.31590\n",
      "train Acc : 0.81343, val Acc : 0.81809\n"
     ]
    },
    {
     "name": "stderr",
     "output_type": "stream",
     "text": [
      "366it [00:21, 17.15it/s]\n",
      "363it [00:20, 18.11it/s]\n"
     ]
    },
    {
     "name": "stdout",
     "output_type": "stream",
     "text": [
      "15 epcoh , time = 41.39\n",
      "train loss : 0.72452, val_loss : 0.68514\n",
      "train IoU : 0.32152, val IoU : 0.32599\n",
      "train Acc : 0.81665, val Acc : 0.82039\n"
     ]
    },
    {
     "name": "stderr",
     "output_type": "stream",
     "text": [
      "366it [00:20, 17.57it/s]\n",
      "363it [00:20, 17.50it/s]\n"
     ]
    },
    {
     "name": "stdout",
     "output_type": "stream",
     "text": [
      "16 epcoh , time = 41.59\n",
      "train loss : 0.69860, val_loss : 0.68319\n",
      "train IoU : 0.33591, val IoU : 0.33486\n",
      "train Acc : 0.82158, val Acc : 0.82190\n"
     ]
    },
    {
     "name": "stderr",
     "output_type": "stream",
     "text": [
      "366it [00:21, 17.12it/s]\n",
      "363it [00:20, 17.96it/s]\n"
     ]
    },
    {
     "name": "stdout",
     "output_type": "stream",
     "text": [
      "17 epcoh , time = 41.60\n",
      "train loss : 0.68079, val_loss : 0.65432\n",
      "train IoU : 0.34600, val IoU : 0.34852\n",
      "train Acc : 0.82483, val Acc : 0.82732\n"
     ]
    },
    {
     "name": "stderr",
     "output_type": "stream",
     "text": [
      "366it [00:21, 17.29it/s]\n",
      "363it [00:20, 18.14it/s]\n"
     ]
    },
    {
     "name": "stdout",
     "output_type": "stream",
     "text": [
      "18 epcoh , time = 41.18\n",
      "train loss : 0.65841, val_loss : 0.62956\n",
      "train IoU : 0.36001, val IoU : 0.35760\n",
      "train Acc : 0.82917, val Acc : 0.83166\n"
     ]
    },
    {
     "name": "stderr",
     "output_type": "stream",
     "text": [
      "366it [00:21, 17.14it/s]\n",
      "363it [00:20, 18.03it/s]\n"
     ]
    },
    {
     "name": "stdout",
     "output_type": "stream",
     "text": [
      "19 epcoh , time = 41.49\n",
      "train loss : 0.63347, val_loss : 0.63582\n",
      "train IoU : 0.37355, val IoU : 0.36134\n",
      "train Acc : 0.83315, val Acc : 0.83027\n"
     ]
    },
    {
     "name": "stderr",
     "output_type": "stream",
     "text": [
      "366it [00:21, 17.24it/s]\n",
      "363it [00:20, 17.72it/s]\n"
     ]
    },
    {
     "name": "stdout",
     "output_type": "stream",
     "text": [
      "20 epcoh , time = 41.72\n",
      "train loss : 0.61462, val_loss : 0.61080\n",
      "train IoU : 0.39008, val IoU : 0.38511\n",
      "train Acc : 0.83741, val Acc : 0.83608\n"
     ]
    },
    {
     "name": "stderr",
     "output_type": "stream",
     "text": [
      "366it [00:21, 17.05it/s]\n",
      "363it [00:20, 17.55it/s]\n"
     ]
    },
    {
     "name": "stdout",
     "output_type": "stream",
     "text": [
      "21 epcoh , time = 42.15\n",
      "train loss : 0.58931, val_loss : 0.59589\n",
      "train IoU : 0.40578, val IoU : 0.39335\n",
      "train Acc : 0.84315, val Acc : 0.84018\n"
     ]
    },
    {
     "name": "stderr",
     "output_type": "stream",
     "text": [
      "366it [00:20, 17.58it/s]\n",
      "363it [00:20, 18.04it/s]\n"
     ]
    },
    {
     "name": "stdout",
     "output_type": "stream",
     "text": [
      "22 epcoh , time = 40.94\n",
      "train loss : 0.57113, val_loss : 0.58829\n",
      "train IoU : 0.41680, val IoU : 0.41277\n",
      "train Acc : 0.84775, val Acc : 0.84301\n"
     ]
    },
    {
     "name": "stderr",
     "output_type": "stream",
     "text": [
      "366it [00:20, 17.65it/s]\n",
      "363it [00:20, 18.13it/s]\n"
     ]
    },
    {
     "name": "stdout",
     "output_type": "stream",
     "text": [
      "23 epcoh , time = 40.76\n",
      "train loss : 0.56314, val_loss : 0.57899\n",
      "train IoU : 0.42745, val IoU : 0.41056\n",
      "train Acc : 0.85013, val Acc : 0.84283\n"
     ]
    },
    {
     "name": "stderr",
     "output_type": "stream",
     "text": [
      "366it [00:20, 17.56it/s]\n",
      "363it [00:20, 17.92it/s]\n"
     ]
    },
    {
     "name": "stdout",
     "output_type": "stream",
     "text": [
      "24 epcoh , time = 41.11\n",
      "train loss : 0.53566, val_loss : 0.57502\n",
      "train IoU : 0.44715, val IoU : 0.41787\n",
      "train Acc : 0.85598, val Acc : 0.84283\n"
     ]
    },
    {
     "name": "stderr",
     "output_type": "stream",
     "text": [
      "366it [00:21, 17.00it/s]\n",
      "363it [00:20, 18.11it/s]\n"
     ]
    },
    {
     "name": "stdout",
     "output_type": "stream",
     "text": [
      "25 epcoh , time = 41.58\n",
      "train loss : 0.52132, val_loss : 0.56242\n",
      "train IoU : 0.45436, val IoU : 0.43178\n",
      "train Acc : 0.85962, val Acc : 0.84697\n"
     ]
    },
    {
     "name": "stderr",
     "output_type": "stream",
     "text": [
      "366it [00:21, 17.03it/s]\n",
      "363it [00:20, 17.95it/s]\n"
     ]
    },
    {
     "name": "stdout",
     "output_type": "stream",
     "text": [
      "26 epcoh , time = 41.72\n",
      "train loss : 0.50551, val_loss : 0.55874\n",
      "train IoU : 0.46525, val IoU : 0.42995\n",
      "train Acc : 0.86179, val Acc : 0.84758\n"
     ]
    },
    {
     "name": "stderr",
     "output_type": "stream",
     "text": [
      "366it [00:21, 17.40it/s]\n",
      "363it [00:20, 17.80it/s]\n"
     ]
    },
    {
     "name": "stdout",
     "output_type": "stream",
     "text": [
      "27 epcoh , time = 41.44\n",
      "train loss : 0.49257, val_loss : 0.55841\n",
      "train IoU : 0.47552, val IoU : 0.43686\n",
      "train Acc : 0.86655, val Acc : 0.84685\n"
     ]
    },
    {
     "name": "stderr",
     "output_type": "stream",
     "text": [
      "366it [00:21, 16.92it/s]\n",
      "363it [00:20, 17.85it/s]\n"
     ]
    },
    {
     "name": "stdout",
     "output_type": "stream",
     "text": [
      "28 epcoh , time = 41.97\n",
      "train loss : 0.47305, val_loss : 0.56109\n",
      "train IoU : 0.48770, val IoU : 0.41389\n",
      "train Acc : 0.87050, val Acc : 0.84121\n"
     ]
    },
    {
     "name": "stderr",
     "output_type": "stream",
     "text": [
      "366it [00:21, 17.26it/s]\n",
      "363it [00:20, 17.78it/s]\n"
     ]
    },
    {
     "name": "stdout",
     "output_type": "stream",
     "text": [
      "29 epcoh , time = 41.64\n",
      "train loss : 0.46861, val_loss : 0.54134\n",
      "train IoU : 0.49338, val IoU : 0.44376\n",
      "train Acc : 0.87131, val Acc : 0.85255\n"
     ]
    },
    {
     "name": "stderr",
     "output_type": "stream",
     "text": [
      "366it [00:21, 16.82it/s]\n",
      "363it [00:20, 18.13it/s]\n"
     ]
    },
    {
     "name": "stdout",
     "output_type": "stream",
     "text": [
      "30 epcoh , time = 41.79\n",
      "train loss : 0.45375, val_loss : 0.54752\n",
      "train IoU : 0.50160, val IoU : 0.44142\n",
      "train Acc : 0.87541, val Acc : 0.84754\n"
     ]
    },
    {
     "name": "stderr",
     "output_type": "stream",
     "text": [
      "366it [00:21, 17.22it/s]\n",
      "363it [00:20, 17.38it/s]"
     ]
    },
    {
     "name": "stdout",
     "output_type": "stream",
     "text": [
      "31 epcoh , time = 42.14\n",
      "train loss : 0.43735, val_loss : 0.54196\n",
      "train IoU : 0.50951, val IoU : 0.44409\n",
      "train Acc : 0.87822, val Acc : 0.84720\n",
      "Stop loss not decrease\n",
      "Finish Training\n"
     ]
    },
    {
     "name": "stderr",
     "output_type": "stream",
     "text": [
      "\n"
     ]
    }
   ],
   "source": [
    "# 학습\n",
    "FCN.to(device)\n",
    "epochs= 100\n",
    "best_loss = 0\n",
    "train_loss_list = []\n",
    "train_acc_list = []\n",
    "train_iou_list = []\n",
    "val_loss_list = []\n",
    "val_acc_list = []\n",
    "val_iou_list = []\n",
    "min_loss = np.inf\n",
    "stop_count = 0\n",
    "lrs = []\n",
    "for epoch in range(epochs):\n",
    "    val_running_loss = 0\n",
    "    train_running_loss =0\n",
    "    start_time = time.time()\n",
    "    train_iou_score = 0\n",
    "    val_iou_score =0\n",
    "    train_acc = 0\n",
    "    val_acc = 0\n",
    "\n",
    "    FCN.train()\n",
    "    for iter,data in tqdm(enumerate(train_loader)):\n",
    "        inputs, labels = data\n",
    "        inputs = inputs.to(device)\n",
    "        labels = labels.to(device)\n",
    "        optimizer.zero_grad()\n",
    "        outputs = FCN(inputs)\n",
    "        # print(f'input shape : {inputs.shape}')\n",
    "        # print(f'output shape : {outputs[0][0].shape}')\n",
    "        # print(f'output  --{outputs[0][0]}')\n",
    "        # print(f'labels shape : {labels.shape}')\n",
    "        # print(f'lable --{labels[labels>0]}')\n",
    "        loss = criterion(outputs,labels) \n",
    "        loss.backward()\n",
    "        optimizer.step()\n",
    "\n",
    "        train_iou_score += mIoU(outputs, labels)\n",
    "        train_acc += pixel_accuracy(outputs, labels)\n",
    "        train_running_loss += loss.item()\n",
    "    \n",
    "    FCN.eval()\n",
    "    with torch.no_grad():\n",
    "        for iter, vdata in tqdm(enumerate(val_loader)):\n",
    "            vinputs, vlabels = vdata\n",
    "            vinputs = vinputs.to(device)\n",
    "            vlabels = vlabels.to(device)\n",
    "\n",
    "            voutputs = FCN(vinputs)\n",
    "            vloss = criterion(voutputs,vlabels)\n",
    "\n",
    "            val_running_loss += vloss.item()\n",
    "            val_iou_score += mIoU(voutputs,vlabels)\n",
    "            val_acc += pixel_accuracy(voutputs,vlabels)\n",
    "\n",
    "\n",
    "        train_running_loss /= len(train_loader)\n",
    "        train_iou_score /=len(train_loader)\n",
    "        train_acc /=len(train_loader)\n",
    "        val_running_loss /= len(val_loader)\n",
    "        val_iou_score /=len(val_loader)\n",
    "        val_acc /=len(val_loader)\n",
    "        lrs.append(get_lr(optimizer))\n",
    "\n",
    "        print(f'{epoch+1} epcoh , time = {time.time()-start_time:.2f}')\n",
    "        print(f'train loss : {train_running_loss:.5f}, val_loss : {val_running_loss:.5f}')\n",
    "        print(f'train IoU : {train_iou_score:.5f}, val IoU : {val_iou_score:.5f}')\n",
    "        print(f'train Acc : {train_acc:.5f}, val Acc : {val_acc:.5f}')\n",
    "        train_loss_list.append(train_running_loss)\n",
    "        train_iou_list.append(train_iou_score)\n",
    "        train_acc_list.append(train_acc)\n",
    "        val_loss_list.append(val_running_loss)\n",
    "        val_iou_list.append(val_iou_score)\n",
    "        val_acc_list.append(val_acc)\n",
    "\n",
    "        if min_loss < val_running_loss:\n",
    "            #min_loss = val_running_loss\n",
    "            stop_count +=1\n",
    "            if stop_count == 5:\n",
    "                print('Stop loss not decrease')\n",
    "\n",
    "                break\n",
    "        elif min_loss > val_running_loss:\n",
    "            min_loss = val_running_loss\n",
    "            stop_count = 0\n",
    "            #print('save model')\n",
    "            torch.save(FCN, './models/FCN8-Vgg19.pt') \n",
    "            \n",
    "                   \n",
    "history = {'train_loss': train_loss_list, 'val_loss':val_loss_list,'train_miou': train_iou_list,\n",
    "'val_miou':val_iou_list,'train_acc':train_acc_list,'val_acc':val_acc_list, 'lr':lrs}\n",
    "print('Finish Training')"
   ]
  },
  {
   "cell_type": "code",
   "execution_count": 11,
   "metadata": {},
   "outputs": [
    {
     "data": {
      "image/png": "[encoded data removed]",
      "text/plain": [
       "<Figure size 432x288 with 1 Axes>"
      ]
     },
     "metadata": {
      "needs_background": "light"
     },
     "output_type": "display_data"
    },
    {
     "data": {
      "image/png": "[encoded data removed]",
      "text/plain": [
       "<Figure size 432x288 with 1 Axes>"
      ]
     },
     "metadata": {
      "needs_background": "light"
     },
     "output_type": "display_data"
    },
    {
     "data": {
      "image/png": "[encoded data removed]",
      "text/plain": [
       "<Figure size 432x288 with 1 Axes>"
      ]
     },
     "metadata": {
      "needs_background": "light"
     },
     "output_type": "display_data"
    }
   ],
   "source": [
    "history = {'train_loss': train_loss_list, 'val_loss':val_loss_list,'train_miou': train_iou_list,\n",
    "'val_miou':val_iou_list,'train_acc':train_acc_list,'val_acc':val_acc_list,'lr':lrs}\n",
    "def plot_loss(history):\n",
    "    plt.plot(history['train_loss'], label='train_loss')\n",
    "    plt.plot(history['val_loss'], label='val_loss')\n",
    "    plt.title('Loss')\n",
    "    plt.xlabel('epoch')\n",
    "    plt.ylabel('loss')\n",
    "    plt.legend()\n",
    "    plt.show()\n",
    "\n",
    "def plot_miou(history):\n",
    "    plt.plot(history['train_miou'], label='train_miou')\n",
    "    plt.plot(history['val_miou'], label='val_miou')\n",
    "    plt.title('MIoU')\n",
    "    plt.xlabel('epoch')\n",
    "    plt.ylabel('miou')\n",
    "    plt.legend()\n",
    "    plt.show()\n",
    "\n",
    "def plot_acc(history):\n",
    "    plt.plot(history['train_acc'], label='train_acc')\n",
    "    plt.plot(history['val_acc'], label='val_acc')\n",
    "    plt.title('Accuracy')\n",
    "    plt.xlabel('epoch')\n",
    "    plt.ylabel('acc')\n",
    "    plt.legend()\n",
    "    plt.show()\n",
    "plot_loss(history)\n",
    "plot_acc(history)\n",
    "plot_miou(history)"
   ]
  },
  {
   "cell_type": "code",
   "execution_count": 12,
   "metadata": {},
   "outputs": [
    {
     "name": "stdout",
     "output_type": "stream",
     "text": [
      "[0.0001, 0.0001, 0.0001, 0.0001, 0.0001, 0.0001, 0.0001, 0.0001, 0.0001, 0.0001, 0.0001, 0.0001, 0.0001, 0.0001, 0.0001, 0.0001, 0.0001, 0.0001, 0.0001, 0.0001, 0.0001, 0.0001, 0.0001, 0.0001, 0.0001, 0.0001, 0.0001, 0.0001, 0.0001, 0.0001, 0.0001]\n"
     ]
    }
   ],
   "source": [
    "print(history['lr'])"
   ]
  },
  {
   "cell_type": "code",
   "execution_count": 13,
   "metadata": {},
   "outputs": [
    {
     "name": "stdout",
     "output_type": "stream",
     "text": [
      "torch.Size([4, 3, 224, 224])\n",
      "torch.Size([4, 21, 224, 224])\n",
      "torch.Size([4, 224, 224])\n"
     ]
    },
    {
     "data": {
      "text/plain": [
       "<matplotlib.image.AxesImage at 0x7f1d9c5f5cd0>"
      ]
     },
     "execution_count": 13,
     "metadata": {},
     "output_type": "execute_result"
    },
    {
     "data": {
      "image/png": "[encoded data removed]",
      "text/plain": [
       "<Figure size 432x288 with 1 Axes>"
      ]
     },
     "metadata": {
      "needs_background": "light"
     },
     "output_type": "display_data"
    }
   ],
   "source": [
    "a, b= train_set[0]\n",
    "FCN.eval()\n",
    "with torch.no_grad():\n",
    "    for i, data in enumerate(train_loader):\n",
    "        a, b = data\n",
    "        FCN.to(device)\n",
    "        print(a.shape)\n",
    "        a = a.to(device)\n",
    "        c = FCN(a)\n",
    "        break\n",
    "\n",
    "print(c.shape)\n",
    "mask = torch.argmax(c, dim=1)\n",
    "print(mask.shape)\n",
    "#print(c[0])\n",
    "plt.imshow(mask[0].cpu())\n",
    "# t = a.view(8,224,224,3)\n",
    "# # t = t.view(224,224,3)\n",
    "# plt.figure(figsize=(10,10))\n",
    "# plt.subplot(1,3,1)\n",
    "# plt.imshow(mask[0].cpu())\n",
    "# plt.subplot(1,3,2)\n",
    "# plt.imshow(b[0].cpu())\n",
    "# plt.subplot(1,3,3)\n",
    "# plt.imshow(t[0].cpu())\n"
   ]
  },
  {
   "cell_type": "code",
   "execution_count": null,
   "metadata": {},
   "outputs": [],
   "source": []
  }
 ],
 "metadata": {
  "interpreter": {
   "hash": "d4d1e4263499bec80672ea0156c357c1ee493ec2b1c70f0acce89fc37c4a6abe"
  },
  "kernelspec": {
   "display_name": "Python 3.8.12 ('base')",
   "language": "python",
   "name": "python3"
  },
  "language_info": {
   "codemirror_mode": {
    "name": "ipython",
    "version": 3
   },
   "file_extension": ".py",
   "mimetype": "text/x-python",
   "name": "python",
   "nbconvert_exporter": "python",
   "pygments_lexer": "ipython3",
   "version": "3.8.12"
  },
  "orig_nbformat": 4
 },
 "nbformat": 4,
 "nbformat_minor": 2
}
