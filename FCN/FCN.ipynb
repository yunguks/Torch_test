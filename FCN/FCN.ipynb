{
 "cells": [
  {
   "cell_type": "code",
   "execution_count": 74,
   "metadata": {},
   "outputs": [
    {
     "name": "stdout",
     "output_type": "stream",
     "text": [
      "torch : 1.11.0\n",
      "python : 3.8.12 (default, Oct 12 2021, 13:49:34) \n",
      "[GCC 7.5.0]\n"
     ]
    }
   ],
   "source": [
    "import torch\n",
    "import torch.nn as nn\n",
    "import torch.nn.functional as F\n",
    "import torchvision\n",
    "import torchvision.transforms as transforms\n",
    "import torch.optim as optim\n",
    "from torch.utils.data import Dataset\n",
    "from torch.utils.data import DataLoader\n",
    "import time\n",
    "import sys\n",
    "import pytorch_model_summary\n",
    "import numpy as np\n",
    "import os\n",
    "import matplotlib.pyplot as plt\n",
    "from PIL import Image\n",
    "from tqdm import tqdm\n",
    "\n",
    "\n",
    "print(f'torch : {torch.__version__}')\n",
    "print(f'python : {sys.version}')"
   ]
  },
  {
   "cell_type": "code",
   "execution_count": 75,
   "metadata": {},
   "outputs": [],
   "source": [
    "\n",
    "class ImageData(Dataset):\n",
    "    def __init__(self,path,transform=None,target_transform=None):\n",
    "        self.path = path\n",
    "        self.files =[]\n",
    "        self.labels = []\n",
    "        for i in os.listdir(path):\n",
    "            if i[:-3]+'png' in os.listdir(path+'/label'):\n",
    "                self.files.append(i)\n",
    "                self.labels.append(i[:-3]+'png')\n",
    "        self.transform = transform\n",
    "        self.target_transform = target_transform\n",
    "        self.to_tensor = transforms.ToTensor()\n",
    "        \n",
    "    def __getitem__(self,idx):\n",
    "        img = Image.open(self.path+'/'+self.files[idx])\n",
    "        label = Image.open(self.path+'/label/'+self.labels[idx])\n",
    "        #img = np.array(img)[:,:256]\n",
    "        if self.transform is not None:\n",
    "            img = self.transform(img)\n",
    "        if self.target_transform is not None:\n",
    "            label = self.target_transform(label)\n",
    "        return img, label\n",
    "\n",
    "    def __len__(self):\n",
    "        return len(self.files)\n",
    "\n",
    "class ConvertToBackground(object):\n",
    "    def __call__(self, img):\n",
    "        img = np.asarray(img,dtype=np.uint8)\n",
    "        img[img==255] = 0\n",
    "        # 64bit 부호 정수 long 타입 Tensor로 변환 \n",
    "        img = torch.from_numpy(img).long()\n",
    "        return img\n"
   ]
  },
  {
   "cell_type": "code",
   "execution_count": 76,
   "metadata": {},
   "outputs": [],
   "source": [
    "data_mean = [0.485, 0.456, 0.406]\n",
    "data_std = [0.229, 0.224, 0.225]\n",
    "\n",
    "transform = transforms.Compose(\n",
    "    [\n",
    "        transforms.Resize((224,224)),\n",
    "        #transforms.RandomCrop((224,224)),\n",
    "        #transforms.RandomAffine(degrees=15),\n",
    "        # PIL 타입의 [0,255] data를 [0,1]의 FloatTensor로 변환\n",
    "        transforms.ToTensor(),\n",
    "        transforms.Normalize(mean=data_mean,std=data_std)\n",
    "    ]\n",
    ")\n",
    "val_transform = transforms.Compose(\n",
    "    [\n",
    "        transforms.Resize((224,224)),\n",
    "        transforms.ToTensor(),\n",
    "        transforms.Normalize(mean=data_mean,std=data_std)\n",
    "    ]\n",
    ")\n",
    "label_transform = transforms.Compose(\n",
    "    [\n",
    "        transforms.Resize((224,224)),\n",
    "        # 경계를 배경으로 처리\n",
    "        ConvertToBackground()\n",
    "    ]\n",
    ")\n",
    "\n",
    "batch_size = 4\n",
    "train_path = './data/train'\n",
    "train_set = ImageData(train_path,transform,label_transform)\n",
    "#train_set = torchvision.datasets.VOCSegmentation(root='./data', year='2012',\\\n",
    "#    image_set='train',download=False,transform=transform,target_transform=label_transform)\n",
    "train_loader = DataLoader(train_set, batch_size= batch_size,shuffle=True)\n",
    "val_path = './data/val'\n",
    "val_set = ImageData(val_path,val_transform,label_transform)\n",
    "#val_set = torchvision.datasets.VOCSegmentation(root='./data', year='2012',\\\n",
    "#    image_set='val',download=False,transform=transform,target_transform=label_transform)\n",
    "val_loader = DataLoader(val_set, batch_size= batch_size,shuffle=True)\n"
   ]
  },
  {
   "cell_type": "code",
   "execution_count": 77,
   "metadata": {},
   "outputs": [
    {
     "name": "stdout",
     "output_type": "stream",
     "text": [
      "366\n"
     ]
    }
   ],
   "source": [
    "#a,b = train_set[0]\n",
    "#print(a.shape)\n",
    "\n",
    "print(len(train_loader))\n",
    "#temp_img,temp_label = next(iter(train_loader))\n",
    "#print(temp_img)"
   ]
  },
  {
   "cell_type": "code",
   "execution_count": 78,
   "metadata": {},
   "outputs": [],
   "source": [
    "# 사전에 학습된 vgg16 parameter 가져오기\n",
    "vgg16 = torchvision.models.vgg16(pretrained=True)\n",
    "for param in vgg16.features.parameters():\n",
    "   param.requires_grad = False"
   ]
  },
  {
   "cell_type": "code",
   "execution_count": 79,
   "metadata": {},
   "outputs": [],
   "source": [
    "class FCN32(nn.Module):\n",
    "    # vgg 16 \n",
    "    def __init__(self,num_class):\n",
    "        super(FCN32, self).__init__()\n",
    "        self.vgg16 = vgg16.features\n",
    "        self.conv1 = self.make_block(in_channel=3, out_channel=64,repeat=2)\n",
    "        self.conv2 = self.make_block(in_channel=64,out_channel=128,repeat=2)\n",
    "        self.conv3 = self.make_block(128,256,3)\n",
    "        self.conv4 = self.make_block(256,512,3)\n",
    "        self.conv5 = self.make_block(512,512,3)\n",
    "\n",
    "        self.fc1 = nn.Conv2d(in_channels=512,out_channels=4096,kernel_size=7)\n",
    "        self.fc2 = nn.Conv2d(4096,4096,1)\n",
    "        self.fc3 = nn.Conv2d(4096,num_class,1)\n",
    "\n",
    "        self.upsample32 = nn.ConvTranspose2d(in_channels=num_class,out_channels=num_class,\n",
    "        kernel_size=224,stride=32)\n",
    "    \n",
    "    def forward(self, x):\n",
    "        # x = self.conv1(x)\n",
    "        # x = self.conv2(x)\n",
    "        # x = self.conv3(x)\n",
    "        # x = self.conv4(x)\n",
    "        # x = self.conv5(x)\n",
    "        x = self.vgg16(x)\n",
    "        x = self.fc1(x)\n",
    "        x = nn.ReLU()(x)\n",
    "        x = nn.Dropout2d(0.5)(x)\n",
    "        x = self.fc2(x)\n",
    "        x = nn.ReLU()(x)\n",
    "        x = nn.Dropout2d(0.5)(x)\n",
    "        x = self.fc3(x)\n",
    "        x = self.upsample32(x)\n",
    "        return x\n",
    "\n",
    "    def make_block(self, in_channel, out_channel, repeat):\n",
    "        layers = []\n",
    "        for i in range(repeat):\n",
    "            if (i==0):\n",
    "                layers.append(nn.Conv2d(in_channel, out_channel, kernel_size=3, padding=1, stride=1))\n",
    "            else:\n",
    "                layers.append(nn.Conv2d(out_channel,out_channel,kernel_size=3, padding=1, stride=1))\n",
    "            layers.append(nn.BatchNorm2d(out_channel))\n",
    "            layers.append(nn.ReLU())\n",
    "        layers.append(nn.MaxPool2d(kernel_size=2, stride=2))\n",
    "        block = nn.Sequential(*layers)\n",
    "\n",
    "        return block"
   ]
  },
  {
   "cell_type": "code",
   "execution_count": 80,
   "metadata": {},
   "outputs": [
    {
     "name": "stdout",
     "output_type": "stream",
     "text": [
      "Using cuda device\n",
      "-----------------------------------------------------------------------------\n",
      "         Layer (type)            Input Shape         Param #     Tr. Param #\n",
      "=============================================================================\n",
      "             Conv2d-1       [4, 3, 224, 224]           1,792               0\n",
      "               ReLU-2      [4, 64, 224, 224]               0               0\n",
      "             Conv2d-3      [4, 64, 224, 224]          36,928               0\n",
      "               ReLU-4      [4, 64, 224, 224]               0               0\n",
      "          MaxPool2d-5      [4, 64, 224, 224]               0               0\n",
      "             Conv2d-6      [4, 64, 112, 112]          73,856               0\n",
      "               ReLU-7     [4, 128, 112, 112]               0               0\n",
      "             Conv2d-8     [4, 128, 112, 112]         147,584               0\n",
      "               ReLU-9     [4, 128, 112, 112]               0               0\n",
      "         MaxPool2d-10     [4, 128, 112, 112]               0               0\n",
      "            Conv2d-11       [4, 128, 56, 56]         295,168               0\n",
      "              ReLU-12       [4, 256, 56, 56]               0               0\n",
      "            Conv2d-13       [4, 256, 56, 56]         590,080               0\n",
      "              ReLU-14       [4, 256, 56, 56]               0               0\n",
      "            Conv2d-15       [4, 256, 56, 56]         590,080               0\n",
      "              ReLU-16       [4, 256, 56, 56]               0               0\n",
      "         MaxPool2d-17       [4, 256, 56, 56]               0               0\n",
      "            Conv2d-18       [4, 256, 28, 28]       1,180,160               0\n",
      "              ReLU-19       [4, 512, 28, 28]               0               0\n",
      "            Conv2d-20       [4, 512, 28, 28]       2,359,808               0\n",
      "              ReLU-21       [4, 512, 28, 28]               0               0\n",
      "            Conv2d-22       [4, 512, 28, 28]       2,359,808               0\n",
      "              ReLU-23       [4, 512, 28, 28]               0               0\n",
      "         MaxPool2d-24       [4, 512, 28, 28]               0               0\n",
      "            Conv2d-25       [4, 512, 14, 14]       2,359,808               0\n",
      "              ReLU-26       [4, 512, 14, 14]               0               0\n",
      "            Conv2d-27       [4, 512, 14, 14]       2,359,808               0\n",
      "              ReLU-28       [4, 512, 14, 14]               0               0\n",
      "            Conv2d-29       [4, 512, 14, 14]       2,359,808               0\n",
      "              ReLU-30       [4, 512, 14, 14]               0               0\n",
      "         MaxPool2d-31       [4, 512, 14, 14]               0               0\n",
      "            Conv2d-32         [4, 512, 7, 7]     102,764,544     102,764,544\n",
      "            Conv2d-33        [4, 4096, 1, 1]      16,781,312      16,781,312\n",
      "            Conv2d-34        [4, 4096, 1, 1]          86,037          86,037\n",
      "   ConvTranspose2d-35          [4, 21, 1, 1]      22,127,637      22,127,637\n",
      "=============================================================================\n",
      "Total params: 156,474,218\n",
      "Trainable params: 141,759,530\n",
      "Non-trainable params: 14,714,688\n",
      "-----------------------------------------------------------------------------\n"
     ]
    }
   ],
   "source": [
    "FCN =FCN32(num_class=21)\n",
    "\n",
    "device = 'cuda' if torch.cuda.is_available() else 'cpu'\n",
    "print(f'Using {device} device')\n",
    "#print(FCN)\n",
    "print(pytorch_model_summary.summary(FCN,torch.zeros(batch_size,3,224,224),show_input=True))"
   ]
  },
  {
   "cell_type": "code",
   "execution_count": 81,
   "metadata": {},
   "outputs": [],
   "source": [
    "criterion = nn.CrossEntropyLoss()\n",
    "optimizer = optim.Adam(FCN.parameters(), lr=0.0001)"
   ]
  },
  {
   "cell_type": "code",
   "execution_count": 82,
   "metadata": {},
   "outputs": [],
   "source": [
    "def pixel_accuracy(output, label):\n",
    "    with torch.no_grad():\n",
    "        output = torch.argmax(F.softmax(output, dim=1),dim=1)\n",
    "        correct = torch.eq(output, label).int()\n",
    "        accuracy = float(correct.sum()) / float(correct.numel())\n",
    "    return accuracy\n",
    "# https://sanghyu.tistory.com/3 -- view, contiguous\n",
    "def mIoU(output, label,num_classes=21):\n",
    "    with torch.no_grad():\n",
    "        output = F.softmax(output, dim=1)\n",
    "        output = torch.argmax(output, dim=1)\n",
    "        # 메모리에 저장된 순서를 하나씩, view할때 섞이지 않도록\n",
    "        output = output.contiguous().view(-1)\n",
    "        label = label.contiguous().view(-1)\n",
    "    \n",
    "        iou_class = []\n",
    "        for c in range(0, num_classes):\n",
    "            output_true = output==c\n",
    "            label_true = label==c\n",
    "\n",
    "            if label_true.long().sum().item() == 0:\n",
    "                iou_class.append(np.nan)\n",
    "            else:\n",
    "                intersect = torch.logical_and(output_true,label_true).sum().float().item()\n",
    "                union = torch.logical_or(output_true,label_true).sum().float().item()\n",
    "                iou= intersect/union\n",
    "                iou_class.append(iou)\n",
    "        return np.nanmean(iou_class)\n",
    "\n",
    "def get_lr(optim):\n",
    "    for param_group in optim.param_groups:\n",
    "        return param_group['lr']"
   ]
  },
  {
   "cell_type": "code",
   "execution_count": 83,
   "metadata": {},
   "outputs": [
    {
     "name": "stderr",
     "output_type": "stream",
     "text": [
      "366it [00:49,  7.41it/s]\n",
      "363it [00:20, 17.64it/s]\n"
     ]
    },
    {
     "name": "stdout",
     "output_type": "stream",
     "text": [
      "1 epcoh , time = 70.01\n",
      "train loss : 1.29481, val_loss : 1.15499\n",
      "train IoU : 0.12940, val IoU : 0.13009\n"
     ]
    },
    {
     "name": "stderr",
     "output_type": "stream",
     "text": [
      "366it [00:49,  7.36it/s]\n",
      "363it [00:21, 17.16it/s]\n"
     ]
    },
    {
     "name": "stdout",
     "output_type": "stream",
     "text": [
      "2 epcoh , time = 70.85\n",
      "train loss : 0.99288, val_loss : 0.95350\n",
      "train IoU : 0.15723, val IoU : 0.17185\n"
     ]
    },
    {
     "name": "stderr",
     "output_type": "stream",
     "text": [
      "366it [00:50,  7.19it/s]\n",
      "363it [00:20, 17.66it/s]\n"
     ]
    },
    {
     "name": "stdout",
     "output_type": "stream",
     "text": [
      "3 epcoh , time = 71.44\n",
      "train loss : 0.82982, val_loss : 0.83638\n",
      "train IoU : 0.19631, val IoU : 0.20731\n"
     ]
    },
    {
     "name": "stderr",
     "output_type": "stream",
     "text": [
      "366it [00:50,  7.30it/s]\n",
      "363it [00:20, 17.81it/s]\n"
     ]
    },
    {
     "name": "stdout",
     "output_type": "stream",
     "text": [
      "4 epcoh , time = 70.51\n",
      "train loss : 0.71888, val_loss : 0.77068\n",
      "train IoU : 0.24299, val IoU : 0.23460\n"
     ]
    },
    {
     "name": "stderr",
     "output_type": "stream",
     "text": [
      "366it [00:49,  7.34it/s]\n",
      "363it [00:22, 16.45it/s]\n"
     ]
    },
    {
     "name": "stdout",
     "output_type": "stream",
     "text": [
      "5 epcoh , time = 71.91\n",
      "train loss : 0.64222, val_loss : 0.73606\n",
      "train IoU : 0.26487, val IoU : 0.24591\n"
     ]
    },
    {
     "name": "stderr",
     "output_type": "stream",
     "text": [
      "366it [00:49,  7.32it/s]\n",
      "363it [00:20, 17.92it/s]\n"
     ]
    },
    {
     "name": "stdout",
     "output_type": "stream",
     "text": [
      "6 epcoh , time = 70.24\n",
      "train loss : 0.59172, val_loss : 0.71177\n",
      "train IoU : 0.28271, val IoU : 0.26185\n"
     ]
    },
    {
     "name": "stderr",
     "output_type": "stream",
     "text": [
      "366it [00:50,  7.30it/s]\n",
      "363it [00:20, 17.96it/s]\n"
     ]
    },
    {
     "name": "stdout",
     "output_type": "stream",
     "text": [
      "7 epcoh , time = 70.37\n",
      "train loss : 0.55029, val_loss : 0.70090\n",
      "train IoU : 0.29724, val IoU : 0.25147\n"
     ]
    },
    {
     "name": "stderr",
     "output_type": "stream",
     "text": [
      "366it [00:50,  7.29it/s]\n",
      "363it [00:21, 16.93it/s]\n"
     ]
    },
    {
     "name": "stdout",
     "output_type": "stream",
     "text": [
      "8 epcoh , time = 71.62\n",
      "train loss : 0.51441, val_loss : 0.67237\n",
      "train IoU : 0.31586, val IoU : 0.28037\n"
     ]
    },
    {
     "name": "stderr",
     "output_type": "stream",
     "text": [
      "366it [00:49,  7.33it/s]\n",
      "363it [00:21, 16.84it/s]\n"
     ]
    },
    {
     "name": "stdout",
     "output_type": "stream",
     "text": [
      "9 epcoh , time = 71.52\n",
      "train loss : 0.47878, val_loss : 0.66858\n",
      "train IoU : 0.33763, val IoU : 0.28989\n"
     ]
    },
    {
     "name": "stderr",
     "output_type": "stream",
     "text": [
      "366it [00:49,  7.33it/s]\n",
      "363it [00:21, 17.16it/s]\n"
     ]
    },
    {
     "name": "stdout",
     "output_type": "stream",
     "text": [
      "10 epcoh , time = 71.07\n",
      "train loss : 0.45713, val_loss : 0.65312\n",
      "train IoU : 0.35387, val IoU : 0.29298\n"
     ]
    },
    {
     "name": "stderr",
     "output_type": "stream",
     "text": [
      "366it [00:50,  7.21it/s]\n",
      "363it [00:20, 17.83it/s]\n"
     ]
    },
    {
     "name": "stdout",
     "output_type": "stream",
     "text": [
      "11 epcoh , time = 71.12\n",
      "train loss : 0.43520, val_loss : 0.64964\n",
      "train IoU : 0.36923, val IoU : 0.30025\n"
     ]
    },
    {
     "name": "stderr",
     "output_type": "stream",
     "text": [
      "366it [00:50,  7.30it/s]\n",
      "363it [00:20, 17.84it/s]\n"
     ]
    },
    {
     "name": "stdout",
     "output_type": "stream",
     "text": [
      "12 epcoh , time = 70.49\n",
      "train loss : 0.41176, val_loss : 0.65098\n",
      "train IoU : 0.37997, val IoU : 0.31111\n"
     ]
    },
    {
     "name": "stderr",
     "output_type": "stream",
     "text": [
      "366it [00:50,  7.30it/s]\n",
      "363it [00:20, 17.48it/s]\n"
     ]
    },
    {
     "name": "stdout",
     "output_type": "stream",
     "text": [
      "13 epcoh , time = 70.90\n",
      "train loss : 0.39064, val_loss : 0.67492\n",
      "train IoU : 0.40025, val IoU : 0.27688\n"
     ]
    },
    {
     "name": "stderr",
     "output_type": "stream",
     "text": [
      "366it [00:50,  7.23it/s]\n",
      "363it [00:20, 17.55it/s]\n"
     ]
    },
    {
     "name": "stdout",
     "output_type": "stream",
     "text": [
      "14 epcoh , time = 71.34\n",
      "train loss : 0.37696, val_loss : 0.64565\n",
      "train IoU : 0.41669, val IoU : 0.31230\n"
     ]
    },
    {
     "name": "stderr",
     "output_type": "stream",
     "text": [
      "366it [00:50,  7.30it/s]\n",
      "363it [00:20, 17.89it/s]\n"
     ]
    },
    {
     "name": "stdout",
     "output_type": "stream",
     "text": [
      "15 epcoh , time = 70.43\n",
      "train loss : 0.36176, val_loss : 0.63990\n",
      "train IoU : 0.42824, val IoU : 0.30332\n"
     ]
    },
    {
     "name": "stderr",
     "output_type": "stream",
     "text": [
      "366it [00:49,  7.36it/s]\n",
      "363it [00:20, 17.71it/s]\n"
     ]
    },
    {
     "name": "stdout",
     "output_type": "stream",
     "text": [
      "16 epcoh , time = 70.20\n",
      "train loss : 0.34834, val_loss : 0.64821\n",
      "train IoU : 0.43659, val IoU : 0.30993\n"
     ]
    },
    {
     "name": "stderr",
     "output_type": "stream",
     "text": [
      "366it [00:50,  7.32it/s]\n",
      "363it [00:20, 17.99it/s]\n"
     ]
    },
    {
     "name": "stdout",
     "output_type": "stream",
     "text": [
      "17 epcoh , time = 70.21\n",
      "train loss : 0.33795, val_loss : 0.63656\n",
      "train IoU : 0.45029, val IoU : 0.31786\n"
     ]
    },
    {
     "name": "stderr",
     "output_type": "stream",
     "text": [
      "366it [00:49,  7.35it/s]\n",
      "363it [00:20, 17.95it/s]\n"
     ]
    },
    {
     "name": "stdout",
     "output_type": "stream",
     "text": [
      "18 epcoh , time = 70.02\n",
      "train loss : 0.32633, val_loss : 0.65206\n",
      "train IoU : 0.46400, val IoU : 0.32189\n"
     ]
    },
    {
     "name": "stderr",
     "output_type": "stream",
     "text": [
      "366it [00:49,  7.35it/s]\n",
      "363it [00:21, 16.87it/s]"
     ]
    },
    {
     "name": "stdout",
     "output_type": "stream",
     "text": [
      "19 epcoh , time = 71.32\n",
      "train loss : 0.32021, val_loss : 0.63863\n",
      "train IoU : 0.46827, val IoU : 0.33166\n",
      "Stop loss not decrease\n",
      "Finish Training\n"
     ]
    },
    {
     "name": "stderr",
     "output_type": "stream",
     "text": [
      "\n"
     ]
    }
   ],
   "source": [
    "# 학습\n",
    "FCN.to(device)\n",
    "epochs= 100\n",
    "best_loss = 0\n",
    "train_loss_list = []\n",
    "train_acc_list = []\n",
    "train_iou_list = []\n",
    "val_loss_list = []\n",
    "val_acc_list = []\n",
    "val_iou_list = []\n",
    "min_loss = np.inf\n",
    "stop_count = 0\n",
    "lrs = []\n",
    "for epoch in range(epochs):\n",
    "    val_running_loss = 0\n",
    "    train_running_loss =0\n",
    "    start_time = time.time()\n",
    "    train_iou_score = 0\n",
    "    val_iou_score =0\n",
    "    train_acc = 0\n",
    "    val_acc = 0\n",
    "\n",
    "    FCN.train()\n",
    "    for iter,data in tqdm(enumerate(train_loader)):\n",
    "        inputs, labels = data\n",
    "        inputs = inputs.to(device)\n",
    "        labels = labels.to(device)\n",
    "        optimizer.zero_grad()\n",
    "        outputs = FCN(inputs)\n",
    "        # print(f'input shape : {inputs.shape}')\n",
    "        # print(f'output shape : {outputs[0][0].shape}')\n",
    "        # print(f'output  --{outputs[0][0]}')\n",
    "        # print(f'labels shape : {labels.shape}')\n",
    "        # print(f'lable --{labels[labels>0]}')\n",
    "        loss = criterion(outputs,labels) \n",
    "        loss.backward()\n",
    "        optimizer.step()\n",
    "\n",
    "        train_iou_score += mIoU(outputs, labels)\n",
    "        train_acc += pixel_accuracy(outputs, labels)\n",
    "        train_running_loss += loss.item()\n",
    "    \n",
    "    FCN.eval()\n",
    "    with torch.no_grad():\n",
    "        for iter, vdata in tqdm(enumerate(val_loader)):\n",
    "            vinputs, vlabels = vdata\n",
    "            vinputs = vinputs.to(device)\n",
    "            vlabels = vlabels.to(device)\n",
    "\n",
    "            voutputs = FCN(vinputs)\n",
    "            vloss = criterion(voutputs,vlabels)\n",
    "\n",
    "            val_running_loss += vloss.item()\n",
    "            val_iou_score += mIoU(voutputs,vlabels)\n",
    "            val_acc += pixel_accuracy(voutputs,vlabels)\n",
    "\n",
    "\n",
    "        train_running_loss /= len(train_loader)\n",
    "        train_iou_score /=len(train_loader)\n",
    "        train_acc /=len(train_loader)\n",
    "        val_running_loss /= len(val_loader)\n",
    "        val_iou_score /=len(val_loader)\n",
    "        val_acc /=len(val_loader)\n",
    "        lrs.append(get_lr(optimizer))\n",
    "\n",
    "        print(f'{epoch+1} epcoh , time = {time.time()-start_time:.2f}')\n",
    "        print(f'train loss : {train_running_loss:.5f}, val_loss : {val_running_loss:.5f}')\n",
    "        print(f'train IoU : {train_iou_score:.5f}, val IoU : {val_iou_score:.5f}')\n",
    "        train_loss_list.append(train_running_loss)\n",
    "        train_iou_list.append(train_iou_score)\n",
    "        train_acc_list.append(train_acc)\n",
    "        val_loss_list.append(val_running_loss)\n",
    "        val_iou_list.append(val_iou_score)\n",
    "        val_acc_list.append(val_acc)\n",
    "\n",
    "        if min_loss < val_running_loss:\n",
    "            #min_loss = val_running_loss\n",
    "            stop_count +=1\n",
    "            if stop_count == 5:\n",
    "                print('Stop loss not decrease')\n",
    "\n",
    "                break\n",
    "        elif min_loss > val_running_loss:\n",
    "            min_loss = val_running_loss\n",
    "            stop_count = 0\n",
    "            #print('save model')\n",
    "            torch.save(FCN, './models/FCN-Vgg16.pt') \n",
    "            \n",
    "                   \n",
    "history = {'train_loss': train_loss_list, 'val_loss':val_loss_list,'train_miou': train_iou_list,\n",
    "'val_miou':val_iou_list,'train_acc':train_acc_list,'val_acc':val_acc_list, 'lr':lrs}\n",
    "print('Finish Training')"
   ]
  },
  {
   "cell_type": "code",
   "execution_count": 84,
   "metadata": {},
   "outputs": [
    {
     "data": {
      "image/png": "[encoded data removed]",
      "text/plain": [
       "<Figure size 432x288 with 1 Axes>"
      ]
     },
     "metadata": {
      "needs_background": "light"
     },
     "output_type": "display_data"
    },
    {
     "data": {
      "image/png": "[encoded data removed]",
      "text/plain": [
       "<Figure size 432x288 with 1 Axes>"
      ]
     },
     "metadata": {
      "needs_background": "light"
     },
     "output_type": "display_data"
    },
    {
     "data": {
      "image/png": "[encoded data removed]",
      "text/plain": [
       "<Figure size 432x288 with 1 Axes>"
      ]
     },
     "metadata": {
      "needs_background": "light"
     },
     "output_type": "display_data"
    }
   ],
   "source": [
    "history = {'train_loss': train_loss_list, 'val_loss':val_loss_list,'train_miou': train_iou_list,\n",
    "'val_miou':val_iou_list,'train_acc':train_acc_list,'val_acc':val_acc_list,'lr':lrs}\n",
    "def plot_loss(history):\n",
    "    plt.plot(history['train_loss'], label='train_loss')\n",
    "    plt.plot(history['val_loss'], label='val_loss')\n",
    "    plt.title('Loss')\n",
    "    plt.xlabel('epoch')\n",
    "    plt.ylabel('loss')\n",
    "    plt.legend()\n",
    "    plt.show()\n",
    "\n",
    "def plot_miou(history):\n",
    "    plt.plot(history['train_miou'], label='train_miou')\n",
    "    plt.plot(history['val_miou'], label='val_miou')\n",
    "    plt.title('MIoU')\n",
    "    plt.xlabel('epoch')\n",
    "    plt.ylabel('miou')\n",
    "    plt.legend()\n",
    "    plt.show()\n",
    "\n",
    "def plot_acc(history):\n",
    "    plt.plot(history['train_acc'], label='train_acc')\n",
    "    plt.plot(history['val_acc'], label='val_acc')\n",
    "    plt.title('Accuracy')\n",
    "    plt.xlabel('epoch')\n",
    "    plt.ylabel('acc')\n",
    "    plt.legend()\n",
    "    plt.show()\n",
    "plot_loss(history)\n",
    "plot_acc(history)\n",
    "plot_miou(history)"
   ]
  },
  {
   "cell_type": "code",
   "execution_count": 85,
   "metadata": {},
   "outputs": [
    {
     "name": "stdout",
     "output_type": "stream",
     "text": [
      "[0.0001, 0.0001, 0.0001, 0.0001, 0.0001, 0.0001, 0.0001, 0.0001, 0.0001, 0.0001, 0.0001, 0.0001, 0.0001, 0.0001, 0.0001, 0.0001, 0.0001, 0.0001, 0.0001]\n"
     ]
    }
   ],
   "source": [
    "print(history['lr'])"
   ]
  },
  {
   "cell_type": "code",
   "execution_count": 86,
   "metadata": {},
   "outputs": [
    {
     "name": "stdout",
     "output_type": "stream",
     "text": [
      "torch.Size([4, 3, 224, 224])\n",
      "torch.Size([4, 21, 224, 224])\n",
      "torch.Size([4, 224, 224])\n"
     ]
    },
    {
     "data": {
      "text/plain": [
       "<matplotlib.image.AxesImage at 0x7fe52cdd0d90>"
      ]
     },
     "execution_count": 86,
     "metadata": {},
     "output_type": "execute_result"
    },
    {
     "data": {
      "image/png": "[encoded data removed]",
      "text/plain": [
       "<Figure size 432x288 with 1 Axes>"
      ]
     },
     "metadata": {
      "needs_background": "light"
     },
     "output_type": "display_data"
    }
   ],
   "source": [
    "a, b= train_set[0]\n",
    "FCN.eval()\n",
    "with torch.no_grad():\n",
    "    for i, data in enumerate(train_loader):\n",
    "        a, b = data\n",
    "        FCN.to(device)\n",
    "        print(a.shape)\n",
    "        a = a.to(device)\n",
    "        c = FCN(a)\n",
    "        break\n",
    "\n",
    "print(c.shape)\n",
    "mask = torch.argmax(c, dim=1)\n",
    "print(mask.shape)\n",
    "#print(c[0])\n",
    "plt.imshow(mask[0].cpu())\n",
    "# t = a.view(8,224,224,3)\n",
    "# # t = t.view(224,224,3)\n",
    "# plt.figure(figsize=(10,10))\n",
    "# plt.subplot(1,3,1)\n",
    "# plt.imshow(mask[0].cpu())\n",
    "# plt.subplot(1,3,2)\n",
    "# plt.imshow(b[0].cpu())\n",
    "# plt.subplot(1,3,3)\n",
    "# plt.imshow(t[0].cpu())\n"
   ]
  },
  {
   "cell_type": "code",
   "execution_count": null,
   "metadata": {},
   "outputs": [],
   "source": []
  }
 ],
 "metadata": {
  "interpreter": {
   "hash": "d4d1e4263499bec80672ea0156c357c1ee493ec2b1c70f0acce89fc37c4a6abe"
  },
  "kernelspec": {
   "display_name": "Python 3.8.12 ('base')",
   "language": "python",
   "name": "python3"
  },
  "language_info": {
   "codemirror_mode": {
    "name": "ipython",
    "version": 3
   },
   "file_extension": ".py",
   "mimetype": "text/x-python",
   "name": "python",
   "nbconvert_exporter": "python",
   "pygments_lexer": "ipython3",
   "version": "3.8.12"
  },
  "orig_nbformat": 4
 },
 "nbformat": 4,
 "nbformat_minor": 2
}
