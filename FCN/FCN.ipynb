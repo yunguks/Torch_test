{
 "cells": [
  {
   "cell_type": "code",
   "execution_count": 50,
   "metadata": {},
   "outputs": [
    {
     "name": "stdout",
     "output_type": "stream",
     "text": [
      "torch : 1.11.0\n",
      "python : 3.8.12 (default, Oct 12 2021, 13:49:34) \n",
      "[GCC 7.5.0]\n"
     ]
    }
   ],
   "source": [
    "import torch\n",
    "import torch.nn as nn\n",
    "import torch.nn.functional as F\n",
    "import torchvision\n",
    "import torchvision.transforms as transforms\n",
    "import torch.optim as optim\n",
    "from torch.utils.data import Dataset\n",
    "from torch.utils.data import DataLoader\n",
    "import time\n",
    "import sys\n",
    "import pytorch_model_summary\n",
    "import numpy as np\n",
    "import os\n",
    "import matplotlib.pyplot as plt\n",
    "from PIL import Image\n",
    "from tqdm import tqdm\n",
    "\n",
    "\n",
    "print(f'torch : {torch.__version__}')\n",
    "print(f'python : {sys.version}')"
   ]
  },
  {
   "cell_type": "code",
   "execution_count": 51,
   "metadata": {},
   "outputs": [],
   "source": [
    "\n",
    "class ImageData(Dataset):\n",
    "    def __init__(self,path,transform=None,target_transform=None):\n",
    "        self.path = path\n",
    "        self.files =[]\n",
    "        self.labels = []\n",
    "        for i in os.listdir(path):\n",
    "            if i[:-3]+'png' in os.listdir(path+'/label'):\n",
    "                self.files.append(i)\n",
    "                self.labels.append(i[:-3]+'png')\n",
    "        self.transform = transform\n",
    "        self.target_transform = target_transform\n",
    "        self.to_tensor = transforms.ToTensor()\n",
    "        \n",
    "    def __getitem__(self,idx):\n",
    "        img = Image.open(self.path+'/'+self.files[idx])\n",
    "        label = Image.open(self.path+'/label/'+self.labels[idx])\n",
    "        #img = np.array(img)[:,:256]\n",
    "        if self.transform is not None:\n",
    "            img = self.transform(img)\n",
    "        if self.target_transform is not None:\n",
    "            label = self.target_transform(label)\n",
    "        return img, label\n",
    "\n",
    "    def __len__(self):\n",
    "        return len(self.files)\n",
    "\n",
    "class ConvertToBackground(object):\n",
    "    def __call__(self, img):\n",
    "        img = np.asarray(img,dtype=np.uint8)\n",
    "        img[img==255] = 0\n",
    "        # 64bit 부호 정수 long 타입 Tensor로 변환 \n",
    "        img = torch.from_numpy(img).long()\n",
    "        return img\n"
   ]
  },
  {
   "cell_type": "code",
   "execution_count": 52,
   "metadata": {},
   "outputs": [],
   "source": [
    "transform = transforms.Compose(\n",
    "    [\n",
    "        transforms.Resize((224,224)),\n",
    "        # PIL 타입의 [0,255] data를 [0,1]의 FloatTensor로 변환\n",
    "        transforms.ToTensor(),\n",
    "        transforms.Normalize((0.5,0.5,0.5),(0.5,0.5,0.5))\n",
    "    ]\n",
    ")\n",
    "label_transform = transforms.Compose(\n",
    "    [\n",
    "        transforms.Resize((224,224)),\n",
    "        # 경계를 배경으로 처리\n",
    "        ConvertToBackground()\n",
    "    ]\n",
    ")\n",
    "\n",
    "batch_size = 4\n",
    "train_path = './data/train'\n",
    "train_set = ImageData(train_path,transform,label_transform)\n",
    "#train_set = torchvision.datasets.VOCSegmentation(root='./data', year='2012',\\\n",
    "#    image_set='train',download=False,transform=transform,target_transform=label_transform)\n",
    "train_loader = DataLoader(train_set, batch_size= batch_size,shuffle=True)\n",
    "val_path = './data/val'\n",
    "val_set = ImageData(val_path,transform,label_transform)\n",
    "#val_set = torchvision.datasets.VOCSegmentation(root='./data', year='2012',\\\n",
    "#    image_set='val',download=False,transform=transform,target_transform=label_transform)\n",
    "val_loader = DataLoader(val_set, batch_size= batch_size,shuffle=True)\n"
   ]
  },
  {
   "cell_type": "code",
   "execution_count": 53,
   "metadata": {},
   "outputs": [
    {
     "name": "stdout",
     "output_type": "stream",
     "text": [
      "366\n"
     ]
    }
   ],
   "source": [
    "#a,b = train_set[0]\n",
    "#print(a.shape)\n",
    "\n",
    "print(len(train_loader))\n",
    "#temp_img,temp_label = next(iter(train_loader))\n",
    "#print(temp_img)"
   ]
  },
  {
   "cell_type": "code",
   "execution_count": 54,
   "metadata": {},
   "outputs": [],
   "source": [
    "# 사전에 학습된 vgg16 parameter 가져오기\n",
    "vgg16 = torchvision.models.vgg16(pretrained=True)\n",
    "for param in vgg16.features.parameters():\n",
    "   param.requires_grad = False"
   ]
  },
  {
   "cell_type": "code",
   "execution_count": 55,
   "metadata": {},
   "outputs": [],
   "source": [
    "class FCN32(nn.Module):\n",
    "    # vgg 16 \n",
    "    def __init__(self,num_class):\n",
    "        super(FCN32, self).__init__()\n",
    "        self.vgg16 = vgg16.features\n",
    "        self.conv1 = self.make_block(in_channel=3, out_channel=64,repeat=2)\n",
    "        self.conv2 = self.make_block(in_channel=64,out_channel=128,repeat=2)\n",
    "        self.conv3 = self.make_block(128,256,3)\n",
    "        self.conv4 = self.make_block(256,512,3)\n",
    "        self.conv5 = self.make_block(512,512,3)\n",
    "\n",
    "        self.fc1 = nn.Conv2d(in_channels=512,out_channels=4096,kernel_size=7)\n",
    "        self.fc2 = nn.Conv2d(4096,4096,1)\n",
    "        self.fc3 = nn.Conv2d(4096,num_class,1)\n",
    "\n",
    "        self.upsample32 = nn.ConvTranspose2d(in_channels=num_class,out_channels=num_class,\n",
    "        kernel_size=224,stride=32)\n",
    "    \n",
    "    def forward(self, x):\n",
    "        # x = self.conv1(x)\n",
    "        # x = self.conv2(x)\n",
    "        # x = self.conv3(x)\n",
    "        # x = self.conv4(x)\n",
    "        # x = self.conv5(x)\n",
    "        x = self.vgg16(x)\n",
    "        x = self.fc1(x)\n",
    "        x = nn.ReLU()(x)\n",
    "        x = nn.Dropout2d(0.5)(x)\n",
    "        x = self.fc2(x)\n",
    "        x = nn.ReLU()(x)\n",
    "        x = nn.Dropout2d(0.5)(x)\n",
    "        x = self.fc3(x)\n",
    "        x = self.upsample32(x)\n",
    "        return x\n",
    "\n",
    "    def make_block(self, in_channel, out_channel, repeat):\n",
    "        layers = []\n",
    "        for i in range(repeat):\n",
    "            if (i==0):\n",
    "                layers.append(nn.Conv2d(in_channel, out_channel, kernel_size=3, padding=1, stride=1))\n",
    "            else:\n",
    "                layers.append(nn.Conv2d(out_channel,out_channel,kernel_size=3, padding=1, stride=1))\n",
    "            layers.append(nn.BatchNorm2d(out_channel))\n",
    "            layers.append(nn.ReLU())\n",
    "        layers.append(nn.MaxPool2d(kernel_size=2, stride=2))\n",
    "        block = nn.Sequential(*layers)\n",
    "\n",
    "        return block"
   ]
  },
  {
   "cell_type": "code",
   "execution_count": 56,
   "metadata": {},
   "outputs": [
    {
     "name": "stdout",
     "output_type": "stream",
     "text": [
      "Using cuda device\n",
      "-----------------------------------------------------------------------------\n",
      "         Layer (type)            Input Shape         Param #     Tr. Param #\n",
      "=============================================================================\n",
      "             Conv2d-1       [4, 3, 224, 224]           1,792               0\n",
      "               ReLU-2      [4, 64, 224, 224]               0               0\n",
      "             Conv2d-3      [4, 64, 224, 224]          36,928               0\n",
      "               ReLU-4      [4, 64, 224, 224]               0               0\n",
      "          MaxPool2d-5      [4, 64, 224, 224]               0               0\n",
      "             Conv2d-6      [4, 64, 112, 112]          73,856               0\n",
      "               ReLU-7     [4, 128, 112, 112]               0               0\n",
      "             Conv2d-8     [4, 128, 112, 112]         147,584               0\n",
      "               ReLU-9     [4, 128, 112, 112]               0               0\n",
      "         MaxPool2d-10     [4, 128, 112, 112]               0               0\n",
      "            Conv2d-11       [4, 128, 56, 56]         295,168               0\n",
      "              ReLU-12       [4, 256, 56, 56]               0               0\n",
      "            Conv2d-13       [4, 256, 56, 56]         590,080               0\n",
      "              ReLU-14       [4, 256, 56, 56]               0               0\n",
      "            Conv2d-15       [4, 256, 56, 56]         590,080               0\n",
      "              ReLU-16       [4, 256, 56, 56]               0               0\n",
      "         MaxPool2d-17       [4, 256, 56, 56]               0               0\n",
      "            Conv2d-18       [4, 256, 28, 28]       1,180,160               0\n",
      "              ReLU-19       [4, 512, 28, 28]               0               0\n",
      "            Conv2d-20       [4, 512, 28, 28]       2,359,808               0\n",
      "              ReLU-21       [4, 512, 28, 28]               0               0\n",
      "            Conv2d-22       [4, 512, 28, 28]       2,359,808               0\n",
      "              ReLU-23       [4, 512, 28, 28]               0               0\n",
      "         MaxPool2d-24       [4, 512, 28, 28]               0               0\n",
      "            Conv2d-25       [4, 512, 14, 14]       2,359,808               0\n",
      "              ReLU-26       [4, 512, 14, 14]               0               0\n",
      "            Conv2d-27       [4, 512, 14, 14]       2,359,808               0\n",
      "              ReLU-28       [4, 512, 14, 14]               0               0\n",
      "            Conv2d-29       [4, 512, 14, 14]       2,359,808               0\n",
      "              ReLU-30       [4, 512, 14, 14]               0               0\n",
      "         MaxPool2d-31       [4, 512, 14, 14]               0               0\n",
      "            Conv2d-32         [4, 512, 7, 7]     102,764,544     102,764,544\n",
      "            Conv2d-33        [4, 4096, 1, 1]      16,781,312      16,781,312\n",
      "            Conv2d-34        [4, 4096, 1, 1]          86,037          86,037\n",
      "   ConvTranspose2d-35          [4, 21, 1, 1]      22,127,637      22,127,637\n",
      "=============================================================================\n",
      "Total params: 156,474,218\n",
      "Trainable params: 141,759,530\n",
      "Non-trainable params: 14,714,688\n",
      "-----------------------------------------------------------------------------\n"
     ]
    }
   ],
   "source": [
    "FCN =FCN32(num_class=21)\n",
    "\n",
    "device = 'cuda' if torch.cuda.is_available() else 'cpu'\n",
    "print(f'Using {device} device')\n",
    "#print(FCN)\n",
    "print(pytorch_model_summary.summary(FCN,torch.zeros(batch_size,3,224,224),show_input=True))"
   ]
  },
  {
   "cell_type": "code",
   "execution_count": 57,
   "metadata": {},
   "outputs": [],
   "source": [
    "criterion = nn.CrossEntropyLoss()\n",
    "optimizer = optim.Adam(FCN.parameters(), lr=0.0001)"
   ]
  },
  {
   "cell_type": "code",
   "execution_count": 58,
   "metadata": {},
   "outputs": [],
   "source": [
    "def pixel_accuracy(output, label):\n",
    "    with torch.no_grad():\n",
    "        output = torch.argmax(F.softmax(output, dim=1),dim=1)\n",
    "        correct = torch.eq(output, label).int()\n",
    "        accuracy = float(correct.sum()) / float(correct.numel())\n",
    "    return accuracy\n",
    "# https://sanghyu.tistory.com/3 -- view, contiguous\n",
    "def mIoU(output, label,num_classes=21):\n",
    "    with torch.no_grad():\n",
    "        output = F.softmax(output, dim=1)\n",
    "        output = torch.argmax(output, dim=1)\n",
    "        # 메모리에 저장된 순서를 하나씩, view할때 섞이지 않도록\n",
    "        output = output.contiguous().view(-1)\n",
    "        label = label.contiguous().view(-1)\n",
    "    \n",
    "        iou_class = []\n",
    "        for c in range(0, num_classes):\n",
    "            output_true = output==c\n",
    "            label_true = label==c\n",
    "\n",
    "            if label_true.long().sum().item() == 0:\n",
    "                iou_class.append(np.nan)\n",
    "            else:\n",
    "                intersect = torch.logical_and(output_true,label_true).sum().float().item()\n",
    "                union = torch.logical_or(output_true,label_true).sum().float().item()\n",
    "                iou= intersect/union\n",
    "                iou_class.append(iou)\n",
    "        return np.nanmean(iou_class)\n",
    "            "
   ]
  },
  {
   "cell_type": "code",
   "execution_count": 59,
   "metadata": {},
   "outputs": [
    {
     "name": "stderr",
     "output_type": "stream",
     "text": [
      "366it [00:49,  7.39it/s]\n",
      "363it [00:20, 17.53it/s]\n"
     ]
    },
    {
     "name": "stdout",
     "output_type": "stream",
     "text": [
      "1 epcoh , time = 71.77\n",
      "train loss : 1.32150, val_loss : 1.16487\n",
      "train IoU : 0.12842, val IoU : 0.13051\n"
     ]
    },
    {
     "name": "stderr",
     "output_type": "stream",
     "text": [
      "366it [00:49,  7.33it/s]\n",
      "363it [00:19, 18.17it/s]\n"
     ]
    },
    {
     "name": "stdout",
     "output_type": "stream",
     "text": [
      "2 epcoh , time = 71.42\n",
      "train loss : 1.03928, val_loss : 0.95607\n",
      "train IoU : 0.14545, val IoU : 0.16082\n"
     ]
    },
    {
     "name": "stderr",
     "output_type": "stream",
     "text": [
      "366it [00:49,  7.33it/s]\n",
      "363it [00:20, 17.81it/s]\n"
     ]
    },
    {
     "name": "stdout",
     "output_type": "stream",
     "text": [
      "3 epcoh , time = 71.81\n",
      "train loss : 0.86442, val_loss : 0.88749\n",
      "train IoU : 0.18515, val IoU : 0.20407\n"
     ]
    },
    {
     "name": "stderr",
     "output_type": "stream",
     "text": [
      "366it [00:50,  7.22it/s]\n",
      "363it [00:20, 17.84it/s]\n"
     ]
    },
    {
     "name": "stdout",
     "output_type": "stream",
     "text": [
      "4 epcoh , time = 72.58\n",
      "train loss : 0.74756, val_loss : 0.79294\n",
      "train IoU : 0.22653, val IoU : 0.22209\n"
     ]
    },
    {
     "name": "stderr",
     "output_type": "stream",
     "text": [
      "366it [00:50,  7.28it/s]\n",
      "363it [00:20, 18.04it/s]\n"
     ]
    },
    {
     "name": "stdout",
     "output_type": "stream",
     "text": [
      "5 epcoh , time = 71.89\n",
      "train loss : 0.65300, val_loss : 0.77669\n",
      "train IoU : 0.26249, val IoU : 0.25343\n"
     ]
    },
    {
     "name": "stderr",
     "output_type": "stream",
     "text": [
      "366it [00:49,  7.35it/s]\n",
      "363it [00:20, 17.77it/s]\n"
     ]
    },
    {
     "name": "stdout",
     "output_type": "stream",
     "text": [
      "6 epcoh , time = 71.76\n",
      "train loss : 0.59390, val_loss : 0.72830\n",
      "train IoU : 0.27656, val IoU : 0.24931\n"
     ]
    },
    {
     "name": "stderr",
     "output_type": "stream",
     "text": [
      "366it [00:49,  7.33it/s]\n",
      "363it [00:20, 17.72it/s]\n"
     ]
    },
    {
     "name": "stdout",
     "output_type": "stream",
     "text": [
      "7 epcoh , time = 71.89\n",
      "train loss : 0.55024, val_loss : 0.71831\n",
      "train IoU : 0.29855, val IoU : 0.26278\n"
     ]
    },
    {
     "name": "stderr",
     "output_type": "stream",
     "text": [
      "366it [00:50,  7.24it/s]\n",
      "363it [00:19, 18.16it/s]\n"
     ]
    },
    {
     "name": "stdout",
     "output_type": "stream",
     "text": [
      "8 epcoh , time = 72.03\n",
      "train loss : 0.51299, val_loss : 0.71615\n",
      "train IoU : 0.31979, val IoU : 0.26874\n"
     ]
    },
    {
     "name": "stderr",
     "output_type": "stream",
     "text": [
      "366it [00:50,  7.25it/s]\n",
      "363it [00:20, 18.15it/s]\n"
     ]
    },
    {
     "name": "stdout",
     "output_type": "stream",
     "text": [
      "9 epcoh , time = 72.04\n",
      "train loss : 0.48479, val_loss : 0.69015\n",
      "train IoU : 0.33475, val IoU : 0.27287\n"
     ]
    },
    {
     "name": "stderr",
     "output_type": "stream",
     "text": [
      "366it [00:50,  7.29it/s]\n",
      "363it [00:20, 18.11it/s]\n"
     ]
    },
    {
     "name": "stdout",
     "output_type": "stream",
     "text": [
      "10 epcoh , time = 70.25\n",
      "train loss : 0.45752, val_loss : 0.69303\n",
      "train IoU : 0.34780, val IoU : 0.26933\n"
     ]
    },
    {
     "name": "stderr",
     "output_type": "stream",
     "text": [
      "366it [00:49,  7.37it/s]\n",
      "363it [00:20, 18.15it/s]\n"
     ]
    },
    {
     "name": "stdout",
     "output_type": "stream",
     "text": [
      "11 epcoh , time = 71.15\n",
      "train loss : 0.43654, val_loss : 0.68792\n",
      "train IoU : 0.36048, val IoU : 0.29416\n"
     ]
    },
    {
     "name": "stderr",
     "output_type": "stream",
     "text": [
      "366it [00:49,  7.34it/s]\n",
      "363it [00:20, 17.71it/s]\n"
     ]
    },
    {
     "name": "stdout",
     "output_type": "stream",
     "text": [
      "12 epcoh , time = 70.39\n",
      "train loss : 0.41527, val_loss : 0.70428\n",
      "train IoU : 0.37623, val IoU : 0.26475\n"
     ]
    },
    {
     "name": "stderr",
     "output_type": "stream",
     "text": [
      "366it [00:49,  7.33it/s]\n",
      "363it [00:20, 17.98it/s]\n"
     ]
    },
    {
     "name": "stdout",
     "output_type": "stream",
     "text": [
      "13 epcoh , time = 71.60\n",
      "train loss : 0.40448, val_loss : 0.67755\n",
      "train IoU : 0.38429, val IoU : 0.27763\n"
     ]
    },
    {
     "name": "stderr",
     "output_type": "stream",
     "text": [
      "366it [00:49,  7.34it/s]\n",
      "363it [00:20, 17.45it/s]\n"
     ]
    },
    {
     "name": "stdout",
     "output_type": "stream",
     "text": [
      "14 epcoh , time = 72.16\n",
      "train loss : 0.39078, val_loss : 0.67664\n",
      "train IoU : 0.40076, val IoU : 0.30280\n"
     ]
    },
    {
     "name": "stderr",
     "output_type": "stream",
     "text": [
      "366it [00:50,  7.30it/s]\n",
      "363it [00:20, 17.93it/s]\n"
     ]
    },
    {
     "name": "stdout",
     "output_type": "stream",
     "text": [
      "15 epcoh , time = 71.86\n",
      "train loss : 0.38038, val_loss : 0.67383\n",
      "train IoU : 0.40512, val IoU : 0.29692\n"
     ]
    },
    {
     "name": "stderr",
     "output_type": "stream",
     "text": [
      "366it [00:49,  7.36it/s]\n",
      "363it [00:19, 18.18it/s]\n"
     ]
    },
    {
     "name": "stdout",
     "output_type": "stream",
     "text": [
      "16 epcoh , time = 71.17\n",
      "train loss : 0.36741, val_loss : 0.66918\n",
      "train IoU : 0.41922, val IoU : 0.31203\n"
     ]
    },
    {
     "name": "stderr",
     "output_type": "stream",
     "text": [
      "366it [00:50,  7.30it/s]\n",
      "363it [00:20, 17.48it/s]\n"
     ]
    },
    {
     "name": "stdout",
     "output_type": "stream",
     "text": [
      "17 epcoh , time = 70.88\n",
      "train loss : 0.35810, val_loss : 0.67925\n",
      "train IoU : 0.42653, val IoU : 0.29840\n"
     ]
    },
    {
     "name": "stderr",
     "output_type": "stream",
     "text": [
      "366it [00:49,  7.34it/s]\n",
      "363it [00:20, 17.67it/s]\n"
     ]
    },
    {
     "name": "stdout",
     "output_type": "stream",
     "text": [
      "18 epcoh , time = 71.92\n",
      "train loss : 0.35034, val_loss : 0.67918\n",
      "train IoU : 0.43279, val IoU : 0.31145\n"
     ]
    },
    {
     "name": "stderr",
     "output_type": "stream",
     "text": [
      "366it [00:50,  7.24it/s]\n",
      "363it [00:20, 17.63it/s]\n"
     ]
    },
    {
     "name": "stdout",
     "output_type": "stream",
     "text": [
      "19 epcoh , time = 72.68\n",
      "train loss : 0.34187, val_loss : 0.67485\n",
      "train IoU : 0.44431, val IoU : 0.32149\n"
     ]
    },
    {
     "name": "stderr",
     "output_type": "stream",
     "text": [
      "366it [00:49,  7.32it/s]\n",
      "363it [00:20, 17.57it/s]\n"
     ]
    },
    {
     "name": "stdout",
     "output_type": "stream",
     "text": [
      "20 epcoh , time = 72.27\n",
      "train loss : 0.33013, val_loss : 0.67059\n",
      "train IoU : 0.45448, val IoU : 0.32393\n"
     ]
    },
    {
     "name": "stderr",
     "output_type": "stream",
     "text": [
      "366it [00:50,  7.30it/s]\n",
      "363it [00:20, 17.90it/s]\n"
     ]
    },
    {
     "name": "stdout",
     "output_type": "stream",
     "text": [
      "21 epcoh , time = 71.88\n",
      "train loss : 0.32294, val_loss : 0.66927\n",
      "train IoU : 0.45804, val IoU : 0.32657\n"
     ]
    },
    {
     "name": "stderr",
     "output_type": "stream",
     "text": [
      "366it [00:50,  7.22it/s]\n",
      "363it [00:21, 16.89it/s]\n"
     ]
    },
    {
     "name": "stdout",
     "output_type": "stream",
     "text": [
      "22 epcoh , time = 73.66\n",
      "train loss : 0.31390, val_loss : 0.66924\n",
      "train IoU : 0.46606, val IoU : 0.31325\n"
     ]
    },
    {
     "name": "stderr",
     "output_type": "stream",
     "text": [
      "366it [00:51,  7.13it/s]\n",
      "363it [00:20, 17.81it/s]\n"
     ]
    },
    {
     "name": "stdout",
     "output_type": "stream",
     "text": [
      "23 epcoh , time = 73.21\n",
      "train loss : 0.30672, val_loss : 0.66479\n",
      "train IoU : 0.47436, val IoU : 0.32347\n"
     ]
    },
    {
     "name": "stderr",
     "output_type": "stream",
     "text": [
      "366it [00:50,  7.23it/s]\n",
      "363it [00:20, 17.87it/s]\n"
     ]
    },
    {
     "name": "stdout",
     "output_type": "stream",
     "text": [
      "24 epcoh , time = 72.40\n",
      "train loss : 0.30140, val_loss : 0.66422\n",
      "train IoU : 0.48222, val IoU : 0.32569\n"
     ]
    },
    {
     "name": "stderr",
     "output_type": "stream",
     "text": [
      "366it [00:50,  7.29it/s]\n",
      "363it [00:20, 17.87it/s]\n"
     ]
    },
    {
     "name": "stdout",
     "output_type": "stream",
     "text": [
      "25 epcoh , time = 70.53\n",
      "train loss : 0.29466, val_loss : 0.66980\n",
      "train IoU : 0.48722, val IoU : 0.32367\n"
     ]
    },
    {
     "name": "stderr",
     "output_type": "stream",
     "text": [
      "366it [00:50,  7.25it/s]\n",
      "363it [00:20, 17.35it/s]\n"
     ]
    },
    {
     "name": "stdout",
     "output_type": "stream",
     "text": [
      "26 epcoh , time = 72.93\n",
      "train loss : 0.28546, val_loss : 0.66687\n",
      "train IoU : 0.49591, val IoU : 0.32654\n"
     ]
    },
    {
     "name": "stderr",
     "output_type": "stream",
     "text": [
      "366it [00:50,  7.29it/s]\n",
      "363it [00:19, 18.16it/s]\n"
     ]
    },
    {
     "name": "stdout",
     "output_type": "stream",
     "text": [
      "27 epcoh , time = 70.21\n",
      "train loss : 0.28364, val_loss : 0.67533\n",
      "train IoU : 0.50700, val IoU : 0.32539\n"
     ]
    },
    {
     "name": "stderr",
     "output_type": "stream",
     "text": [
      "366it [00:49,  7.34it/s]\n",
      "363it [00:20, 17.82it/s]\n"
     ]
    },
    {
     "name": "stdout",
     "output_type": "stream",
     "text": [
      "28 epcoh , time = 71.71\n",
      "train loss : 0.28020, val_loss : 0.67356\n",
      "train IoU : 0.50616, val IoU : 0.32102\n"
     ]
    },
    {
     "name": "stderr",
     "output_type": "stream",
     "text": [
      "366it [00:49,  7.35it/s]\n",
      "363it [00:20, 17.88it/s]\n"
     ]
    },
    {
     "name": "stdout",
     "output_type": "stream",
     "text": [
      "29 epcoh , time = 71.64\n",
      "train loss : 0.27400, val_loss : 0.66140\n",
      "train IoU : 0.51433, val IoU : 0.32141\n"
     ]
    },
    {
     "name": "stderr",
     "output_type": "stream",
     "text": [
      "366it [00:50,  7.30it/s]\n",
      "363it [00:20, 17.75it/s]\n"
     ]
    },
    {
     "name": "stdout",
     "output_type": "stream",
     "text": [
      "30 epcoh , time = 70.59\n",
      "train loss : 0.27125, val_loss : 0.67064\n",
      "train IoU : 0.51984, val IoU : 0.31843\n"
     ]
    },
    {
     "name": "stderr",
     "output_type": "stream",
     "text": [
      "366it [00:50,  7.29it/s]\n",
      "363it [00:20, 17.54it/s]\n"
     ]
    },
    {
     "name": "stdout",
     "output_type": "stream",
     "text": [
      "31 epcoh , time = 70.91\n",
      "train loss : 0.25933, val_loss : 0.67334\n",
      "train IoU : 0.52667, val IoU : 0.31636\n"
     ]
    },
    {
     "name": "stderr",
     "output_type": "stream",
     "text": [
      "366it [00:50,  7.32it/s]\n",
      "363it [00:20, 17.76it/s]\n"
     ]
    },
    {
     "name": "stdout",
     "output_type": "stream",
     "text": [
      "32 epcoh , time = 71.99\n",
      "train loss : 0.25396, val_loss : 0.66161\n",
      "train IoU : 0.53531, val IoU : 0.32733\n"
     ]
    },
    {
     "name": "stderr",
     "output_type": "stream",
     "text": [
      "366it [00:49,  7.34it/s]\n",
      "363it [00:20, 17.82it/s]\n"
     ]
    },
    {
     "name": "stdout",
     "output_type": "stream",
     "text": [
      "33 epcoh , time = 70.25\n",
      "train loss : 0.25212, val_loss : 0.68158\n",
      "train IoU : 0.53653, val IoU : 0.33545\n"
     ]
    },
    {
     "name": "stderr",
     "output_type": "stream",
     "text": [
      "366it [00:50,  7.21it/s]\n",
      "363it [00:20, 17.43it/s]\n"
     ]
    },
    {
     "name": "stdout",
     "output_type": "stream",
     "text": [
      "34 epcoh , time = 73.13\n",
      "train loss : 0.24875, val_loss : 0.67308\n",
      "train IoU : 0.54314, val IoU : 0.33351\n"
     ]
    },
    {
     "name": "stderr",
     "output_type": "stream",
     "text": [
      "366it [00:50,  7.19it/s]\n",
      "363it [00:20, 17.76it/s]\n"
     ]
    },
    {
     "name": "stdout",
     "output_type": "stream",
     "text": [
      "35 epcoh , time = 72.83\n",
      "train loss : 0.24441, val_loss : 0.67153\n",
      "train IoU : 0.54859, val IoU : 0.34083\n"
     ]
    },
    {
     "name": "stderr",
     "output_type": "stream",
     "text": [
      "366it [00:50,  7.22it/s]\n",
      "363it [00:21, 16.79it/s]\n"
     ]
    },
    {
     "name": "stdout",
     "output_type": "stream",
     "text": [
      "36 epcoh , time = 72.32\n",
      "train loss : 0.23933, val_loss : 0.68163\n",
      "train IoU : 0.55419, val IoU : 0.32796\n"
     ]
    },
    {
     "name": "stderr",
     "output_type": "stream",
     "text": [
      "366it [00:50,  7.18it/s]\n",
      "363it [00:21, 17.16it/s]\n"
     ]
    },
    {
     "name": "stdout",
     "output_type": "stream",
     "text": [
      "37 epcoh , time = 73.65\n",
      "train loss : 0.23280, val_loss : 0.67607\n",
      "train IoU : 0.56521, val IoU : 0.33568\n"
     ]
    },
    {
     "name": "stderr",
     "output_type": "stream",
     "text": [
      "366it [00:50,  7.21it/s]\n",
      "363it [00:20, 17.79it/s]\n"
     ]
    },
    {
     "name": "stdout",
     "output_type": "stream",
     "text": [
      "38 epcoh , time = 72.66\n",
      "train loss : 0.22960, val_loss : 0.66921\n",
      "train IoU : 0.56673, val IoU : 0.33856\n"
     ]
    },
    {
     "name": "stderr",
     "output_type": "stream",
     "text": [
      "366it [00:49,  7.33it/s]\n",
      "363it [00:20, 17.80it/s]\n"
     ]
    },
    {
     "name": "stdout",
     "output_type": "stream",
     "text": [
      "39 epcoh , time = 70.34\n",
      "train loss : 0.22773, val_loss : 0.67482\n",
      "train IoU : 0.56945, val IoU : 0.34216\n"
     ]
    },
    {
     "name": "stderr",
     "output_type": "stream",
     "text": [
      "366it [00:50,  7.26it/s]\n",
      "363it [00:20, 17.89it/s]\n"
     ]
    },
    {
     "name": "stdout",
     "output_type": "stream",
     "text": [
      "40 epcoh , time = 70.69\n",
      "train loss : 0.22762, val_loss : 0.69241\n",
      "train IoU : 0.56884, val IoU : 0.31306\n"
     ]
    },
    {
     "name": "stderr",
     "output_type": "stream",
     "text": [
      "366it [00:49,  7.35it/s]\n",
      "363it [00:20, 17.76it/s]\n"
     ]
    },
    {
     "name": "stdout",
     "output_type": "stream",
     "text": [
      "41 epcoh , time = 71.76\n",
      "train loss : 0.22164, val_loss : 0.67560\n",
      "train IoU : 0.58012, val IoU : 0.34096\n"
     ]
    },
    {
     "name": "stderr",
     "output_type": "stream",
     "text": [
      "366it [00:50,  7.26it/s]\n",
      "363it [00:20, 17.91it/s]\n"
     ]
    },
    {
     "name": "stdout",
     "output_type": "stream",
     "text": [
      "42 epcoh , time = 70.66\n",
      "train loss : 0.21376, val_loss : 0.68054\n",
      "train IoU : 0.58667, val IoU : 0.33270\n"
     ]
    },
    {
     "name": "stderr",
     "output_type": "stream",
     "text": [
      "366it [00:50,  7.19it/s]\n",
      "363it [00:20, 17.97it/s]\n"
     ]
    },
    {
     "name": "stdout",
     "output_type": "stream",
     "text": [
      "43 epcoh , time = 71.13\n",
      "train loss : 0.21333, val_loss : 0.68104\n",
      "train IoU : 0.58790, val IoU : 0.34320\n"
     ]
    },
    {
     "name": "stderr",
     "output_type": "stream",
     "text": [
      "366it [00:50,  7.31it/s]\n",
      "363it [00:20, 17.64it/s]\n"
     ]
    },
    {
     "name": "stdout",
     "output_type": "stream",
     "text": [
      "44 epcoh , time = 70.68\n",
      "train loss : 0.20940, val_loss : 0.68202\n",
      "train IoU : 0.59075, val IoU : 0.33746\n"
     ]
    },
    {
     "name": "stderr",
     "output_type": "stream",
     "text": [
      "366it [00:50,  7.24it/s]\n",
      "363it [00:20, 17.94it/s]\n"
     ]
    },
    {
     "name": "stdout",
     "output_type": "stream",
     "text": [
      "45 epcoh , time = 72.31\n",
      "train loss : 0.20835, val_loss : 0.67305\n",
      "train IoU : 0.59881, val IoU : 0.34312\n"
     ]
    },
    {
     "name": "stderr",
     "output_type": "stream",
     "text": [
      "366it [00:50,  7.32it/s]\n",
      "363it [00:20, 17.93it/s]\n"
     ]
    },
    {
     "name": "stdout",
     "output_type": "stream",
     "text": [
      "46 epcoh , time = 70.28\n",
      "train loss : 0.20495, val_loss : 0.68268\n",
      "train IoU : 0.60088, val IoU : 0.34016\n"
     ]
    },
    {
     "name": "stderr",
     "output_type": "stream",
     "text": [
      "366it [00:49,  7.35it/s]\n",
      "363it [00:20, 18.05it/s]\n"
     ]
    },
    {
     "name": "stdout",
     "output_type": "stream",
     "text": [
      "47 epcoh , time = 71.47\n",
      "train loss : 0.20234, val_loss : 0.68263\n",
      "train IoU : 0.60516, val IoU : 0.34337\n"
     ]
    },
    {
     "name": "stderr",
     "output_type": "stream",
     "text": [
      "366it [00:49,  7.39it/s]\n",
      "363it [00:20, 18.06it/s]\n"
     ]
    },
    {
     "name": "stdout",
     "output_type": "stream",
     "text": [
      "48 epcoh , time = 69.66\n",
      "train loss : 0.19763, val_loss : 0.68322\n",
      "train IoU : 0.61108, val IoU : 0.32989\n"
     ]
    },
    {
     "name": "stderr",
     "output_type": "stream",
     "text": [
      "366it [00:49,  7.38it/s]\n",
      "363it [00:20, 17.90it/s]\n"
     ]
    },
    {
     "name": "stdout",
     "output_type": "stream",
     "text": [
      "49 epcoh , time = 69.91\n",
      "train loss : 0.20106, val_loss : 0.68952\n",
      "train IoU : 0.61137, val IoU : 0.33124\n"
     ]
    },
    {
     "name": "stderr",
     "output_type": "stream",
     "text": [
      "366it [00:50,  7.28it/s]\n",
      "363it [00:20, 17.76it/s]\n"
     ]
    },
    {
     "name": "stdout",
     "output_type": "stream",
     "text": [
      "50 epcoh , time = 72.19\n",
      "train loss : 0.19536, val_loss : 0.67936\n",
      "train IoU : 0.61489, val IoU : 0.34650\n"
     ]
    },
    {
     "name": "stderr",
     "output_type": "stream",
     "text": [
      "366it [00:49,  7.38it/s]\n",
      "363it [00:20, 18.13it/s]\n"
     ]
    },
    {
     "name": "stdout",
     "output_type": "stream",
     "text": [
      "51 epcoh , time = 69.62\n",
      "train loss : 0.19257, val_loss : 0.69625\n",
      "train IoU : 0.62266, val IoU : 0.33083\n"
     ]
    },
    {
     "name": "stderr",
     "output_type": "stream",
     "text": [
      "366it [00:49,  7.33it/s]\n",
      "363it [00:20, 18.05it/s]\n"
     ]
    },
    {
     "name": "stdout",
     "output_type": "stream",
     "text": [
      "52 epcoh , time = 71.57\n",
      "train loss : 0.18891, val_loss : 0.68320\n",
      "train IoU : 0.61905, val IoU : 0.33280\n"
     ]
    },
    {
     "name": "stderr",
     "output_type": "stream",
     "text": [
      "366it [00:49,  7.35it/s]\n",
      "363it [00:20, 18.02it/s]\n"
     ]
    },
    {
     "name": "stdout",
     "output_type": "stream",
     "text": [
      "53 epcoh , time = 69.94\n",
      "train loss : 0.18741, val_loss : 0.69949\n",
      "train IoU : 0.62304, val IoU : 0.33579\n"
     ]
    },
    {
     "name": "stderr",
     "output_type": "stream",
     "text": [
      "366it [00:50,  7.29it/s]\n",
      "363it [00:20, 17.63it/s]\n"
     ]
    },
    {
     "name": "stdout",
     "output_type": "stream",
     "text": [
      "54 epcoh , time = 72.28\n",
      "train loss : 0.18580, val_loss : 0.68547\n",
      "train IoU : 0.63109, val IoU : 0.34460\n"
     ]
    },
    {
     "name": "stderr",
     "output_type": "stream",
     "text": [
      "366it [00:49,  7.33it/s]\n",
      "363it [00:20, 17.31it/s]\n"
     ]
    },
    {
     "name": "stdout",
     "output_type": "stream",
     "text": [
      "55 epcoh , time = 70.90\n",
      "train loss : 0.18210, val_loss : 0.68921\n",
      "train IoU : 0.63325, val IoU : 0.33259\n"
     ]
    },
    {
     "name": "stderr",
     "output_type": "stream",
     "text": [
      "366it [00:50,  7.30it/s]\n",
      "363it [00:20, 17.88it/s]\n"
     ]
    },
    {
     "name": "stdout",
     "output_type": "stream",
     "text": [
      "56 epcoh , time = 70.44\n",
      "train loss : 0.18197, val_loss : 0.69123\n",
      "train IoU : 0.64069, val IoU : 0.34094\n"
     ]
    },
    {
     "name": "stderr",
     "output_type": "stream",
     "text": [
      "366it [00:50,  7.31it/s]\n",
      "363it [00:20, 17.71it/s]\n"
     ]
    },
    {
     "name": "stdout",
     "output_type": "stream",
     "text": [
      "57 epcoh , time = 70.57\n",
      "train loss : 0.17865, val_loss : 0.70535\n",
      "train IoU : 0.63328, val IoU : 0.33554\n"
     ]
    },
    {
     "name": "stderr",
     "output_type": "stream",
     "text": [
      "366it [00:49,  7.36it/s]\n",
      "363it [00:20, 17.72it/s]\n"
     ]
    },
    {
     "name": "stdout",
     "output_type": "stream",
     "text": [
      "58 epcoh , time = 71.69\n",
      "train loss : 0.17669, val_loss : 0.69918\n",
      "train IoU : 0.63967, val IoU : 0.33262\n"
     ]
    },
    {
     "name": "stderr",
     "output_type": "stream",
     "text": [
      "366it [00:50,  7.21it/s]\n",
      "363it [00:21, 17.07it/s]\n"
     ]
    },
    {
     "name": "stdout",
     "output_type": "stream",
     "text": [
      "59 epcoh , time = 72.00\n",
      "train loss : 0.17306, val_loss : 0.70425\n",
      "train IoU : 0.64626, val IoU : 0.33244\n"
     ]
    },
    {
     "name": "stderr",
     "output_type": "stream",
     "text": [
      "366it [00:50,  7.28it/s]\n",
      "363it [00:21, 17.26it/s]\n"
     ]
    },
    {
     "name": "stdout",
     "output_type": "stream",
     "text": [
      "60 epcoh , time = 72.81\n",
      "train loss : 0.17380, val_loss : 0.69591\n",
      "train IoU : 0.65172, val IoU : 0.34141\n"
     ]
    },
    {
     "name": "stderr",
     "output_type": "stream",
     "text": [
      "214it [00:30,  7.13it/s]\n"
     ]
    },
    {
     "ename": "KeyboardInterrupt",
     "evalue": "",
     "output_type": "error",
     "traceback": [
      "\u001b[0;31m---------------------------------------------------------------------------\u001b[0m",
      "\u001b[0;31mKeyboardInterrupt\u001b[0m                         Traceback (most recent call last)",
      "\u001b[0;32m/tmp/ipykernel_573243/3621849083.py\u001b[0m in \u001b[0;36m<module>\u001b[0;34m\u001b[0m\n\u001b[1;32m     36\u001b[0m         \u001b[0moptimizer\u001b[0m\u001b[0;34m.\u001b[0m\u001b[0mstep\u001b[0m\u001b[0;34m(\u001b[0m\u001b[0;34m)\u001b[0m\u001b[0;34m\u001b[0m\u001b[0;34m\u001b[0m\u001b[0m\n\u001b[1;32m     37\u001b[0m \u001b[0;34m\u001b[0m\u001b[0m\n\u001b[0;32m---> 38\u001b[0;31m         \u001b[0mtrain_iou_score\u001b[0m \u001b[0;34m+=\u001b[0m \u001b[0mmIoU\u001b[0m\u001b[0;34m(\u001b[0m\u001b[0moutputs\u001b[0m\u001b[0;34m,\u001b[0m \u001b[0mlabels\u001b[0m\u001b[0;34m)\u001b[0m\u001b[0;34m\u001b[0m\u001b[0;34m\u001b[0m\u001b[0m\n\u001b[0m\u001b[1;32m     39\u001b[0m         \u001b[0mtrain_acc\u001b[0m \u001b[0;34m+=\u001b[0m \u001b[0mpixel_accuracy\u001b[0m\u001b[0;34m(\u001b[0m\u001b[0moutputs\u001b[0m\u001b[0;34m,\u001b[0m \u001b[0mlabels\u001b[0m\u001b[0;34m)\u001b[0m\u001b[0;34m\u001b[0m\u001b[0;34m\u001b[0m\u001b[0m\n\u001b[1;32m     40\u001b[0m         \u001b[0mtrain_running_loss\u001b[0m \u001b[0;34m+=\u001b[0m \u001b[0mloss\u001b[0m\u001b[0;34m.\u001b[0m\u001b[0mitem\u001b[0m\u001b[0;34m(\u001b[0m\u001b[0;34m)\u001b[0m\u001b[0;34m\u001b[0m\u001b[0;34m\u001b[0m\u001b[0m\n",
      "\u001b[0;32m/tmp/ipykernel_573243/3208664151.py\u001b[0m in \u001b[0;36mmIoU\u001b[0;34m(output, label, num_classes)\u001b[0m\n\u001b[1;32m     19\u001b[0m             \u001b[0mlabel_true\u001b[0m \u001b[0;34m=\u001b[0m \u001b[0mlabel\u001b[0m\u001b[0;34m==\u001b[0m\u001b[0mc\u001b[0m\u001b[0;34m\u001b[0m\u001b[0;34m\u001b[0m\u001b[0m\n\u001b[1;32m     20\u001b[0m \u001b[0;34m\u001b[0m\u001b[0m\n\u001b[0;32m---> 21\u001b[0;31m             \u001b[0;32mif\u001b[0m \u001b[0mlabel_true\u001b[0m\u001b[0;34m.\u001b[0m\u001b[0mlong\u001b[0m\u001b[0;34m(\u001b[0m\u001b[0;34m)\u001b[0m\u001b[0;34m.\u001b[0m\u001b[0msum\u001b[0m\u001b[0;34m(\u001b[0m\u001b[0;34m)\u001b[0m\u001b[0;34m.\u001b[0m\u001b[0mitem\u001b[0m\u001b[0;34m(\u001b[0m\u001b[0;34m)\u001b[0m \u001b[0;34m==\u001b[0m \u001b[0;36m0\u001b[0m\u001b[0;34m:\u001b[0m\u001b[0;34m\u001b[0m\u001b[0;34m\u001b[0m\u001b[0m\n\u001b[0m\u001b[1;32m     22\u001b[0m                 \u001b[0miou_class\u001b[0m\u001b[0;34m.\u001b[0m\u001b[0mappend\u001b[0m\u001b[0;34m(\u001b[0m\u001b[0mnp\u001b[0m\u001b[0;34m.\u001b[0m\u001b[0mnan\u001b[0m\u001b[0;34m)\u001b[0m\u001b[0;34m\u001b[0m\u001b[0;34m\u001b[0m\u001b[0m\n\u001b[1;32m     23\u001b[0m             \u001b[0;32melse\u001b[0m\u001b[0;34m:\u001b[0m\u001b[0;34m\u001b[0m\u001b[0;34m\u001b[0m\u001b[0m\n",
      "\u001b[0;31mKeyboardInterrupt\u001b[0m: "
     ]
    }
   ],
   "source": [
    "# 학습\n",
    "FCN.to(device)\n",
    "epochs= 100\n",
    "best_loss = 0\n",
    "train_loss_list = []\n",
    "train_acc_list = []\n",
    "train_iou_list = []\n",
    "val_loss_list = []\n",
    "val_acc_list = []\n",
    "val_iou_list = []\n",
    "min_loss = np.inf\n",
    "stop_count = 0\n",
    "for epoch in range(epochs):\n",
    "    val_running_loss = 0\n",
    "    train_running_loss =0\n",
    "    start_time = time.time()\n",
    "    train_iou_score = 0\n",
    "    val_iou_score =0\n",
    "    train_acc = 0\n",
    "    val_acc = 0\n",
    "\n",
    "    FCN.train()\n",
    "    for iter,data in tqdm(enumerate(train_loader)):\n",
    "        inputs, labels = data\n",
    "        inputs = inputs.to(device)\n",
    "        labels = labels.to(device)\n",
    "        optimizer.zero_grad()\n",
    "        outputs = FCN(inputs)\n",
    "        # print(f'input shape : {inputs.shape}')\n",
    "        # print(f'output shape : {outputs[0][0].shape}')\n",
    "        # print(f'output  --{outputs[0][0]}')\n",
    "        # print(f'labels shape : {labels.shape}')\n",
    "        # print(f'lable --{labels[labels>0]}')\n",
    "        loss = criterion(outputs,labels) \n",
    "        loss.backward()\n",
    "        optimizer.step()\n",
    "\n",
    "        train_iou_score += mIoU(outputs, labels)\n",
    "        train_acc += pixel_accuracy(outputs, labels)\n",
    "        train_running_loss += loss.item()\n",
    "    \n",
    "    FCN.eval()\n",
    "    with torch.no_grad():\n",
    "        for iter, vdata in tqdm(enumerate(val_loader)):\n",
    "            vinputs, vlabels = vdata\n",
    "            vinputs = vinputs.to(device)\n",
    "            vlabels = vlabels.to(device)\n",
    "\n",
    "            voutputs = FCN(vinputs)\n",
    "            vloss = criterion(voutputs,vlabels)\n",
    "\n",
    "            val_running_loss += vloss.item()\n",
    "            val_iou_score += mIoU(voutputs,vlabels)\n",
    "            val_acc += pixel_accuracy(voutputs,vlabels)\n",
    "\n",
    "\n",
    "        train_running_loss /= len(train_loader)\n",
    "        train_iou_score /=len(train_loader)\n",
    "        train_acc /=len(train_loader)\n",
    "        val_running_loss /= len(val_loader)\n",
    "        val_iou_score /=len(val_loader)\n",
    "        val_acc /=len(val_loader)\n",
    "\n",
    "        if min_loss < val_running_loss:\n",
    "            min_loss = val_running_loss\n",
    "            stop_count +=1\n",
    "            if stop_count == 5:\n",
    "                print('Stop loss not decrease')\n",
    "\n",
    "                break\n",
    "        else:\n",
    "            min_loss = val_running_loss\n",
    "            #print('save model')\n",
    "            torch.save(FCN, './models/FCN-Vgg16.pt')\n",
    "\n",
    "\n",
    "        print(f'{epoch+1} epcoh , time = {time.time()-start_time:.2f}')\n",
    "        print(f'train loss : {train_running_loss:.5f}, val_loss : {val_running_loss:.5f}')\n",
    "        print(f'train IoU : {train_iou_score:.5f}, val IoU : {val_iou_score:.5f}')\n",
    "        train_loss_list.append(train_running_loss)\n",
    "        train_iou_list.append(train_iou_score)\n",
    "        train_acc_list.append(train_acc)\n",
    "        val_loss_list.append(val_running_loss)\n",
    "        val_iou_list.append(val_iou_score)\n",
    "        val_acc_list.append(val_acc)\n",
    "history = {'train_loss': train_loss_list, 'val_loss':val_loss_list,'train_miou': train_iou_list,\n",
    "'val_miou':val_iou_list,'train_acc':train_acc_list,'val_acc':val_acc_list}\n",
    "print('Finish Training')"
   ]
  },
  {
   "cell_type": "code",
   "execution_count": 61,
   "metadata": {},
   "outputs": [
    {
     "data": {
      "image/png": "[encoded data removed]",
      "text/plain": [
       "<Figure size 432x288 with 1 Axes>"
      ]
     },
     "metadata": {
      "needs_background": "light"
     },
     "output_type": "display_data"
    },
    {
     "data": {
      "image/png": "[encoded data removed]",
      "text/plain": [
       "<Figure size 432x288 with 1 Axes>"
      ]
     },
     "metadata": {
      "needs_background": "light"
     },
     "output_type": "display_data"
    },
    {
     "data": {
      "image/png": "[encoded data removed]",
      "text/plain": [
       "<Figure size 432x288 with 1 Axes>"
      ]
     },
     "metadata": {
      "needs_background": "light"
     },
     "output_type": "display_data"
    }
   ],
   "source": [
    "history = {'train_loss': train_loss_list, 'val_loss':val_loss_list,'train_miou': train_iou_list,\n",
    "'val_miou':val_iou_list,'train_acc':train_acc_list,'val_acc':val_acc_list}\n",
    "def plot_loss(history):\n",
    "    plt.plot(history['train_loss'], label='train_loss')\n",
    "    plt.plot(history['val_loss'], label='val_loss')\n",
    "    plt.title('Loss')\n",
    "    plt.xlabel('epoch')\n",
    "    plt.ylabel('loss')\n",
    "    plt.legend()\n",
    "    plt.show()\n",
    "\n",
    "def plot_miou(history):\n",
    "    plt.plot(history['train_miou'], label='train_miou')\n",
    "    plt.plot(history['val_miou'], label='val_miou')\n",
    "    plt.title('MIoU')\n",
    "    plt.xlabel('epoch')\n",
    "    plt.ylabel('miou')\n",
    "    plt.legend()\n",
    "    plt.show()\n",
    "\n",
    "def plot_acc(history):\n",
    "    plt.plot(history['train_acc'], label='train_acc')\n",
    "    plt.plot(history['val_acc'], label='val_acc')\n",
    "    plt.title('Accuracy')\n",
    "    plt.xlabel('epoch')\n",
    "    plt.ylabel('acc')\n",
    "    plt.legend()\n",
    "    plt.show()\n",
    "plot_loss(history)\n",
    "plot_acc(history)\n",
    "plot_miou(history)"
   ]
  },
  {
   "cell_type": "code",
   "execution_count": null,
   "metadata": {},
   "outputs": [],
   "source": []
  },
  {
   "cell_type": "code",
   "execution_count": null,
   "metadata": {},
   "outputs": [
    {
     "name": "stdout",
     "output_type": "stream",
     "text": [
      "torch.Size([4, 3, 224, 224])\n",
      "torch.Size([4, 21, 224, 224])\n",
      "torch.Size([4, 224, 224])\n"
     ]
    },
    {
     "data": {
      "text/plain": [
       "<matplotlib.image.AxesImage at 0x7fcad48f33d0>"
      ]
     },
     "execution_count": 49,
     "metadata": {},
     "output_type": "execute_result"
    },
    {
     "data": {
      "image/png": "[encoded data removed]",
      "text/plain": [
       "<Figure size 432x288 with 1 Axes>"
      ]
     },
     "metadata": {
      "needs_background": "light"
     },
     "output_type": "display_data"
    }
   ],
   "source": [
    "a, b= train_set[0]\n",
    "FCN.eval()\n",
    "with torch.no_grad():\n",
    "    for i, data in enumerate(train_loader):\n",
    "        a, b = data\n",
    "        FCN.to(device)\n",
    "        print(a.shape)\n",
    "        a = a.to(device)\n",
    "        c = FCN(a)\n",
    "        break\n",
    "\n",
    "print(c.shape)\n",
    "mask = torch.argmax(c, dim=1)\n",
    "print(mask.shape)\n",
    "#print(c[0])\n",
    "plt.imshow(mask[0].cpu())\n",
    "# t = a.view(8,224,224,3)\n",
    "# # t = t.view(224,224,3)\n",
    "# plt.figure(figsize=(10,10))\n",
    "# plt.subplot(1,3,1)\n",
    "# plt.imshow(mask[0].cpu())\n",
    "# plt.subplot(1,3,2)\n",
    "# plt.imshow(b[0].cpu())\n",
    "# plt.subplot(1,3,3)\n",
    "# plt.imshow(t[0].cpu())\n"
   ]
  },
  {
   "cell_type": "code",
   "execution_count": null,
   "metadata": {},
   "outputs": [],
   "source": []
  }
 ],
 "metadata": {
  "interpreter": {
   "hash": "d4d1e4263499bec80672ea0156c357c1ee493ec2b1c70f0acce89fc37c4a6abe"
  },
  "kernelspec": {
   "display_name": "Python 3.8.12 ('base')",
   "language": "python",
   "name": "python3"
  },
  "language_info": {
   "codemirror_mode": {
    "name": "ipython",
    "version": 3
   },
   "file_extension": ".py",
   "mimetype": "text/x-python",
   "name": "python",
   "nbconvert_exporter": "python",
   "pygments_lexer": "ipython3",
   "version": "3.8.12"
  },
  "orig_nbformat": 4
 },
 "nbformat": 4,
 "nbformat_minor": 2
}
