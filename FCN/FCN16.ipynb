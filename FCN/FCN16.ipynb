{
 "cells": [
  {
   "cell_type": "code",
   "execution_count": 32,
   "metadata": {},
   "outputs": [
    {
     "name": "stdout",
     "output_type": "stream",
     "text": [
      "torch : 1.11.0\n",
      "python : 3.8.12 (default, Oct 12 2021, 13:49:34) \n",
      "[GCC 7.5.0]\n"
     ]
    }
   ],
   "source": [
    "import torch\n",
    "import torch.nn as nn\n",
    "import torch.nn.functional as F\n",
    "import torchvision\n",
    "import torchvision.transforms as transforms\n",
    "import torch.optim as optim\n",
    "from torch.utils.data import Dataset\n",
    "from torch.utils.data import DataLoader\n",
    "import time\n",
    "import sys\n",
    "import pytorch_model_summary\n",
    "import numpy as np\n",
    "import os\n",
    "import matplotlib.pyplot as plt\n",
    "from PIL import Image\n",
    "from tqdm import tqdm\n",
    "\n",
    "\n",
    "print(f'torch : {torch.__version__}')\n",
    "print(f'python : {sys.version}')"
   ]
  },
  {
   "cell_type": "code",
   "execution_count": 33,
   "metadata": {},
   "outputs": [],
   "source": [
    "\n",
    "class ImageData(Dataset):\n",
    "    def __init__(self,path,transform=None,target_transform=None):\n",
    "        self.path = path\n",
    "        self.files =[]\n",
    "        self.labels = []\n",
    "        for i in os.listdir(path):\n",
    "            if i[:-3]+'png' in os.listdir(path+'/label'):\n",
    "                self.files.append(i)\n",
    "                self.labels.append(i[:-3]+'png')\n",
    "        self.transform = transform\n",
    "        self.target_transform = target_transform\n",
    "        self.to_tensor = transforms.ToTensor()\n",
    "        \n",
    "    def __getitem__(self,idx):\n",
    "        img = Image.open(self.path+'/'+self.files[idx])\n",
    "        label = Image.open(self.path+'/label/'+self.labels[idx])\n",
    "        #img = np.array(img)[:,:256]\n",
    "        if self.transform is not None:\n",
    "            img = self.transform(img)\n",
    "        if self.target_transform is not None:\n",
    "            label = self.target_transform(label)\n",
    "        return img, label\n",
    "\n",
    "    def __len__(self):\n",
    "        return len(self.files)\n",
    "\n",
    "class ConvertToBackground(object):\n",
    "    def __call__(self, img):\n",
    "        img = np.asarray(img,dtype=np.uint8)\n",
    "        img[img==255] = 0\n",
    "        # 64bit 부호 정수 long 타입 Tensor로 변환 \n",
    "        img = torch.from_numpy(img).long()\n",
    "        return img\n"
   ]
  },
  {
   "cell_type": "code",
   "execution_count": 34,
   "metadata": {},
   "outputs": [],
   "source": [
    "data_mean = [0.485, 0.456, 0.406]\n",
    "data_std = [0.229, 0.224, 0.225]\n",
    "\n",
    "transform = transforms.Compose(\n",
    "    [\n",
    "        transforms.Resize((224,224)),\n",
    "        #transforms.RandomCrop((224,224)),\n",
    "        #transforms.RandomAffine(degrees=15),\n",
    "        # PIL 타입의 [0,255] data를 [0,1]의 FloatTensor로 변환\n",
    "        transforms.ToTensor(),\n",
    "        transforms.Normalize(mean=data_mean,std=data_std)\n",
    "    ]\n",
    ")\n",
    "val_transform = transforms.Compose(\n",
    "    [\n",
    "        transforms.Resize((224,224)),\n",
    "        transforms.ToTensor(),\n",
    "        transforms.Normalize(mean=data_mean,std=data_std)\n",
    "    ]\n",
    ")\n",
    "label_transform = transforms.Compose(\n",
    "    [\n",
    "        transforms.Resize((224,224)),\n",
    "        # 경계를 배경으로 처리\n",
    "        ConvertToBackground()\n",
    "    ]\n",
    ")\n",
    "\n",
    "batch_size = 4\n",
    "train_path = './data/train'\n",
    "train_set = ImageData(train_path,transform,label_transform)\n",
    "#train_set = torchvision.datasets.VOCSegmentation(root='./data', year='2012',\\\n",
    "#    image_set='train',download=False,transform=transform,target_transform=label_transform)\n",
    "train_loader = DataLoader(train_set, batch_size= batch_size,shuffle=True)\n",
    "val_path = './data/val'\n",
    "val_set = ImageData(val_path,val_transform,label_transform)\n",
    "#val_set = torchvision.datasets.VOCSegmentation(root='./data', year='2012',\\\n",
    "#    image_set='val',download=False,transform=transform,target_transform=label_transform)\n",
    "val_loader = DataLoader(val_set, batch_size= batch_size,shuffle=True)\n"
   ]
  },
  {
   "cell_type": "code",
   "execution_count": 35,
   "metadata": {},
   "outputs": [
    {
     "name": "stdout",
     "output_type": "stream",
     "text": [
      "366\n"
     ]
    }
   ],
   "source": [
    "#a,b = train_set[0]\n",
    "#print(a.shape)\n",
    "\n",
    "print(len(train_loader))\n",
    "#temp_img,temp_label = next(iter(train_loader))\n",
    "#print(temp_img)"
   ]
  },
  {
   "cell_type": "code",
   "execution_count": 36,
   "metadata": {},
   "outputs": [
    {
     "name": "stdout",
     "output_type": "stream",
     "text": [
      "Sequential(\n",
      "  (0): Conv2d(3, 64, kernel_size=(3, 3), stride=(1, 1), padding=(1, 1))\n",
      "  (1): ReLU(inplace=True)\n",
      "  (2): Conv2d(64, 64, kernel_size=(3, 3), stride=(1, 1), padding=(1, 1))\n",
      "  (3): ReLU(inplace=True)\n",
      "  (4): MaxPool2d(kernel_size=2, stride=2, padding=0, dilation=1, ceil_mode=False)\n",
      "  (5): Conv2d(64, 128, kernel_size=(3, 3), stride=(1, 1), padding=(1, 1))\n",
      "  (6): ReLU(inplace=True)\n",
      "  (7): Conv2d(128, 128, kernel_size=(3, 3), stride=(1, 1), padding=(1, 1))\n",
      "  (8): ReLU(inplace=True)\n",
      "  (9): MaxPool2d(kernel_size=2, stride=2, padding=0, dilation=1, ceil_mode=False)\n",
      "  (10): Conv2d(128, 256, kernel_size=(3, 3), stride=(1, 1), padding=(1, 1))\n",
      "  (11): ReLU(inplace=True)\n",
      "  (12): Conv2d(256, 256, kernel_size=(3, 3), stride=(1, 1), padding=(1, 1))\n",
      "  (13): ReLU(inplace=True)\n",
      "  (14): Conv2d(256, 256, kernel_size=(3, 3), stride=(1, 1), padding=(1, 1))\n",
      "  (15): ReLU(inplace=True)\n",
      "  (16): Conv2d(256, 256, kernel_size=(3, 3), stride=(1, 1), padding=(1, 1))\n",
      "  (17): ReLU(inplace=True)\n",
      "  (18): MaxPool2d(kernel_size=2, stride=2, padding=0, dilation=1, ceil_mode=False)\n",
      "  (19): Conv2d(256, 512, kernel_size=(3, 3), stride=(1, 1), padding=(1, 1))\n",
      "  (20): ReLU(inplace=True)\n",
      "  (21): Conv2d(512, 512, kernel_size=(3, 3), stride=(1, 1), padding=(1, 1))\n",
      "  (22): ReLU(inplace=True)\n",
      "  (23): Conv2d(512, 512, kernel_size=(3, 3), stride=(1, 1), padding=(1, 1))\n",
      "  (24): ReLU(inplace=True)\n",
      "  (25): Conv2d(512, 512, kernel_size=(3, 3), stride=(1, 1), padding=(1, 1))\n",
      "  (26): ReLU(inplace=True)\n",
      "  (27): MaxPool2d(kernel_size=2, stride=2, padding=0, dilation=1, ceil_mode=False)\n",
      ")\n"
     ]
    }
   ],
   "source": [
    "# 사전에 학습된 vgg16 parameter 가져오기\n",
    "vgg19 = torchvision.models.vgg19(pretrained=True)\n",
    "for param in vgg19.features.parameters():\n",
    "   param.requires_grad = False\n",
    "print(vgg19.features[:-9])"
   ]
  },
  {
   "cell_type": "code",
   "execution_count": 37,
   "metadata": {},
   "outputs": [],
   "source": [
    "class FCN16(nn.Module):\n",
    "    # vgg 19 \n",
    "    def __init__(self,num_class):\n",
    "        super(FCN16, self).__init__()\n",
    "        self.vgg19 = vgg19.features\n",
    "\n",
    "        self.fc1 = nn.Conv2d(in_channels=512,out_channels=4096,kernel_size=7)\n",
    "        self.fc2 = nn.Conv2d(4096,4096,1)\n",
    "        self.fc3 = nn.Conv2d(4096,num_class,1)\n",
    "        self.pool4_conv = nn.Conv2d(512,21,1)\n",
    "\n",
    "        self.upsample32 = nn.ConvTranspose2d(in_channels=num_class,out_channels=num_class,kernel_size=224,stride=32)\n",
    "        self.upsample2 = nn.ConvTranspose2d(num_class,num_class,14,2)\n",
    "        self.upsample16 = nn.ConvTranspose2d(num_class,num_class,16,16)\n",
    "        self.deconv1 = nn.ConvTranspose2d(512, 512, kernel_size=3, stride=2, padding=1, dilation=1, output_padding=1)\n",
    "        self.deconv2 = nn.ConvTranspose2d(512, 256, kernel_size=3, stride=2, padding=1, dilation=1, output_padding=1)\n",
    "        self.bn2     = nn.BatchNorm2d(256)\n",
    "        self.deconv3 = nn.ConvTranspose2d(256, 128, kernel_size=3, stride=2, padding=1, dilation=1, output_padding=1)\n",
    "        self.bn3     = nn.BatchNorm2d(128)\n",
    "        self.deconv4 = nn.ConvTranspose2d(128, 64, kernel_size=3, stride=2, padding=1, dilation=1, output_padding=1)\n",
    "        self.bn4     = nn.BatchNorm2d(64)\n",
    "        self.deconv5 = nn.ConvTranspose2d(64, 32, kernel_size=3, stride=2, padding=1, dilation=1, output_padding=1)\n",
    "        self.bn5     = nn.BatchNorm2d(32)\n",
    "        self.classifier = nn.Conv2d(32, num_class, kernel_size=1)\n",
    "        self.relu    = nn.ReLU(inplace=True)\n",
    "\n",
    "    def forward(self, x):\n",
    "        pool4 = self.vgg19[:-9](x)\n",
    "        pool5 = self.vgg19[-9:](pool4)\n",
    "\n",
    "        #pool5 = self.fc1(pool5)\n",
    "        #pool5 = nn.ReLU()(pool5)\n",
    "        #pool5 = self.fc2(pool5)\n",
    "        #pool5 = nn.ReLU()(pool5)\n",
    "        #pool5 = self.fc3(pool5)\n",
    "        #pool5 = self.upsample2(pool5)\n",
    "        #pool4 = self.pool4_conv(pool4)\n",
    "        #x = pool5 + pool4\n",
    "        #x = self.upsample16(x)\n",
    "        #print(pool5.shape)\n",
    "        #print(pool4.shape)\n",
    "        \n",
    "        pool5 = self.deconv1(pool5)\n",
    "        #print(pool5.shape)\n",
    "        #print(pool4.shape)\n",
    "        x = pool5 + pool4\n",
    "        x = self.relu(self.deconv2(x))\n",
    "        x = self.bn2(x)\n",
    "        x = self.relu(self.deconv3(x))\n",
    "        x = self.bn3(x)\n",
    "        x = self.relu(self.deconv4(x))\n",
    "        x = self.bn4(x)\n",
    "        x = self.relu(self.deconv5(x))\n",
    "        x = self.bn5(x)\n",
    "        x = self.classifier(x)\n",
    "        #print(x.shape)\n",
    "        #print(x.shape)\n",
    "        #x = self.upsample16(x)\n",
    "        #print(x.shape)\n",
    "        return x\n",
    "\n",
    "    def make_block(self, in_channel, out_channel, repeat):\n",
    "        layers = []\n",
    "        for i in range(repeat):\n",
    "            if (i==0):\n",
    "                layers.append(nn.Conv2d(in_channel, out_channel, kernel_size=3, padding=1, stride=1))\n",
    "            else:\n",
    "                layers.append(nn.Conv2d(out_channel,out_channel,kernel_size=3, padding=1, stride=1))\n",
    "            layers.append(nn.BatchNorm2d(out_channel))\n",
    "            layers.append(nn.ReLU())\n",
    "        layers.append(nn.MaxPool2d(kernel_size=2, stride=2))\n",
    "        block = nn.Sequential(*layers)\n",
    "\n",
    "        return block"
   ]
  },
  {
   "cell_type": "code",
   "execution_count": 38,
   "metadata": {},
   "outputs": [
    {
     "name": "stdout",
     "output_type": "stream",
     "text": [
      "Using cuda device\n",
      "-----------------------------------------------------------------------------\n",
      "         Layer (type)            Input Shape         Param #     Tr. Param #\n",
      "=============================================================================\n",
      "             Conv2d-1       [4, 3, 224, 224]           1,792               0\n",
      "               ReLU-2      [4, 64, 224, 224]               0               0\n",
      "             Conv2d-3      [4, 64, 224, 224]          36,928               0\n",
      "               ReLU-4      [4, 64, 224, 224]               0               0\n",
      "          MaxPool2d-5      [4, 64, 224, 224]               0               0\n",
      "             Conv2d-6      [4, 64, 112, 112]          73,856               0\n",
      "               ReLU-7     [4, 128, 112, 112]               0               0\n",
      "             Conv2d-8     [4, 128, 112, 112]         147,584               0\n",
      "               ReLU-9     [4, 128, 112, 112]               0               0\n",
      "         MaxPool2d-10     [4, 128, 112, 112]               0               0\n",
      "            Conv2d-11       [4, 128, 56, 56]         295,168               0\n",
      "              ReLU-12       [4, 256, 56, 56]               0               0\n",
      "            Conv2d-13       [4, 256, 56, 56]         590,080               0\n",
      "              ReLU-14       [4, 256, 56, 56]               0               0\n",
      "            Conv2d-15       [4, 256, 56, 56]         590,080               0\n",
      "              ReLU-16       [4, 256, 56, 56]               0               0\n",
      "            Conv2d-17       [4, 256, 56, 56]         590,080               0\n",
      "              ReLU-18       [4, 256, 56, 56]               0               0\n",
      "         MaxPool2d-19       [4, 256, 56, 56]               0               0\n",
      "            Conv2d-20       [4, 256, 28, 28]       1,180,160               0\n",
      "              ReLU-21       [4, 512, 28, 28]               0               0\n",
      "            Conv2d-22       [4, 512, 28, 28]       2,359,808               0\n",
      "              ReLU-23       [4, 512, 28, 28]               0               0\n",
      "            Conv2d-24       [4, 512, 28, 28]       2,359,808               0\n",
      "              ReLU-25       [4, 512, 28, 28]               0               0\n",
      "            Conv2d-26       [4, 512, 28, 28]       2,359,808               0\n",
      "              ReLU-27       [4, 512, 28, 28]               0               0\n",
      "         MaxPool2d-28       [4, 512, 28, 28]               0               0\n",
      "            Conv2d-29       [4, 512, 14, 14]       2,359,808               0\n",
      "              ReLU-30       [4, 512, 14, 14]               0               0\n",
      "            Conv2d-31       [4, 512, 14, 14]       2,359,808               0\n",
      "              ReLU-32       [4, 512, 14, 14]               0               0\n",
      "            Conv2d-33       [4, 512, 14, 14]       2,359,808               0\n",
      "              ReLU-34       [4, 512, 14, 14]               0               0\n",
      "            Conv2d-35       [4, 512, 14, 14]       2,359,808               0\n",
      "              ReLU-36       [4, 512, 14, 14]               0               0\n",
      "         MaxPool2d-37       [4, 512, 14, 14]               0               0\n",
      "   ConvTranspose2d-38         [4, 512, 7, 7]       2,359,808       2,359,808\n",
      "   ConvTranspose2d-39       [4, 512, 14, 14]       1,179,904       1,179,904\n",
      "              ReLU-40       [4, 256, 28, 28]               0               0\n",
      "       BatchNorm2d-41       [4, 256, 28, 28]             512             512\n",
      "   ConvTranspose2d-42       [4, 256, 28, 28]         295,040         295,040\n",
      "       BatchNorm2d-43       [4, 128, 56, 56]             256             256\n",
      "   ConvTranspose2d-44       [4, 128, 56, 56]          73,792          73,792\n",
      "       BatchNorm2d-45      [4, 64, 112, 112]             128             128\n",
      "   ConvTranspose2d-46      [4, 64, 112, 112]          18,464          18,464\n",
      "       BatchNorm2d-47      [4, 32, 224, 224]              64              64\n",
      "            Conv2d-48      [4, 32, 224, 224]             693             693\n",
      "=============================================================================\n",
      "Total params: 23,953,045\n",
      "Trainable params: 3,928,661\n",
      "Non-trainable params: 20,024,384\n",
      "-----------------------------------------------------------------------------\n"
     ]
    }
   ],
   "source": [
    "FCN =FCN16(num_class=21)\n",
    "\n",
    "device = 'cuda' if torch.cuda.is_available() else 'cpu'\n",
    "print(f'Using {device} device')\n",
    "#print(FCN)\n",
    "print(pytorch_model_summary.summary(FCN,torch.zeros(batch_size,3,224,224),show_input=True))"
   ]
  },
  {
   "cell_type": "code",
   "execution_count": 39,
   "metadata": {},
   "outputs": [],
   "source": [
    "criterion = nn.CrossEntropyLoss()\n",
    "optimizer = optim.Adam(FCN.parameters(), lr=0.0001)"
   ]
  },
  {
   "cell_type": "code",
   "execution_count": 40,
   "metadata": {},
   "outputs": [],
   "source": [
    "def pixel_accuracy(output, label):\n",
    "    with torch.no_grad():\n",
    "        output = torch.argmax(F.softmax(output, dim=1),dim=1)\n",
    "        correct = torch.eq(output, label).int()\n",
    "        accuracy = float(correct.sum()) / float(correct.numel())\n",
    "    return accuracy\n",
    "# https://sanghyu.tistory.com/3 -- view, contiguous\n",
    "def mIoU(output, label,num_classes=21):\n",
    "    with torch.no_grad():\n",
    "        output = F.softmax(output, dim=1)\n",
    "        output = torch.argmax(output, dim=1)\n",
    "        # 메모리에 저장된 순서를 하나씩, view할때 섞이지 않도록\n",
    "        output = output.contiguous().view(-1)\n",
    "        label = label.contiguous().view(-1)\n",
    "    \n",
    "        iou_class = []\n",
    "        for c in range(0, num_classes):\n",
    "            output_true = output==c\n",
    "            label_true = label==c\n",
    "\n",
    "            if label_true.long().sum().item() == 0:\n",
    "                iou_class.append(np.nan)\n",
    "            else:\n",
    "                intersect = torch.logical_and(output_true,label_true).sum().float().item()\n",
    "                union = torch.logical_or(output_true,label_true).sum().float().item()\n",
    "                iou= intersect/union\n",
    "                iou_class.append(iou)\n",
    "        return np.nanmean(iou_class)\n",
    "\n",
    "def get_lr(optim):\n",
    "    for param_group in optim.param_groups:\n",
    "        return param_group['lr']"
   ]
  },
  {
   "cell_type": "code",
   "execution_count": 41,
   "metadata": {},
   "outputs": [
    {
     "name": "stderr",
     "output_type": "stream",
     "text": [
      "366it [00:22, 16.44it/s]\n",
      "363it [00:21, 17.27it/s]\n"
     ]
    },
    {
     "name": "stdout",
     "output_type": "stream",
     "text": [
      "1 epcoh , time = 43.29\n",
      "train loss : 2.37345, val_loss : 2.14374\n",
      "train IoU : 0.15967, val IoU : 0.19124\n",
      "train Acc : 0.59047, val Acc : 0.71302\n"
     ]
    },
    {
     "name": "stderr",
     "output_type": "stream",
     "text": [
      "366it [00:21, 17.36it/s]\n",
      "363it [00:20, 17.82it/s]\n"
     ]
    },
    {
     "name": "stdout",
     "output_type": "stream",
     "text": [
      "2 epcoh , time = 41.46\n",
      "train loss : 1.74619, val_loss : 1.41043\n",
      "train IoU : 0.21665, val IoU : 0.23967\n",
      "train Acc : 0.74797, val Acc : 0.78161\n"
     ]
    },
    {
     "name": "stderr",
     "output_type": "stream",
     "text": [
      "366it [00:20, 17.49it/s]\n",
      "363it [00:20, 17.58it/s]\n"
     ]
    },
    {
     "name": "stdout",
     "output_type": "stream",
     "text": [
      "3 epcoh , time = 41.58\n",
      "train loss : 1.41890, val_loss : 1.17468\n",
      "train IoU : 0.23789, val IoU : 0.23896\n",
      "train Acc : 0.77421, val Acc : 0.78859\n"
     ]
    },
    {
     "name": "stderr",
     "output_type": "stream",
     "text": [
      "366it [00:21, 16.95it/s]\n",
      "363it [00:21, 17.28it/s]\n"
     ]
    },
    {
     "name": "stdout",
     "output_type": "stream",
     "text": [
      "4 epcoh , time = 42.60\n",
      "train loss : 1.22036, val_loss : 1.05049\n",
      "train IoU : 0.25166, val IoU : 0.26369\n",
      "train Acc : 0.78567, val Acc : 0.79776\n"
     ]
    },
    {
     "name": "stderr",
     "output_type": "stream",
     "text": [
      "366it [00:21, 16.69it/s]\n",
      "363it [00:20, 17.72it/s]\n"
     ]
    },
    {
     "name": "stdout",
     "output_type": "stream",
     "text": [
      "5 epcoh , time = 42.42\n",
      "train loss : 1.07157, val_loss : 0.97131\n",
      "train IoU : 0.27083, val IoU : 0.27597\n",
      "train Acc : 0.79571, val Acc : 0.80234\n"
     ]
    },
    {
     "name": "stderr",
     "output_type": "stream",
     "text": [
      "366it [00:20, 17.47it/s]\n",
      "363it [00:20, 17.97it/s]\n"
     ]
    },
    {
     "name": "stdout",
     "output_type": "stream",
     "text": [
      "6 epcoh , time = 41.16\n",
      "train loss : 0.96960, val_loss : 0.86665\n",
      "train IoU : 0.28224, val IoU : 0.30094\n",
      "train Acc : 0.80344, val Acc : 0.81321\n"
     ]
    },
    {
     "name": "stderr",
     "output_type": "stream",
     "text": [
      "366it [00:21, 17.25it/s]\n",
      "363it [00:20, 18.01it/s]\n"
     ]
    },
    {
     "name": "stdout",
     "output_type": "stream",
     "text": [
      "7 epcoh , time = 41.38\n",
      "train loss : 0.88330, val_loss : 0.83454\n",
      "train IoU : 0.30460, val IoU : 0.32193\n",
      "train Acc : 0.81220, val Acc : 0.81927\n"
     ]
    },
    {
     "name": "stderr",
     "output_type": "stream",
     "text": [
      "366it [00:20, 17.56it/s]\n",
      "363it [00:20, 17.98it/s]\n"
     ]
    },
    {
     "name": "stdout",
     "output_type": "stream",
     "text": [
      "8 epcoh , time = 41.03\n",
      "train loss : 0.80278, val_loss : 0.78075\n",
      "train IoU : 0.33677, val IoU : 0.35080\n",
      "train Acc : 0.82397, val Acc : 0.82713\n"
     ]
    },
    {
     "name": "stderr",
     "output_type": "stream",
     "text": [
      "366it [00:21, 17.37it/s]\n",
      "363it [00:20, 18.05it/s]\n"
     ]
    },
    {
     "name": "stdout",
     "output_type": "stream",
     "text": [
      "9 epcoh , time = 41.19\n",
      "train loss : 0.73733, val_loss : 0.78816\n",
      "train IoU : 0.36188, val IoU : 0.36342\n",
      "train Acc : 0.83303, val Acc : 0.82694\n"
     ]
    },
    {
     "name": "stderr",
     "output_type": "stream",
     "text": [
      "366it [00:21, 17.30it/s]\n",
      "363it [00:20, 17.98it/s]\n"
     ]
    },
    {
     "name": "stdout",
     "output_type": "stream",
     "text": [
      "10 epcoh , time = 41.35\n",
      "train loss : 0.66149, val_loss : 0.71975\n",
      "train IoU : 0.39907, val IoU : 0.37129\n",
      "train Acc : 0.84512, val Acc : 0.83376\n"
     ]
    },
    {
     "name": "stderr",
     "output_type": "stream",
     "text": [
      "366it [00:21, 17.20it/s]\n",
      "363it [00:20, 17.70it/s]\n"
     ]
    },
    {
     "name": "stdout",
     "output_type": "stream",
     "text": [
      "11 epcoh , time = 41.80\n",
      "train loss : 0.62727, val_loss : 0.68910\n",
      "train IoU : 0.42719, val IoU : 0.39160\n",
      "train Acc : 0.85345, val Acc : 0.83597\n"
     ]
    },
    {
     "name": "stderr",
     "output_type": "stream",
     "text": [
      "366it [00:21, 17.09it/s]\n",
      "363it [00:20, 17.57it/s]\n"
     ]
    },
    {
     "name": "stdout",
     "output_type": "stream",
     "text": [
      "12 epcoh , time = 42.08\n",
      "train loss : 0.56522, val_loss : 0.68530\n",
      "train IoU : 0.45594, val IoU : 0.42609\n",
      "train Acc : 0.86408, val Acc : 0.84070\n"
     ]
    },
    {
     "name": "stderr",
     "output_type": "stream",
     "text": [
      "366it [00:20, 17.45it/s]\n",
      "363it [00:20, 17.87it/s]\n"
     ]
    },
    {
     "name": "stdout",
     "output_type": "stream",
     "text": [
      "13 epcoh , time = 41.29\n",
      "train loss : 0.51510, val_loss : 0.67369\n",
      "train IoU : 0.48849, val IoU : 0.42505\n",
      "train Acc : 0.87618, val Acc : 0.84550\n"
     ]
    },
    {
     "name": "stderr",
     "output_type": "stream",
     "text": [
      "366it [00:21, 16.84it/s]\n",
      "363it [00:21, 16.72it/s]\n"
     ]
    },
    {
     "name": "stdout",
     "output_type": "stream",
     "text": [
      "14 epcoh , time = 43.46\n",
      "train loss : 0.46900, val_loss : 0.65419\n",
      "train IoU : 0.51702, val IoU : 0.41893\n",
      "train Acc : 0.88438, val Acc : 0.84248\n"
     ]
    },
    {
     "name": "stderr",
     "output_type": "stream",
     "text": [
      "366it [00:22, 16.40it/s]\n",
      "363it [00:21, 17.17it/s]\n"
     ]
    },
    {
     "name": "stdout",
     "output_type": "stream",
     "text": [
      "15 epcoh , time = 43.46\n",
      "train loss : 0.42770, val_loss : 0.65783\n",
      "train IoU : 0.54407, val IoU : 0.43874\n",
      "train Acc : 0.89355, val Acc : 0.84426\n"
     ]
    },
    {
     "name": "stderr",
     "output_type": "stream",
     "text": [
      "366it [00:21, 16.71it/s]\n",
      "363it [00:21, 17.22it/s]\n"
     ]
    },
    {
     "name": "stdout",
     "output_type": "stream",
     "text": [
      "16 epcoh , time = 42.99\n",
      "train loss : 0.39782, val_loss : 0.64869\n",
      "train IoU : 0.56311, val IoU : 0.45172\n",
      "train Acc : 0.89987, val Acc : 0.84709\n"
     ]
    },
    {
     "name": "stderr",
     "output_type": "stream",
     "text": [
      "366it [00:22, 16.08it/s]\n",
      "363it [00:20, 17.93it/s]\n"
     ]
    },
    {
     "name": "stdout",
     "output_type": "stream",
     "text": [
      "17 epcoh , time = 43.02\n",
      "train loss : 0.36038, val_loss : 0.63665\n",
      "train IoU : 0.59086, val IoU : 0.45727\n",
      "train Acc : 0.90849, val Acc : 0.84727\n"
     ]
    },
    {
     "name": "stderr",
     "output_type": "stream",
     "text": [
      "366it [00:22, 16.22it/s]\n",
      "363it [00:21, 16.82it/s]\n"
     ]
    },
    {
     "name": "stdout",
     "output_type": "stream",
     "text": [
      "18 epcoh , time = 44.16\n",
      "train loss : 0.32382, val_loss : 0.64621\n",
      "train IoU : 0.61539, val IoU : 0.45783\n",
      "train Acc : 0.91707, val Acc : 0.84720\n"
     ]
    },
    {
     "name": "stderr",
     "output_type": "stream",
     "text": [
      "366it [00:22, 16.41it/s]\n",
      "363it [00:20, 17.39it/s]\n"
     ]
    },
    {
     "name": "stdout",
     "output_type": "stream",
     "text": [
      "19 epcoh , time = 43.19\n",
      "train loss : 0.30021, val_loss : 0.64459\n",
      "train IoU : 0.63552, val IoU : 0.46697\n",
      "train Acc : 0.92272, val Acc : 0.84980\n"
     ]
    },
    {
     "name": "stderr",
     "output_type": "stream",
     "text": [
      "366it [00:21, 16.95it/s]\n",
      "363it [00:20, 17.73it/s]\n"
     ]
    },
    {
     "name": "stdout",
     "output_type": "stream",
     "text": [
      "20 epcoh , time = 42.08\n",
      "train loss : 0.27993, val_loss : 0.64297\n",
      "train IoU : 0.65126, val IoU : 0.46398\n",
      "train Acc : 0.92723, val Acc : 0.84695\n"
     ]
    },
    {
     "name": "stderr",
     "output_type": "stream",
     "text": [
      "366it [00:21, 17.14it/s]\n",
      "363it [00:20, 17.46it/s]\n"
     ]
    },
    {
     "name": "stdout",
     "output_type": "stream",
     "text": [
      "21 epcoh , time = 42.15\n",
      "train loss : 0.25889, val_loss : 0.64091\n",
      "train IoU : 0.66681, val IoU : 0.44595\n",
      "train Acc : 0.93222, val Acc : 0.84554\n"
     ]
    },
    {
     "name": "stderr",
     "output_type": "stream",
     "text": [
      "366it [00:21, 17.08it/s]\n",
      "363it [00:21, 16.89it/s]\n"
     ]
    },
    {
     "name": "stdout",
     "output_type": "stream",
     "text": [
      "22 epcoh , time = 42.93\n",
      "train loss : 0.23220, val_loss : 0.61683\n",
      "train IoU : 0.68772, val IoU : 0.46504\n",
      "train Acc : 0.93910, val Acc : 0.84932\n"
     ]
    },
    {
     "name": "stderr",
     "output_type": "stream",
     "text": [
      "366it [00:21, 16.98it/s]\n",
      "363it [00:20, 17.82it/s]\n"
     ]
    },
    {
     "name": "stdout",
     "output_type": "stream",
     "text": [
      "23 epcoh , time = 41.93\n",
      "train loss : 0.21604, val_loss : 0.62327\n",
      "train IoU : 0.69811, val IoU : 0.46596\n",
      "train Acc : 0.94318, val Acc : 0.84648\n"
     ]
    },
    {
     "name": "stderr",
     "output_type": "stream",
     "text": [
      "366it [00:21, 16.64it/s]\n",
      "363it [00:21, 16.86it/s]\n"
     ]
    },
    {
     "name": "stdout",
     "output_type": "stream",
     "text": [
      "24 epcoh , time = 43.52\n",
      "train loss : 0.19877, val_loss : 0.64153\n",
      "train IoU : 0.72178, val IoU : 0.46788\n",
      "train Acc : 0.94765, val Acc : 0.84835\n"
     ]
    },
    {
     "name": "stderr",
     "output_type": "stream",
     "text": [
      "366it [00:21, 17.00it/s]\n",
      "363it [00:20, 17.37it/s]\n"
     ]
    },
    {
     "name": "stdout",
     "output_type": "stream",
     "text": [
      "25 epcoh , time = 42.43\n",
      "train loss : 0.19114, val_loss : 0.65486\n",
      "train IoU : 0.72866, val IoU : 0.45703\n",
      "train Acc : 0.94985, val Acc : 0.84755\n"
     ]
    },
    {
     "name": "stderr",
     "output_type": "stream",
     "text": [
      "366it [00:21, 17.39it/s]\n",
      "363it [00:20, 17.90it/s]\n"
     ]
    },
    {
     "name": "stdout",
     "output_type": "stream",
     "text": [
      "26 epcoh , time = 41.33\n",
      "train loss : 0.17312, val_loss : 0.63936\n",
      "train IoU : 0.74732, val IoU : 0.45773\n",
      "train Acc : 0.95445, val Acc : 0.84639\n"
     ]
    },
    {
     "name": "stderr",
     "output_type": "stream",
     "text": [
      "366it [00:20, 17.52it/s]\n",
      "363it [00:20, 17.42it/s]"
     ]
    },
    {
     "name": "stdout",
     "output_type": "stream",
     "text": [
      "27 epcoh , time = 41.73\n",
      "train loss : 0.15902, val_loss : 0.66889\n",
      "train IoU : 0.75545, val IoU : 0.47014\n",
      "train Acc : 0.95750, val Acc : 0.84593\n",
      "Stop loss not decrease\n",
      "Finish Training\n"
     ]
    },
    {
     "name": "stderr",
     "output_type": "stream",
     "text": [
      "\n"
     ]
    }
   ],
   "source": [
    "# 학습\n",
    "FCN.to(device)\n",
    "epochs= 100\n",
    "best_loss = 0\n",
    "train_loss_list = []\n",
    "train_acc_list = []\n",
    "train_iou_list = []\n",
    "val_loss_list = []\n",
    "val_acc_list = []\n",
    "val_iou_list = []\n",
    "min_loss = np.inf\n",
    "stop_count = 0\n",
    "lrs = []\n",
    "for epoch in range(epochs):\n",
    "    val_running_loss = 0\n",
    "    train_running_loss =0\n",
    "    start_time = time.time()\n",
    "    train_iou_score = 0\n",
    "    val_iou_score =0\n",
    "    train_acc = 0\n",
    "    val_acc = 0\n",
    "\n",
    "    FCN.train()\n",
    "    for iter,data in tqdm(enumerate(train_loader)):\n",
    "        inputs, labels = data\n",
    "        inputs = inputs.to(device)\n",
    "        labels = labels.to(device)\n",
    "        optimizer.zero_grad()\n",
    "        outputs = FCN(inputs)\n",
    "        # print(f'input shape : {inputs.shape}')\n",
    "        # print(f'output shape : {outputs[0][0].shape}')\n",
    "        # print(f'output  --{outputs[0][0]}')\n",
    "        # print(f'labels shape : {labels.shape}')\n",
    "        # print(f'lable --{labels[labels>0]}')\n",
    "        loss = criterion(outputs,labels) \n",
    "        loss.backward()\n",
    "        optimizer.step()\n",
    "\n",
    "        train_iou_score += mIoU(outputs, labels)\n",
    "        train_acc += pixel_accuracy(outputs, labels)\n",
    "        train_running_loss += loss.item()\n",
    "    \n",
    "    FCN.eval()\n",
    "    with torch.no_grad():\n",
    "        for iter, vdata in tqdm(enumerate(val_loader)):\n",
    "            vinputs, vlabels = vdata\n",
    "            vinputs = vinputs.to(device)\n",
    "            vlabels = vlabels.to(device)\n",
    "\n",
    "            voutputs = FCN(vinputs)\n",
    "            vloss = criterion(voutputs,vlabels)\n",
    "\n",
    "            val_running_loss += vloss.item()\n",
    "            val_iou_score += mIoU(voutputs,vlabels)\n",
    "            val_acc += pixel_accuracy(voutputs,vlabels)\n",
    "\n",
    "\n",
    "        train_running_loss /= len(train_loader)\n",
    "        train_iou_score /=len(train_loader)\n",
    "        train_acc /=len(train_loader)\n",
    "        val_running_loss /= len(val_loader)\n",
    "        val_iou_score /=len(val_loader)\n",
    "        val_acc /=len(val_loader)\n",
    "        lrs.append(get_lr(optimizer))\n",
    "\n",
    "        print(f'{epoch+1} epcoh , time = {time.time()-start_time:.2f}')\n",
    "        print(f'train loss : {train_running_loss:.5f}, val_loss : {val_running_loss:.5f}')\n",
    "        print(f'train IoU : {train_iou_score:.5f}, val IoU : {val_iou_score:.5f}')\n",
    "        print(f'train Acc : {train_acc:.5f}, val Acc : {val_acc:.5f}')\n",
    "        train_loss_list.append(train_running_loss)\n",
    "        train_iou_list.append(train_iou_score)\n",
    "        train_acc_list.append(train_acc)\n",
    "        val_loss_list.append(val_running_loss)\n",
    "        val_iou_list.append(val_iou_score)\n",
    "        val_acc_list.append(val_acc)\n",
    "\n",
    "        if min_loss < val_running_loss:\n",
    "            #min_loss = val_running_loss\n",
    "            stop_count +=1\n",
    "            if stop_count == 5:\n",
    "                print('Stop loss not decrease')\n",
    "\n",
    "                break\n",
    "        elif min_loss > val_running_loss:\n",
    "            min_loss = val_running_loss\n",
    "            stop_count = 0\n",
    "            #print('save model')\n",
    "            torch.save(FCN, './models/FCN16-Vgg19_up.pt') \n",
    "            \n",
    "                   \n",
    "history = {'train_loss': train_loss_list, 'val_loss':val_loss_list,'train_miou': train_iou_list,\n",
    "'val_miou':val_iou_list,'train_acc':train_acc_list,'val_acc':val_acc_list, 'lr':lrs}\n",
    "print('Finish Training')"
   ]
  },
  {
   "cell_type": "code",
   "execution_count": 42,
   "metadata": {},
   "outputs": [
    {
     "data": {
      "image/png": "[encoded data removed]",
      "text/plain": [
       "<Figure size 432x288 with 1 Axes>"
      ]
     },
     "metadata": {
      "needs_background": "light"
     },
     "output_type": "display_data"
    },
    {
     "data": {
      "image/png": "[encoded data removed]",
      "text/plain": [
       "<Figure size 432x288 with 1 Axes>"
      ]
     },
     "metadata": {
      "needs_background": "light"
     },
     "output_type": "display_data"
    },
    {
     "data": {
      "image/png": "[encoded data removed]",
      "text/plain": [
       "<Figure size 432x288 with 1 Axes>"
      ]
     },
     "metadata": {
      "needs_background": "light"
     },
     "output_type": "display_data"
    }
   ],
   "source": [
    "history = {'train_loss': train_loss_list, 'val_loss':val_loss_list,'train_miou': train_iou_list,\n",
    "'val_miou':val_iou_list,'train_acc':train_acc_list,'val_acc':val_acc_list,'lr':lrs}\n",
    "def plot_loss(history):\n",
    "    plt.plot(history['train_loss'], label='train_loss')\n",
    "    plt.plot(history['val_loss'], label='val_loss')\n",
    "    plt.title('Loss')\n",
    "    plt.xlabel('epoch')\n",
    "    plt.ylabel('loss')\n",
    "    plt.legend()\n",
    "    plt.show()\n",
    "\n",
    "def plot_miou(history):\n",
    "    plt.plot(history['train_miou'], label='train_miou')\n",
    "    plt.plot(history['val_miou'], label='val_miou')\n",
    "    plt.title('MIoU')\n",
    "    plt.xlabel('epoch')\n",
    "    plt.ylabel('miou')\n",
    "    plt.legend()\n",
    "    plt.show()\n",
    "\n",
    "def plot_acc(history):\n",
    "    plt.plot(history['train_acc'], label='train_acc')\n",
    "    plt.plot(history['val_acc'], label='val_acc')\n",
    "    plt.title('Accuracy')\n",
    "    plt.xlabel('epoch')\n",
    "    plt.ylabel('acc')\n",
    "    plt.legend()\n",
    "    plt.show()\n",
    "plot_loss(history)\n",
    "plot_acc(history)\n",
    "plot_miou(history)"
   ]
  },
  {
   "cell_type": "code",
   "execution_count": 43,
   "metadata": {},
   "outputs": [
    {
     "name": "stdout",
     "output_type": "stream",
     "text": [
      "[0.0001, 0.0001, 0.0001, 0.0001, 0.0001, 0.0001, 0.0001, 0.0001, 0.0001, 0.0001, 0.0001, 0.0001, 0.0001, 0.0001, 0.0001, 0.0001, 0.0001, 0.0001, 0.0001, 0.0001, 0.0001, 0.0001, 0.0001, 0.0001, 0.0001, 0.0001, 0.0001]\n"
     ]
    }
   ],
   "source": [
    "print(history['lr'])"
   ]
  },
  {
   "cell_type": "code",
   "execution_count": 44,
   "metadata": {},
   "outputs": [
    {
     "name": "stdout",
     "output_type": "stream",
     "text": [
      "torch.Size([4, 3, 224, 224])\n",
      "torch.Size([4, 21, 224, 224])\n",
      "torch.Size([4, 224, 224])\n"
     ]
    },
    {
     "data": {
      "text/plain": [
       "<matplotlib.image.AxesImage at 0x7fe2c5e20880>"
      ]
     },
     "execution_count": 44,
     "metadata": {},
     "output_type": "execute_result"
    },
    {
     "data": {
      "image/png": "[encoded data removed]",
      "text/plain": [
       "<Figure size 432x288 with 1 Axes>"
      ]
     },
     "metadata": {
      "needs_background": "light"
     },
     "output_type": "display_data"
    }
   ],
   "source": [
    "a, b= train_set[0]\n",
    "FCN.eval()\n",
    "with torch.no_grad():\n",
    "    for i, data in enumerate(train_loader):\n",
    "        a, b = data\n",
    "        FCN.to(device)\n",
    "        print(a.shape)\n",
    "        a = a.to(device)\n",
    "        c = FCN(a)\n",
    "        break\n",
    "\n",
    "print(c.shape)\n",
    "mask = torch.argmax(c, dim=1)\n",
    "print(mask.shape)\n",
    "#print(c[0])\n",
    "plt.imshow(mask[0].cpu())\n",
    "# t = a.view(8,224,224,3)\n",
    "# # t = t.view(224,224,3)\n",
    "# plt.figure(figsize=(10,10))\n",
    "# plt.subplot(1,3,1)\n",
    "# plt.imshow(mask[0].cpu())\n",
    "# plt.subplot(1,3,2)\n",
    "# plt.imshow(b[0].cpu())\n",
    "# plt.subplot(1,3,3)\n",
    "# plt.imshow(t[0].cpu())\n"
   ]
  },
  {
   "cell_type": "code",
   "execution_count": null,
   "metadata": {},
   "outputs": [],
   "source": []
  }
 ],
 "metadata": {
  "interpreter": {
   "hash": "d4d1e4263499bec80672ea0156c357c1ee493ec2b1c70f0acce89fc37c4a6abe"
  },
  "kernelspec": {
   "display_name": "Python 3.8.12 ('base')",
   "language": "python",
   "name": "python3"
  },
  "language_info": {
   "codemirror_mode": {
    "name": "ipython",
    "version": 3
   },
   "file_extension": ".py",
   "mimetype": "text/x-python",
   "name": "python",
   "nbconvert_exporter": "python",
   "pygments_lexer": "ipython3",
   "version": "3.8.12"
  },
  "orig_nbformat": 4
 },
 "nbformat": 4,
 "nbformat_minor": 2
}
