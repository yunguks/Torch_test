{
 "cells": [
  {
   "cell_type": "code",
   "execution_count": 27,
   "metadata": {},
   "outputs": [],
   "source": [
    "# 참고 https://visionhong.tistory.com/25\n",
    "import torch\n",
    "import torch.nn as nn\n",
    "from PIL import Image\n",
    "import einops"
   ]
  },
  {
   "cell_type": "code",
   "execution_count": 28,
   "metadata": {},
   "outputs": [],
   "source": [
    "class PatchEmbed(nn.Module):\n",
    "    def __init__(self, img_size, patch_size, in_channels=3, emb_dim=768):\n",
    "        super(PatchEmbed, self).__init__()\n",
    "        assert img_size % patch_size ==0, 'Image dimensions must be divisible by the patch size.'\n",
    "\n",
    "        self.img_size = img_size\n",
    "        self.patch_size = patch_size\n",
    "        self.num_patch = (img_size//patch_size)**2\n",
    "\n",
    "        self.proj = nn.Conv2d(\n",
    "            in_channels=in_channels,\n",
    "            out_channels=emb_dim,\n",
    "            kernel_size = patch_size,\n",
    "            stride=patch_size,\n",
    "        )\n",
    "    def forward(self,x):\n",
    "        # [ b, emb_size, num_patch ** 0.5 , num_patch ** 0.5 ]\n",
    "        x = self.proj(x)\n",
    "\n",
    "        # # [ b, emb_size, num_patch ] \n",
    "        # x = x.flatten(2)\n",
    "        # # [ b, num_patch, emb_size ]\n",
    "        # x = x.transpose(1,2)\n",
    "        \n",
    "        # or\n",
    "        x = einops.rearrange(x, 'b e w h -> b (w h) e')\n",
    "        return x"
   ]
  },
  {
   "cell_type": "code",
   "execution_count": 29,
   "metadata": {},
   "outputs": [
    {
     "data": {
      "text/plain": [
       "torch.Size([1, 196, 768])"
      ]
     },
     "execution_count": 29,
     "metadata": {},
     "output_type": "execute_result"
    }
   ],
   "source": [
    "test = torch.zeros(1,3,224,224)\n",
    "patch_emb = PatchEmbed(img_size=224,patch_size=16)\n",
    "x = patch_emb(test)\n",
    "x.shape"
   ]
  },
  {
   "cell_type": "code",
   "execution_count": 53,
   "metadata": {},
   "outputs": [],
   "source": [
    "class MultiHeadAttetion(nn.Module):\n",
    "    def __init__(self, emb_dim=768, n_heads=12, qkv_bias=True, attn_drop=0., proj_drop=0.):\n",
    "        super().__init__()\n",
    "        self.n_heads= n_heads\n",
    "        self.emb_dim = emb_dim\n",
    "        self.head_dim = emb_dim // n_heads\n",
    "        self.scale = self.head_dim ** (-0.5)\n",
    "\n",
    "        self.q = nn.Linear(emb_dim, emb_dim, bias=qkv_bias)\n",
    "        self.k = nn.Linear(emb_dim, emb_dim, bias=qkv_bias)\n",
    "        self.v = nn.Linear(emb_dim, emb_dim, bias=qkv_bias)\n",
    "        \n",
    "        self.attn_drop = nn.Dropout(attn_drop)\n",
    "        self.proj = nn.Linear(emb_dim, emb_dim)\n",
    "        self.proj_drop = nn.Dropout(proj_drop)\n",
    "\n",
    "    def forward(self,x):\n",
    "        b, num_patch, dim = x.shape\n",
    "        if dim != self.emb_dim:\n",
    "            raise ValueError\n",
    "\n",
    "        query = self.q(x)\n",
    "        key = self.k(x)\n",
    "        value = self.v(x)\n",
    "        \n",
    "        # [batch, num_patch+1, emb_size] -> [bach, n_head, num_patch+1, emb_size/n_head]\n",
    "        query = einops.rearrange(query,'b p (h w) -> b h p w', h=self.n_heads)\n",
    "        key = einops.rearrange(key,'b p (h w) -> b h p w', h=self.n_heads)\n",
    "        value = einops.rearrange(value,'b p (h w) -> b h p w', h=self.n_heads)\n",
    "        \n",
    "        # score = query * key^t\n",
    "        # [batch, n_head, num_patch+1, num_patch+1] / result\n",
    "        score = torch.einsum('bhqd , bhkd -> bhqk', query,key) *self.scale\n",
    "        \n",
    "        # 0~1로 \n",
    "        atten = torch.nn.functional.softmax(score, dim= -1)\n",
    "        atten = self.attn_drop(atten)\n",
    "        \n",
    "        # atten * value\n",
    "        # [batch, n_head, num_patch+1, num_patch+1]  -> [batch, n_head, num_patch+1, num_patch+1]\n",
    "        out = torch.einsum('bhaz , bhzd -> bhad', atten,value)\n",
    "        # [batch, num_patch+1, emb_size]\n",
    "        out = einops.rearrange(out,'b h p e -> b p (h e)')\n",
    "\n",
    "\n",
    "        # attention 의 차원을 조절 할 수 있음\n",
    "        x = self.proj(out)\n",
    "        x = self.proj_drop(x)\n",
    "        return x\n"
   ]
  },
  {
   "cell_type": "code",
   "execution_count": 54,
   "metadata": {},
   "outputs": [],
   "source": [
    "Mutliattention = MultiHeadAttetion()\n",
    "result = Mutliattention(x)"
   ]
  },
  {
   "cell_type": "code",
   "execution_count": 64,
   "metadata": {},
   "outputs": [],
   "source": [
    "class MLP(nn.Module):\n",
    "    def __init__(self, emb_size:int=768, expand_ratio:int=4, output_size:int=768, p:float =0.):\n",
    "        super().__init__()\n",
    "        self.fc1 = nn.Linear(emb_size,emb_size * expand_ratio)\n",
    "        # GELU -> Gaussian error Linear unit 수렴속도가 빠르다\n",
    "        self.gelu = nn.GELU()\n",
    "        self.fc2 = nn.Linear(emb_size * expand_ratio, output_size)\n",
    "        self.drop = nn.Dropout(p)\n",
    "    \n",
    "    def forward(self, x):\n",
    "        x = self.fc1(x)\n",
    "        x = self.gelu(x)\n",
    "        x = self.drop(x)\n",
    "        x = self.fc2(x)\n",
    "        return x"
   ]
  },
  {
   "cell_type": "code",
   "execution_count": 65,
   "metadata": {},
   "outputs": [],
   "source": [
    "class ViTEncoderBlock(nn.Module):\n",
    "    def __init__(self, emb_size, n_heads:int=12, mlp_ratio:int=4,qkv_bias=True,attn_p=0.,p=0.):\n",
    "        super().__init__()\n",
    "        self.norm1 = nn.LayerNorm(emb_size,eps=1e-6)\n",
    "        self.attn = MultiHeadAttetion(emb_size,n_heads,qkv_bias,attn_p,proj_drop=p)\n",
    "        self.norm2 = nn.LayerNorm(emb_size,eps=1e-6)\n",
    "        self.mlp = MLP(emb_size,expand_ratio=mlp_ratio,output_size=emb_size)\n",
    "\n",
    "    def forward(self,x):\n",
    "        # residual block\n",
    "        x = x + self.attn(self.norm1(x))\n",
    "        x = x + self.mlp(self.norm2(x))\n",
    "        return x"
   ]
  },
  {
   "cell_type": "code",
   "execution_count": 70,
   "metadata": {},
   "outputs": [],
   "source": [
    "class ViT(nn.Module):\n",
    "    def __init__(\n",
    "        self,\n",
    "        img_size=224,\n",
    "        patch_size=16,\n",
    "        in_channels=3,\n",
    "        n_classes=1000,\n",
    "        emb_size = 768,\n",
    "        depth=12,\n",
    "        n_heads=12,\n",
    "        mlp_ratio=4,\n",
    "        qkv_bias=True,\n",
    "        p=0.,\n",
    "        attn_p=0.):\n",
    "        super().__init__()\n",
    "        \n",
    "        self.patch_embed = PatchEmbed(\n",
    "            img_size=img_size,patch_size=patch_size,in_channels=in_channels,emb_dim=emb_size\n",
    "        )\n",
    "        \n",
    "        # class \n",
    "        self.cls_token =nn.Parameter(torch.zeros(1,1,emb_size))\n",
    "        self.pos_emb = nn.Parameter(torch.zeros(1,1+self.patch_embed.num_patch,emb_size))\n",
    "        self.pos_drop = nn.Dropout(p)\n",
    "\n",
    "        self.blocks = nn.ModuleList(\n",
    "            [\n",
    "                ViTEncoderBlock(\n",
    "                    emb_size=emb_size,\n",
    "                    n_heads=n_heads,\n",
    "                    mlp_ratio=mlp_ratio,\n",
    "                    qkv_bias=qkv_bias,\n",
    "                    attn_p=attn_p,\n",
    "                    p=p\n",
    "                )\n",
    "                for _ in range(depth)    \n",
    "            ]\n",
    "        )\n",
    "\n",
    "        self.norm=nn.LayerNorm(emb_size, eps=1e-6)\n",
    "        self.head = nn.Linear(emb_size, n_classes)\n",
    "    \n",
    "    def forward(self,x):\n",
    "        n_samples = x.shape[0]\n",
    "        # [batch, num_patch, emb_dim]\n",
    "        x = self.patch_embed(x)\n",
    "        # [batch, 1, emb_dim]\n",
    "        cls_token = self.cls_token.expand(n_samples,-1,-1)\n",
    "        # [batch, num_patch+1, emb_dim]\n",
    "        x = torch.cat((cls_token,x), dim=1)\n",
    "\n",
    "        x = x + self.pos_emb\n",
    "        x = self.pos_drop(x)\n",
    "\n",
    "        for block in self.blocks:\n",
    "            x = block(x)\n",
    "\n",
    "        x = self.norm(x)\n",
    "        # [batch, num_patch+1, emb_dim]\n",
    " \n",
    "        # [batch, emb_dim] // 맨앞 class의 emb_dim\n",
    "        # 이미지 전체의 embedding 을 표현할 것으로 가정\n",
    "        cls_token_final = x[:,0]\n",
    "        \n",
    "        # [batch, n_classes] // 예측\n",
    "        x = self.head(cls_token_final)\n",
    "        x = torch.nn.functional.softmax(x, dim=1)\n",
    "\n",
    "        return x\n",
    "        "
   ]
  },
  {
   "cell_type": "code",
   "execution_count": 71,
   "metadata": {},
   "outputs": [
    {
     "name": "stdout",
     "output_type": "stream",
     "text": [
      "torch.Size([1, 197, 768])\n",
      "torch.Size([1, 768])\n",
      "torch.Size([1, 1000])\n"
     ]
    }
   ],
   "source": [
    "model = ViT()\n",
    "result = model(test)\n",
    "print(result.shape)"
   ]
  },
  {
   "cell_type": "code",
   "execution_count": null,
   "metadata": {},
   "outputs": [],
   "source": []
  }
 ],
 "metadata": {
  "kernelspec": {
   "display_name": "Python 3.8.12 ('base')",
   "language": "python",
   "name": "python3"
  },
  "language_info": {
   "codemirror_mode": {
    "name": "ipython",
    "version": 3
   },
   "file_extension": ".py",
   "mimetype": "text/x-python",
   "name": "python",
   "nbconvert_exporter": "python",
   "pygments_lexer": "ipython3",
   "version": "3.8.12"
  },
  "orig_nbformat": 4,
  "vscode": {
   "interpreter": {
    "hash": "d4d1e4263499bec80672ea0156c357c1ee493ec2b1c70f0acce89fc37c4a6abe"
   }
  }
 },
 "nbformat": 4,
 "nbformat_minor": 2
}
