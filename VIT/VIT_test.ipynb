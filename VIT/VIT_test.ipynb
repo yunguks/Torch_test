{
 "cells": [
  {
   "cell_type": "code",
   "execution_count": 27,
   "metadata": {},
   "outputs": [],
   "source": [
    "import torch\n",
    "import torch.nn as nn\n",
    "from PIL import Image\n",
    "import einops"
   ]
  },
  {
   "cell_type": "code",
   "execution_count": 28,
   "metadata": {},
   "outputs": [],
   "source": [
    "class PatchEmbed(nn.Module):\n",
    "    def __init__(self, img_size, patch_size, in_channels=3, emb_dim=768):\n",
    "        super(PatchEmbed, self).__init__()\n",
    "        assert img_size % patch_size ==0, 'Image dimensions must be divisible by the patch size.'\n",
    "\n",
    "        self.img_size = img_size\n",
    "        self.patch_size = patch_size\n",
    "        self.num_patch = (img_size//patch_size)**2\n",
    "\n",
    "        self.proj = nn.Conv2d(\n",
    "            in_channels=in_channels,\n",
    "            out_channels=emb_dim,\n",
    "            kernel_size = patch_size,\n",
    "            stride=patch_size,\n",
    "        )\n",
    "    def forward(self,x):\n",
    "        # [ b, emb_size, num_patch ** 0.5 , num_patch ** 0.5 ]\n",
    "        x = self.proj(x)\n",
    "\n",
    "        # # [ b, emb_size, num_patch ] \n",
    "        # x = x.flatten(2)\n",
    "        # # [ b, num_patch, emb_size ]\n",
    "        # x = x.transpose(1,2)\n",
    "        \n",
    "        # or\n",
    "        x = einops.rearrange(x, 'b e w h -> b (w h) e')\n",
    "        return x"
   ]
  },
  {
   "cell_type": "code",
   "execution_count": 29,
   "metadata": {},
   "outputs": [
    {
     "data": {
      "text/plain": [
       "torch.Size([1, 196, 768])"
      ]
     },
     "execution_count": 29,
     "metadata": {},
     "output_type": "execute_result"
    }
   ],
   "source": [
    "test = torch.zeros(1,3,224,224)\n",
    "patch_emb = PatchEmbed(img_size=224,patch_size=16)\n",
    "x = patch_emb(test)\n",
    "x.shape"
   ]
  },
  {
   "cell_type": "code",
   "execution_count": 53,
   "metadata": {},
   "outputs": [],
   "source": [
    "class MultiHeadAttetion(nn.Module):\n",
    "    def __init__(self, emb_dim=768, n_heads=12, qkv_bias=True, attn_drop=0., proj_drop=0.):\n",
    "        super().__init__()\n",
    "        self.n_heads= n_heads\n",
    "        self.emb_dim = emb_dim\n",
    "        self.head_dim = emb_dim // n_heads\n",
    "        self.scale = self.head_dim ** (-0.5)\n",
    "\n",
    "        self.q = nn.Linear(emb_dim, emb_dim, bias=qkv_bias)\n",
    "        self.k = nn.Linear(emb_dim, emb_dim, bias=qkv_bias)\n",
    "        self.v = nn.Linear(emb_dim, emb_dim, bias=qkv_bias)\n",
    "        \n",
    "        self.attn_drop = nn.Dropout(attn_drop)\n",
    "        self.proj = nn.Linear(emb_dim, emb_dim)\n",
    "        self.proj_drop = nn.Dropout(proj_drop)\n",
    "\n",
    "    def forward(self,x):\n",
    "        b, num_patch, dim = x.shape\n",
    "        if dim != self.emb_dim:\n",
    "            raise ValueError\n",
    "\n",
    "        query = self.q(x)\n",
    "        key = self.k(x)\n",
    "        value = self.v(x)\n",
    "        \n",
    "        # [batch, num_patch+1, emb_size] -> [bach, n_head, num_patch+1, emb_size/n_head]\n",
    "        query = einops.rearrange(query,'b p (h w) -> b h p w', h=self.n_heads)\n",
    "        key = einops.rearrange(key,'b p (h w) -> b h p w', h=self.n_heads)\n",
    "        value = einops.rearrange(value,'b p (h w) -> b h p w', h=self.n_heads)\n",
    "        \n",
    "        # score = query * key^t\n",
    "        # [batch, n_head, num_patch+1, num_patch+1] / result\n",
    "        score = torch.einsum('bhqd , bhkd -> bhqk', query,key) *self.scale\n",
    "        \n",
    "        # 0~1로 \n",
    "        atten = torch.nn.functional.softmax(score, dim= -1)\n",
    "        atten = self.attn_drop(atten)\n",
    "        \n",
    "        # atten * value\n",
    "        # [batch, n_head, num_patch+1, num_patch+1]  -> [batch, n_head, num_patch+1, num_patch+1]\n",
    "        out = torch.einsum('bhaz , bhzd -> bhad', atten,value)\n",
    "        # [batch, num_patch+1, emb_size]\n",
    "        out = einops.rearrange(out,'b h p e -> b p (h e)')\n",
    "\n",
    "\n",
    "        # attention 의 차원을 조절 할 수 있음\n",
    "        x = self.proj(out)\n",
    "        x = self.proj_drop(x)\n",
    "        return x\n"
   ]
  },
  {
   "cell_type": "code",
   "execution_count": 54,
   "metadata": {},
   "outputs": [],
   "source": [
    "Mutliattention = MultiHeadAttetion()\n",
    "result = Mutliattention(x)"
   ]
  },
  {
   "cell_type": "code",
   "execution_count": 55,
   "metadata": {},
   "outputs": [],
   "source": [
    "class MLP(nn.Module):\n",
    "    def __init__(self, in_features, hidden_features, num_classes, p =0.):\n",
    "        super().__init__()\n",
    "        self.fc1 = nn.Linear(in_features,hidden_features)\n",
    "        # GELU -> Gaussian error Linear unit 수렴속도가 빠르다\n",
    "        self.gelu = nn.GELU()\n",
    "        self.fc2 = nn.Linear(hidden_features, num_classes)\n",
    "        self.drop = nn.Dropout(p)\n",
    "    \n",
    "    def forward(self, x):\n",
    "        x = self.fc1(x)\n",
    "        x = self.gelu(x)\n",
    "        x = self.drop(x)\n",
    "        x = self.fc2(x)\n",
    "        x = self.drop(x)\n",
    "        return x"
   ]
  },
  {
   "cell_type": "code",
   "execution_count": null,
   "metadata": {},
   "outputs": [],
   "source": []
  }
 ],
 "metadata": {
  "kernelspec": {
   "display_name": "Python 3.8.12 ('base')",
   "language": "python",
   "name": "python3"
  },
  "language_info": {
   "codemirror_mode": {
    "name": "ipython",
    "version": 3
   },
   "file_extension": ".py",
   "mimetype": "text/x-python",
   "name": "python",
   "nbconvert_exporter": "python",
   "pygments_lexer": "ipython3",
   "version": "3.8.12"
  },
  "orig_nbformat": 4,
  "vscode": {
   "interpreter": {
    "hash": "d4d1e4263499bec80672ea0156c357c1ee493ec2b1c70f0acce89fc37c4a6abe"
   }
  }
 },
 "nbformat": 4,
 "nbformat_minor": 2
}
